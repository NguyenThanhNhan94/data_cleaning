{
 "cells": [
  {
   "cell_type": "code",
   "execution_count": 3,
   "id": "d1311368",
   "metadata": {},
   "outputs": [],
   "source": [
    "import pandas as pd\n",
    "import numpy as np\n",
    "from matplotlib import pyplot as plt \n",
    "%matplotlib inline\n",
    "import matplotlib\n",
    "matplotlib.rcParams[\"figure.figsize\"] == (20,10)\n",
    "# !pip.install impyute\n",
    "from sklearn import datasets\n",
    "from  sklearn.preprocessing import LabelEncoder,StandardScaler\n",
    "from sklearn.experimental import enable_iterative_imputer\n",
    "from sklearn.impute import IterativeImputer\n",
    "from scipy import stats\n",
    "# import impyute as impy\n",
    "# from fancyimpute import IterativeSVD, SoftImpute, NuclearNormMinimization\n",
    "import time "
   ]
  },
  {
   "cell_type": "code",
   "execution_count": 4,
   "id": "51ec0e0c",
   "metadata": {},
   "outputs": [],
   "source": [
    "df=pd.read_csv(\"DoanhThuDemo.csv\")"
   ]
  },
  {
   "cell_type": "code",
   "execution_count": 5,
   "id": "1e9616d6",
   "metadata": {},
   "outputs": [
    {
     "data": {
      "text/plain": [
       "               0\n",
       "Ma Cua Hang    0\n",
       "Doanh Thu      3\n",
       "Chi Phi        4\n",
       "Loi Nhuan      1\n",
       "dtype: int64"
      ]
     },
     "execution_count": 5,
     "metadata": {},
     "output_type": "execute_result"
    }
   ],
   "source": [
    "df.isnull().sum()"
   ]
  },
  {
   "cell_type": "code",
   "execution_count": 36,
   "id": "cabba137",
   "metadata": {},
   "outputs": [
    {
     "name": "stdout",
     "output_type": "stream",
     "text": [
      "<class 'pandas.core.frame.DataFrame'>\n",
      "RangeIndex: 99129 entries, 0 to 99128\n",
      "Data columns (total 5 columns):\n",
      " #   Column       Non-Null Count  Dtype \n",
      "---  ------       --------------  ----- \n",
      " 0                99129 non-null  object\n",
      " 1   Ma Cua Hang  99129 non-null  object\n",
      " 2   Doanh Thu    99126 non-null  object\n",
      " 3   Chi Phi      99125 non-null  object\n",
      " 4   Loi Nhuan    99128 non-null  object\n",
      "dtypes: object(5)\n",
      "memory usage: 3.8+ MB\n"
     ]
    }
   ],
   "source": [
    "df.info()"
   ]
  },
  {
   "cell_type": "code",
   "execution_count": 5,
   "id": "e4b8b52a",
   "metadata": {},
   "outputs": [],
   "source": [
    "df.shape"
   ]
  },
  {
   "cell_type": "code",
   "execution_count": 33,
   "id": "5cd629ec",
   "metadata": {},
   "outputs": [
    {
     "data": {
      "text/plain": [
       "0              73\n",
       "23748          15\n",
       "22062          12\n",
       "20458          12\n",
       "22333          12\n",
       "               ..\n",
       "14360           1\n",
       "5696            1\n",
       "15420           1\n",
       "18815           1\n",
       "14651-14600     1\n",
       "Name: Doanh Thu, Length: 40236, dtype: int64"
      ]
     },
     "execution_count": 33,
     "metadata": {},
     "output_type": "execute_result"
    }
   ],
   "source": [
    "df['Doanh Thu'].value_counts()"
   ]
  },
  {
   "cell_type": "markdown",
   "id": "d3dcbb65",
   "metadata": {},
   "source": [
    "# tách chuỗi "
   ]
  },
  {
   "cell_type": "code",
   "execution_count": 7,
   "id": "2c006101",
   "metadata": {
    "scrolled": true
   },
   "outputs": [
    {
     "data": {
      "text/plain": [
       "array(['0001', '0002', '0003', ..., '5903', '5904', '5905'], dtype=object)"
      ]
     },
     "execution_count": 7,
     "metadata": {},
     "output_type": "execute_result"
    }
   ],
   "source": [
    "df['So Hieu Cua Hang']=df['Ma Cua Hang'].apply(lambda x: str(x.split(' ')[1]))\n",
    "df['So Hieu Cua Hang'].unique()\n"
   ]
  },
  {
   "cell_type": "code",
   "execution_count": 11,
   "id": "931d1fa9",
   "metadata": {},
   "outputs": [],
   "source": [
    "def is_float(x):\n",
    "    try:\n",
    "            float(x)\n",
    "    except:\n",
    "            return False\n",
    "    return  True"
   ]
  },
  {
   "cell_type": "code",
   "execution_count": 12,
   "id": "e9b63707",
   "metadata": {},
   "outputs": [
    {
     "data": {
      "text/html": [
       "<div>\n",
       "<style scoped>\n",
       "    .dataframe tbody tr th:only-of-type {\n",
       "        vertical-align: middle;\n",
       "    }\n",
       "\n",
       "    .dataframe tbody tr th {\n",
       "        vertical-align: top;\n",
       "    }\n",
       "\n",
       "    .dataframe thead th {\n",
       "        text-align: right;\n",
       "    }\n",
       "</style>\n",
       "<table border=\"1\" class=\"dataframe\">\n",
       "  <thead>\n",
       "    <tr style=\"text-align: right;\">\n",
       "      <th></th>\n",
       "      <th></th>\n",
       "      <th>Ma Cua Hang</th>\n",
       "      <th>Doanh Thu</th>\n",
       "      <th>Chi Phi</th>\n",
       "      <th>Loi Nhuan</th>\n",
       "    </tr>\n",
       "  </thead>\n",
       "  <tbody>\n",
       "    <tr>\n",
       "      <th>4</th>\n",
       "      <td>1/1/2021</td>\n",
       "      <td>CH 0005</td>\n",
       "      <td>9195</td>\n",
       "      <td>7452-7000</td>\n",
       "      <td>1743</td>\n",
       "    </tr>\n",
       "    <tr>\n",
       "      <th>73955</th>\n",
       "      <td>1/13/2021</td>\n",
       "      <td>CH 3994</td>\n",
       "      <td>1882</td>\n",
       "      <td>1604-1604</td>\n",
       "      <td>278</td>\n",
       "    </tr>\n",
       "  </tbody>\n",
       "</table>\n",
       "</div>"
      ],
      "text/plain": [
       "                 Ma Cua Hang Doanh Thu    Chi Phi Loi Nhuan\n",
       "4       1/1/2021     CH 0005      9195  7452-7000      1743\n",
       "73955  1/13/2021     CH 3994      1882  1604-1604       278"
      ]
     },
     "execution_count": 12,
     "metadata": {},
     "output_type": "execute_result"
    }
   ],
   "source": [
    "df[~df['Chi Phi'].apply(is_float)].head(5)"
   ]
  },
  {
   "cell_type": "code",
   "execution_count": 13,
   "id": "2021ff89",
   "metadata": {
    "scrolled": true
   },
   "outputs": [
    {
     "data": {
      "text/html": [
       "<div>\n",
       "<style scoped>\n",
       "    .dataframe tbody tr th:only-of-type {\n",
       "        vertical-align: middle;\n",
       "    }\n",
       "\n",
       "    .dataframe tbody tr th {\n",
       "        vertical-align: top;\n",
       "    }\n",
       "\n",
       "    .dataframe thead th {\n",
       "        text-align: right;\n",
       "    }\n",
       "</style>\n",
       "<table border=\"1\" class=\"dataframe\">\n",
       "  <thead>\n",
       "    <tr style=\"text-align: right;\">\n",
       "      <th></th>\n",
       "      <th></th>\n",
       "      <th>Ma Cua Hang</th>\n",
       "      <th>Doanh Thu</th>\n",
       "      <th>Chi Phi</th>\n",
       "      <th>Loi Nhuan</th>\n",
       "    </tr>\n",
       "  </thead>\n",
       "  <tbody>\n",
       "    <tr>\n",
       "      <th>1</th>\n",
       "      <td>1/1/2021</td>\n",
       "      <td>CH 0002</td>\n",
       "      <td>NaN</td>\n",
       "      <td>NaN</td>\n",
       "      <td>1243-1200</td>\n",
       "    </tr>\n",
       "    <tr>\n",
       "      <th>74059</th>\n",
       "      <td>1/13/2021</td>\n",
       "      <td>CH 4098</td>\n",
       "      <td>8088</td>\n",
       "      <td>7391</td>\n",
       "      <td>697-600</td>\n",
       "    </tr>\n",
       "  </tbody>\n",
       "</table>\n",
       "</div>"
      ],
      "text/plain": [
       "                 Ma Cua Hang Doanh Thu Chi Phi  Loi Nhuan\n",
       "1       1/1/2021     CH 0002       NaN     NaN  1243-1200\n",
       "74059  1/13/2021     CH 4098      8088    7391    697-600"
      ]
     },
     "execution_count": 13,
     "metadata": {},
     "output_type": "execute_result"
    }
   ],
   "source": [
    "df[~df['Loi Nhuan'].apply(is_float)].head(5)"
   ]
  },
  {
   "cell_type": "code",
   "execution_count": 14,
   "id": "4a4dc179",
   "metadata": {},
   "outputs": [
    {
     "data": {
      "text/html": [
       "<div>\n",
       "<style scoped>\n",
       "    .dataframe tbody tr th:only-of-type {\n",
       "        vertical-align: middle;\n",
       "    }\n",
       "\n",
       "    .dataframe tbody tr th {\n",
       "        vertical-align: top;\n",
       "    }\n",
       "\n",
       "    .dataframe thead th {\n",
       "        text-align: right;\n",
       "    }\n",
       "</style>\n",
       "<table border=\"1\" class=\"dataframe\">\n",
       "  <thead>\n",
       "    <tr style=\"text-align: right;\">\n",
       "      <th></th>\n",
       "      <th></th>\n",
       "      <th>Ma Cua Hang</th>\n",
       "      <th>Doanh Thu</th>\n",
       "      <th>Chi Phi</th>\n",
       "      <th>Loi Nhuan</th>\n",
       "    </tr>\n",
       "  </thead>\n",
       "  <tbody>\n",
       "    <tr>\n",
       "      <th>0</th>\n",
       "      <td>1/1/2021</td>\n",
       "      <td>CH 0001</td>\n",
       "      <td>14651-14600</td>\n",
       "      <td>12685</td>\n",
       "      <td>1966</td>\n",
       "    </tr>\n",
       "    <tr>\n",
       "      <th>8</th>\n",
       "      <td>1/1/2021</td>\n",
       "      <td>CH 0009</td>\n",
       "      <td>15918-15900</td>\n",
       "      <td>13716</td>\n",
       "      <td>2202</td>\n",
       "    </tr>\n",
       "    <tr>\n",
       "      <th>15</th>\n",
       "      <td>1/1/2021</td>\n",
       "      <td>CH 0016</td>\n",
       "      <td>32638-32000</td>\n",
       "      <td>26933</td>\n",
       "      <td>5705</td>\n",
       "    </tr>\n",
       "  </tbody>\n",
       "</table>\n",
       "</div>"
      ],
      "text/plain": [
       "             Ma Cua Hang    Doanh Thu Chi Phi Loi Nhuan\n",
       "0   1/1/2021     CH 0001  14651-14600   12685      1966\n",
       "8   1/1/2021     CH 0009  15918-15900   13716      2202\n",
       "15  1/1/2021     CH 0016  32638-32000   26933      5705"
      ]
     },
     "execution_count": 14,
     "metadata": {},
     "output_type": "execute_result"
    }
   ],
   "source": [
    "df[~df['Doanh Thu'].apply(is_float)].head()"
   ]
  },
  {
   "cell_type": "code",
   "execution_count": 43,
   "id": "b9c1daf4",
   "metadata": {},
   "outputs": [],
   "source": [
    "def convert_to_num(x):\n",
    "    tokens = str(x).split('-')\n",
    "    if len(tokens) == 2:\n",
    "            return (float(tokens[0])+float(tokens[1]))/2\n",
    "    try:\n",
    "        return float(x)\n",
    "    except:\n",
    "        return None"
   ]
  },
  {
   "cell_type": "code",
   "execution_count": 44,
   "id": "a9498e0c",
   "metadata": {
    "scrolled": true
   },
   "outputs": [],
   "source": [
    "df3=df.copy()\n",
    "df3['Doanh Thu']=df3['Doanh Thu'].apply(convert_to_num)\n",
    "# df3.head(20)"
   ]
  },
  {
   "cell_type": "code",
   "execution_count": 45,
   "id": "7a265dce",
   "metadata": {
    "scrolled": true
   },
   "outputs": [],
   "source": [
    "df3['Chi Phi']=df3['Chi Phi'].apply(convert_to_num)\n",
    "# df3.head(6)"
   ]
  },
  {
   "cell_type": "code",
   "execution_count": 15,
   "id": "5f2ea0cf",
   "metadata": {},
   "outputs": [],
   "source": [
    "# df3[~df3['Chi Phi'].apply(is_float)].head(5)"
   ]
  },
  {
   "cell_type": "code",
   "execution_count": 46,
   "id": "17d3ef55",
   "metadata": {},
   "outputs": [
    {
     "data": {
      "text/html": [
       "<div>\n",
       "<style scoped>\n",
       "    .dataframe tbody tr th:only-of-type {\n",
       "        vertical-align: middle;\n",
       "    }\n",
       "\n",
       "    .dataframe tbody tr th {\n",
       "        vertical-align: top;\n",
       "    }\n",
       "\n",
       "    .dataframe thead th {\n",
       "        text-align: right;\n",
       "    }\n",
       "</style>\n",
       "<table border=\"1\" class=\"dataframe\">\n",
       "  <thead>\n",
       "    <tr style=\"text-align: right;\">\n",
       "      <th></th>\n",
       "      <th></th>\n",
       "      <th>Ma Cua Hang</th>\n",
       "      <th>Doanh Thu</th>\n",
       "      <th>Chi Phi</th>\n",
       "      <th>Loi Nhuan</th>\n",
       "    </tr>\n",
       "  </thead>\n",
       "  <tbody>\n",
       "    <tr>\n",
       "      <th>0</th>\n",
       "      <td>1/1/2021</td>\n",
       "      <td>CH 0001</td>\n",
       "      <td>14625.5</td>\n",
       "      <td>12685.0</td>\n",
       "      <td>1966.0</td>\n",
       "    </tr>\n",
       "    <tr>\n",
       "      <th>1</th>\n",
       "      <td>1/1/2021</td>\n",
       "      <td>CH 0002</td>\n",
       "      <td>NaN</td>\n",
       "      <td>NaN</td>\n",
       "      <td>1221.5</td>\n",
       "    </tr>\n",
       "    <tr>\n",
       "      <th>2</th>\n",
       "      <td>1/1/2021</td>\n",
       "      <td>CH 0003</td>\n",
       "      <td>NaN</td>\n",
       "      <td>7017.0</td>\n",
       "      <td>1709.0</td>\n",
       "    </tr>\n",
       "    <tr>\n",
       "      <th>3</th>\n",
       "      <td>1/1/2021</td>\n",
       "      <td>CH 0004</td>\n",
       "      <td>27120.0</td>\n",
       "      <td>23788.0</td>\n",
       "      <td>3332.0</td>\n",
       "    </tr>\n",
       "    <tr>\n",
       "      <th>4</th>\n",
       "      <td>1/1/2021</td>\n",
       "      <td>CH 0005</td>\n",
       "      <td>9195.0</td>\n",
       "      <td>7226.0</td>\n",
       "      <td>1743.0</td>\n",
       "    </tr>\n",
       "  </tbody>\n",
       "</table>\n",
       "</div>"
      ],
      "text/plain": [
       "            Ma Cua Hang  Doanh Thu  Chi Phi  Loi Nhuan\n",
       "0  1/1/2021     CH 0001    14625.5  12685.0     1966.0\n",
       "1  1/1/2021     CH 0002        NaN      NaN     1221.5\n",
       "2  1/1/2021     CH 0003        NaN   7017.0     1709.0\n",
       "3  1/1/2021     CH 0004    27120.0  23788.0     3332.0\n",
       "4  1/1/2021     CH 0005     9195.0   7226.0     1743.0"
      ]
     },
     "execution_count": 46,
     "metadata": {},
     "output_type": "execute_result"
    }
   ],
   "source": [
    "df3['Loi Nhuan']=df3['Loi Nhuan'].apply(convert_to_num)\n",
    "df3.head()"
   ]
  },
  {
   "cell_type": "code",
   "execution_count": 17,
   "id": "2ebd1cd2",
   "metadata": {},
   "outputs": [],
   "source": [
    "# df3[~df3['Loi Nhuan'].apply(is_float)].head(5)"
   ]
  },
  {
   "cell_type": "markdown",
   "id": "fd6363ab",
   "metadata": {},
   "source": [
    "#  thay thế bằng giá trị trung bình"
   ]
  },
  {
   "cell_type": "code",
   "execution_count": 47,
   "id": "1da0269a",
   "metadata": {
    "scrolled": false
   },
   "outputs": [
    {
     "ename": "ValueError",
     "evalue": "Expected 2D array, got 1D array instead:\narray=[14625.5     nan     nan ... 26908.  25261.  10711. ].\nReshape your data either using array.reshape(-1, 1) if your data has a single feature or array.reshape(1, -1) if it contains a single sample.",
     "output_type": "error",
     "traceback": [
      "\u001b[1;31m---------------------------------------------------------------------------\u001b[0m",
      "\u001b[1;31mValueError\u001b[0m                                Traceback (most recent call last)",
      "Input \u001b[1;32mIn [47]\u001b[0m, in \u001b[0;36m<cell line: 5>\u001b[1;34m()\u001b[0m\n\u001b[0;32m      2\u001b[0m \u001b[38;5;28;01mfrom\u001b[39;00m \u001b[38;5;21;01msklearn\u001b[39;00m\u001b[38;5;21;01m.\u001b[39;00m\u001b[38;5;21;01mimpute\u001b[39;00m \u001b[38;5;28;01mimport\u001b[39;00m SimpleImputer\n\u001b[0;32m      4\u001b[0m imputer\u001b[38;5;241m=\u001b[39m SimpleImputer(missing_values \u001b[38;5;241m=\u001b[39mdf3[\u001b[38;5;124m'\u001b[39m\u001b[38;5;124mDoanh Thu\u001b[39m\u001b[38;5;124m'\u001b[39m]\u001b[38;5;241m.\u001b[39misnull(), strategy\u001b[38;5;241m=\u001b[39m\u001b[38;5;124m'\u001b[39m\u001b[38;5;124mmean\u001b[39m\u001b[38;5;124m'\u001b[39m)\n\u001b[1;32m----> 5\u001b[0m \u001b[43mimputer\u001b[49m\u001b[38;5;241;43m.\u001b[39;49m\u001b[43mfit_transform\u001b[49m\u001b[43m(\u001b[49m\u001b[43mdf3\u001b[49m\u001b[43m[\u001b[49m\u001b[38;5;124;43m'\u001b[39;49m\u001b[38;5;124;43mDoanh Thu\u001b[39;49m\u001b[38;5;124;43m'\u001b[39;49m\u001b[43m]\u001b[49m\u001b[43m)\u001b[49m\n",
      "File \u001b[1;32m~\\anaconda3\\lib\\site-packages\\sklearn\\base.py:852\u001b[0m, in \u001b[0;36mTransformerMixin.fit_transform\u001b[1;34m(self, X, y, **fit_params)\u001b[0m\n\u001b[0;32m    848\u001b[0m \u001b[38;5;66;03m# non-optimized default implementation; override when a better\u001b[39;00m\n\u001b[0;32m    849\u001b[0m \u001b[38;5;66;03m# method is possible for a given clustering algorithm\u001b[39;00m\n\u001b[0;32m    850\u001b[0m \u001b[38;5;28;01mif\u001b[39;00m y \u001b[38;5;129;01mis\u001b[39;00m \u001b[38;5;28;01mNone\u001b[39;00m:\n\u001b[0;32m    851\u001b[0m     \u001b[38;5;66;03m# fit method of arity 1 (unsupervised transformation)\u001b[39;00m\n\u001b[1;32m--> 852\u001b[0m     \u001b[38;5;28;01mreturn\u001b[39;00m \u001b[38;5;28mself\u001b[39m\u001b[38;5;241m.\u001b[39mfit(X, \u001b[38;5;241m*\u001b[39m\u001b[38;5;241m*\u001b[39mfit_params)\u001b[38;5;241m.\u001b[39mtransform(X)\n\u001b[0;32m    853\u001b[0m \u001b[38;5;28;01melse\u001b[39;00m:\n\u001b[0;32m    854\u001b[0m     \u001b[38;5;66;03m# fit method of arity 2 (supervised transformation)\u001b[39;00m\n\u001b[0;32m    855\u001b[0m     \u001b[38;5;28;01mreturn\u001b[39;00m \u001b[38;5;28mself\u001b[39m\u001b[38;5;241m.\u001b[39mfit(X, y, \u001b[38;5;241m*\u001b[39m\u001b[38;5;241m*\u001b[39mfit_params)\u001b[38;5;241m.\u001b[39mtransform(X)\n",
      "File \u001b[1;32m~\\anaconda3\\lib\\site-packages\\sklearn\\impute\\_base.py:319\u001b[0m, in \u001b[0;36mSimpleImputer.fit\u001b[1;34m(self, X, y)\u001b[0m\n\u001b[0;32m    302\u001b[0m \u001b[38;5;28;01mdef\u001b[39;00m \u001b[38;5;21mfit\u001b[39m(\u001b[38;5;28mself\u001b[39m, X, y\u001b[38;5;241m=\u001b[39m\u001b[38;5;28;01mNone\u001b[39;00m):\n\u001b[0;32m    303\u001b[0m     \u001b[38;5;124;03m\"\"\"Fit the imputer on `X`.\u001b[39;00m\n\u001b[0;32m    304\u001b[0m \n\u001b[0;32m    305\u001b[0m \u001b[38;5;124;03m    Parameters\u001b[39;00m\n\u001b[1;32m   (...)\u001b[0m\n\u001b[0;32m    317\u001b[0m \u001b[38;5;124;03m        Fitted estimator.\u001b[39;00m\n\u001b[0;32m    318\u001b[0m \u001b[38;5;124;03m    \"\"\"\u001b[39;00m\n\u001b[1;32m--> 319\u001b[0m     X \u001b[38;5;241m=\u001b[39m \u001b[38;5;28;43mself\u001b[39;49m\u001b[38;5;241;43m.\u001b[39;49m\u001b[43m_validate_input\u001b[49m\u001b[43m(\u001b[49m\u001b[43mX\u001b[49m\u001b[43m,\u001b[49m\u001b[43m \u001b[49m\u001b[43min_fit\u001b[49m\u001b[38;5;241;43m=\u001b[39;49m\u001b[38;5;28;43;01mTrue\u001b[39;49;00m\u001b[43m)\u001b[49m\n\u001b[0;32m    321\u001b[0m     \u001b[38;5;66;03m# default fill_value is 0 for numerical input and \"missing_value\"\u001b[39;00m\n\u001b[0;32m    322\u001b[0m     \u001b[38;5;66;03m# otherwise\u001b[39;00m\n\u001b[0;32m    323\u001b[0m     \u001b[38;5;28;01mif\u001b[39;00m \u001b[38;5;28mself\u001b[39m\u001b[38;5;241m.\u001b[39mfill_value \u001b[38;5;129;01mis\u001b[39;00m \u001b[38;5;28;01mNone\u001b[39;00m:\n",
      "File \u001b[1;32m~\\anaconda3\\lib\\site-packages\\sklearn\\impute\\_base.py:287\u001b[0m, in \u001b[0;36mSimpleImputer._validate_input\u001b[1;34m(self, X, in_fit)\u001b[0m\n\u001b[0;32m    285\u001b[0m         \u001b[38;5;28;01mraise\u001b[39;00m new_ve \u001b[38;5;28;01mfrom\u001b[39;00m \u001b[38;5;28mNone\u001b[39m\n\u001b[0;32m    286\u001b[0m     \u001b[38;5;28;01melse\u001b[39;00m:\n\u001b[1;32m--> 287\u001b[0m         \u001b[38;5;28;01mraise\u001b[39;00m ve\n\u001b[0;32m    289\u001b[0m _check_inputs_dtype(X, \u001b[38;5;28mself\u001b[39m\u001b[38;5;241m.\u001b[39mmissing_values)\n\u001b[0;32m    290\u001b[0m \u001b[38;5;28;01mif\u001b[39;00m X\u001b[38;5;241m.\u001b[39mdtype\u001b[38;5;241m.\u001b[39mkind \u001b[38;5;129;01mnot\u001b[39;00m \u001b[38;5;129;01min\u001b[39;00m (\u001b[38;5;124m\"\u001b[39m\u001b[38;5;124mi\u001b[39m\u001b[38;5;124m\"\u001b[39m, \u001b[38;5;124m\"\u001b[39m\u001b[38;5;124mu\u001b[39m\u001b[38;5;124m\"\u001b[39m, \u001b[38;5;124m\"\u001b[39m\u001b[38;5;124mf\u001b[39m\u001b[38;5;124m\"\u001b[39m, \u001b[38;5;124m\"\u001b[39m\u001b[38;5;124mO\u001b[39m\u001b[38;5;124m\"\u001b[39m):\n",
      "File \u001b[1;32m~\\anaconda3\\lib\\site-packages\\sklearn\\impute\\_base.py:270\u001b[0m, in \u001b[0;36mSimpleImputer._validate_input\u001b[1;34m(self, X, in_fit)\u001b[0m\n\u001b[0;32m    267\u001b[0m     force_all_finite \u001b[38;5;241m=\u001b[39m \u001b[38;5;124m\"\u001b[39m\u001b[38;5;124mallow-nan\u001b[39m\u001b[38;5;124m\"\u001b[39m\n\u001b[0;32m    269\u001b[0m \u001b[38;5;28;01mtry\u001b[39;00m:\n\u001b[1;32m--> 270\u001b[0m     X \u001b[38;5;241m=\u001b[39m \u001b[38;5;28;43mself\u001b[39;49m\u001b[38;5;241;43m.\u001b[39;49m\u001b[43m_validate_data\u001b[49m\u001b[43m(\u001b[49m\n\u001b[0;32m    271\u001b[0m \u001b[43m        \u001b[49m\u001b[43mX\u001b[49m\u001b[43m,\u001b[49m\n\u001b[0;32m    272\u001b[0m \u001b[43m        \u001b[49m\u001b[43mreset\u001b[49m\u001b[38;5;241;43m=\u001b[39;49m\u001b[43min_fit\u001b[49m\u001b[43m,\u001b[49m\n\u001b[0;32m    273\u001b[0m \u001b[43m        \u001b[49m\u001b[43maccept_sparse\u001b[49m\u001b[38;5;241;43m=\u001b[39;49m\u001b[38;5;124;43m\"\u001b[39;49m\u001b[38;5;124;43mcsc\u001b[39;49m\u001b[38;5;124;43m\"\u001b[39;49m\u001b[43m,\u001b[49m\n\u001b[0;32m    274\u001b[0m \u001b[43m        \u001b[49m\u001b[43mdtype\u001b[49m\u001b[38;5;241;43m=\u001b[39;49m\u001b[43mdtype\u001b[49m\u001b[43m,\u001b[49m\n\u001b[0;32m    275\u001b[0m \u001b[43m        \u001b[49m\u001b[43mforce_all_finite\u001b[49m\u001b[38;5;241;43m=\u001b[39;49m\u001b[43mforce_all_finite\u001b[49m\u001b[43m,\u001b[49m\n\u001b[0;32m    276\u001b[0m \u001b[43m        \u001b[49m\u001b[43mcopy\u001b[49m\u001b[38;5;241;43m=\u001b[39;49m\u001b[38;5;28;43mself\u001b[39;49m\u001b[38;5;241;43m.\u001b[39;49m\u001b[43mcopy\u001b[49m\u001b[43m,\u001b[49m\n\u001b[0;32m    277\u001b[0m \u001b[43m    \u001b[49m\u001b[43m)\u001b[49m\n\u001b[0;32m    278\u001b[0m \u001b[38;5;28;01mexcept\u001b[39;00m \u001b[38;5;167;01mValueError\u001b[39;00m \u001b[38;5;28;01mas\u001b[39;00m ve:\n\u001b[0;32m    279\u001b[0m     \u001b[38;5;28;01mif\u001b[39;00m \u001b[38;5;124m\"\u001b[39m\u001b[38;5;124mcould not convert\u001b[39m\u001b[38;5;124m\"\u001b[39m \u001b[38;5;129;01min\u001b[39;00m \u001b[38;5;28mstr\u001b[39m(ve):\n",
      "File \u001b[1;32m~\\anaconda3\\lib\\site-packages\\sklearn\\base.py:566\u001b[0m, in \u001b[0;36mBaseEstimator._validate_data\u001b[1;34m(self, X, y, reset, validate_separately, **check_params)\u001b[0m\n\u001b[0;32m    564\u001b[0m     \u001b[38;5;28;01mraise\u001b[39;00m \u001b[38;5;167;01mValueError\u001b[39;00m(\u001b[38;5;124m\"\u001b[39m\u001b[38;5;124mValidation should be done on X, y or both.\u001b[39m\u001b[38;5;124m\"\u001b[39m)\n\u001b[0;32m    565\u001b[0m \u001b[38;5;28;01melif\u001b[39;00m \u001b[38;5;129;01mnot\u001b[39;00m no_val_X \u001b[38;5;129;01mand\u001b[39;00m no_val_y:\n\u001b[1;32m--> 566\u001b[0m     X \u001b[38;5;241m=\u001b[39m check_array(X, \u001b[38;5;241m*\u001b[39m\u001b[38;5;241m*\u001b[39mcheck_params)\n\u001b[0;32m    567\u001b[0m     out \u001b[38;5;241m=\u001b[39m X\n\u001b[0;32m    568\u001b[0m \u001b[38;5;28;01melif\u001b[39;00m no_val_X \u001b[38;5;129;01mand\u001b[39;00m \u001b[38;5;129;01mnot\u001b[39;00m no_val_y:\n",
      "File \u001b[1;32m~\\anaconda3\\lib\\site-packages\\sklearn\\utils\\validation.py:769\u001b[0m, in \u001b[0;36mcheck_array\u001b[1;34m(array, accept_sparse, accept_large_sparse, dtype, order, copy, force_all_finite, ensure_2d, allow_nd, ensure_min_samples, ensure_min_features, estimator)\u001b[0m\n\u001b[0;32m    767\u001b[0m     \u001b[38;5;66;03m# If input is 1D raise error\u001b[39;00m\n\u001b[0;32m    768\u001b[0m     \u001b[38;5;28;01mif\u001b[39;00m array\u001b[38;5;241m.\u001b[39mndim \u001b[38;5;241m==\u001b[39m \u001b[38;5;241m1\u001b[39m:\n\u001b[1;32m--> 769\u001b[0m         \u001b[38;5;28;01mraise\u001b[39;00m \u001b[38;5;167;01mValueError\u001b[39;00m(\n\u001b[0;32m    770\u001b[0m             \u001b[38;5;124m\"\u001b[39m\u001b[38;5;124mExpected 2D array, got 1D array instead:\u001b[39m\u001b[38;5;130;01m\\n\u001b[39;00m\u001b[38;5;124marray=\u001b[39m\u001b[38;5;132;01m{}\u001b[39;00m\u001b[38;5;124m.\u001b[39m\u001b[38;5;130;01m\\n\u001b[39;00m\u001b[38;5;124m\"\u001b[39m\n\u001b[0;32m    771\u001b[0m             \u001b[38;5;124m\"\u001b[39m\u001b[38;5;124mReshape your data either using array.reshape(-1, 1) if \u001b[39m\u001b[38;5;124m\"\u001b[39m\n\u001b[0;32m    772\u001b[0m             \u001b[38;5;124m\"\u001b[39m\u001b[38;5;124myour data has a single feature or array.reshape(1, -1) \u001b[39m\u001b[38;5;124m\"\u001b[39m\n\u001b[0;32m    773\u001b[0m             \u001b[38;5;124m\"\u001b[39m\u001b[38;5;124mif it contains a single sample.\u001b[39m\u001b[38;5;124m\"\u001b[39m\u001b[38;5;241m.\u001b[39mformat(array)\n\u001b[0;32m    774\u001b[0m         )\n\u001b[0;32m    776\u001b[0m \u001b[38;5;66;03m# make sure we actually converted to numeric:\u001b[39;00m\n\u001b[0;32m    777\u001b[0m \u001b[38;5;28;01mif\u001b[39;00m dtype_numeric \u001b[38;5;129;01mand\u001b[39;00m array\u001b[38;5;241m.\u001b[39mdtype\u001b[38;5;241m.\u001b[39mkind \u001b[38;5;129;01min\u001b[39;00m \u001b[38;5;124m\"\u001b[39m\u001b[38;5;124mOUSV\u001b[39m\u001b[38;5;124m\"\u001b[39m:\n",
      "\u001b[1;31mValueError\u001b[0m: Expected 2D array, got 1D array instead:\narray=[14625.5     nan     nan ... 26908.  25261.  10711. ].\nReshape your data either using array.reshape(-1, 1) if your data has a single feature or array.reshape(1, -1) if it contains a single sample."
     ]
    }
   ],
   "source": [
    "# df3['Doanh Thu'] = df3['Doanh Thu'].fillna(df3.mean()['Doanh Thu'])\n",
    "from sklearn.impute import SimpleImputer\n",
    "\n",
    "imputer= SimpleImputer(missing_values =df3['Doanh Thu'].isnull(), strategy='mean')\n",
    "imputer.fit_transform(df3['Doanh Thu'])"
   ]
  },
  {
   "cell_type": "code",
   "execution_count": null,
   "id": "d58e0059",
   "metadata": {},
   "outputs": [],
   "source": [
    "df3['Chi Phi'] = df3['Chi Phi'].fillna(df3.mean()['Chi Phi'])"
   ]
  },
  {
   "cell_type": "code",
   "execution_count": null,
   "id": "295b7a30",
   "metadata": {},
   "outputs": [],
   "source": [
    "df3['Loi Nhuan']=df3['Loi Nhuan'].fillna(df3.mean()['Loi Nhuan'])"
   ]
  },
  {
   "cell_type": "code",
   "execution_count": null,
   "id": "9efcc836",
   "metadata": {},
   "outputs": [],
   "source": [
    "df3.head()"
   ]
  },
  {
   "cell_type": "code",
   "execution_count": null,
   "id": "0dd33867",
   "metadata": {
    "scrolled": true
   },
   "outputs": [],
   "source": [
    "# df3.describe()"
   ]
  },
  {
   "cell_type": "code",
   "execution_count": null,
   "id": "72edbad1",
   "metadata": {},
   "outputs": [],
   "source": [
    "# df3.to_excel(\"BaoCao 05-12.xlsx\")"
   ]
  },
  {
   "cell_type": "code",
   "execution_count": null,
   "id": "d4749bdb",
   "metadata": {},
   "outputs": [],
   "source": [
    "df4=df3.copy()"
   ]
  },
  {
   "cell_type": "code",
   "execution_count": null,
   "id": "81d58f21",
   "metadata": {},
   "outputs": [],
   "source": [
    "df4['Ma Cua Hang']=df4['Ma Cua Hang'].apply(lambda x : x.strip())\n",
    "MaCuaHang=df4['Ma Cua Hang'].value_counts(ascending= False )\n",
    "MaCuaHang"
   ]
  },
  {
   "cell_type": "code",
   "execution_count": null,
   "id": "d391842b",
   "metadata": {},
   "outputs": [],
   "source": [
    "MaCuaHang.values.sum()"
   ]
  },
  {
   "cell_type": "code",
   "execution_count": null,
   "id": "412d902d",
   "metadata": {
    "scrolled": true
   },
   "outputs": [],
   "source": [
    "len(MaCuaHang[MaCuaHang<=1])"
   ]
  },
  {
   "cell_type": "code",
   "execution_count": null,
   "id": "7893c152",
   "metadata": {},
   "outputs": [],
   "source": [
    "len(MaCuaHang[MaCuaHang>1])"
   ]
  },
  {
   "cell_type": "code",
   "execution_count": null,
   "id": "657b5532",
   "metadata": {},
   "outputs": [],
   "source": [
    "MaCuaHang_less_than_1=MaCuaHang[MaCuaHang<=2]\n",
    "MaCuaHang_less_than_1"
   ]
  },
  {
   "cell_type": "code",
   "execution_count": null,
   "id": "801b423c",
   "metadata": {},
   "outputs": [],
   "source": [
    "len(df4['Ma Cua Hang'].unique())"
   ]
  },
  {
   "cell_type": "code",
   "execution_count": null,
   "id": "8b6fd5f9",
   "metadata": {},
   "outputs": [],
   "source": [
    "df4['Ma Cua Hang']=df4['Ma Cua Hang'].apply(lambda x: 'other' if x in MaCuaHang_less_than_1 else x)\n",
    "len(df4['Ma Cua Hang'].unique())"
   ]
  },
  {
   "cell_type": "code",
   "execution_count": null,
   "id": "6dcec271",
   "metadata": {},
   "outputs": [],
   "source": [
    "df4.head(10)"
   ]
  },
  {
   "cell_type": "code",
   "execution_count": null,
   "id": "451f1a92",
   "metadata": {},
   "outputs": [],
   "source": []
  },
  {
   "cell_type": "code",
   "execution_count": null,
   "id": "e6b385af",
   "metadata": {},
   "outputs": [],
   "source": []
  }
 ],
 "metadata": {
  "kernelspec": {
   "display_name": "Python 3 (ipykernel)",
   "language": "python",
   "name": "python3"
  },
  "language_info": {
   "codemirror_mode": {
    "name": "ipython",
    "version": 3
   },
   "file_extension": ".py",
   "mimetype": "text/x-python",
   "name": "python",
   "nbconvert_exporter": "python",
   "pygments_lexer": "ipython3",
   "version": "3.9.12"
  }
 },
 "nbformat": 4,
 "nbformat_minor": 5
}
