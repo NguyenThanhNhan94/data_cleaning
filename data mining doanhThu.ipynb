{
 "cells": [
  {
   "cell_type": "code",
   "execution_count": 203,
   "id": "d1311368",
   "metadata": {},
   "outputs": [
    {
     "data": {
      "text/plain": [
       "False"
      ]
     },
     "execution_count": 203,
     "metadata": {},
     "output_type": "execute_result"
    }
   ],
   "source": [
    "import pandas as pd\n",
    "import numpy as np\n",
    "from matplotlib import pyplot as plt \n",
    "%matplotlib inline\n",
    "import matplotlib\n",
    "matplotlib.rcParams[\"figure.figsize\"] == (20,10)"
   ]
  },
  {
   "cell_type": "code",
   "execution_count": null,
   "id": "51ec0e0c",
   "metadata": {},
   "outputs": [],
   "source": [
    "df=pd.read_excel(\"DoanhThuDemo.xlsx\")\n"
   ]
  },
  {
   "cell_type": "code",
   "execution_count": null,
   "id": "1e9616d6",
   "metadata": {},
   "outputs": [],
   "source": [
    "#  df.isnull().sum()"
   ]
  },
  {
   "cell_type": "code",
   "execution_count": null,
   "id": "cabba137",
   "metadata": {},
   "outputs": [],
   "source": [
    "# df.info()"
   ]
  },
  {
   "cell_type": "code",
   "execution_count": null,
   "id": "e4b8b52a",
   "metadata": {},
   "outputs": [],
   "source": [
    "df.shape"
   ]
  },
  {
   "cell_type": "code",
   "execution_count": null,
   "id": "5cd629ec",
   "metadata": {},
   "outputs": [],
   "source": [
    "# df['Doanh Thu'].value_counts()"
   ]
  },
  {
   "cell_type": "code",
   "execution_count": null,
   "id": "2c006101",
   "metadata": {
    "scrolled": true
   },
   "outputs": [],
   "source": [
    "df['So Hieu Cua Hang']=df['Ma Cua Hang'].apply(lambda x: str(x.split(' ')[1]))\n",
    "# df['So Hieu Cua Hang'].unique()"
   ]
  },
  {
   "cell_type": "code",
   "execution_count": null,
   "id": "931d1fa9",
   "metadata": {},
   "outputs": [],
   "source": [
    "def is_float(x):\n",
    "    try:\n",
    "            float(x)\n",
    "    except:\n",
    "            return False\n",
    "    return  True"
   ]
  },
  {
   "cell_type": "code",
   "execution_count": null,
   "id": "5f49b16f",
   "metadata": {
    "scrolled": false
   },
   "outputs": [],
   "source": [
    "# df[~df['Doanh Thu'].apply(is_float)].head(5)"
   ]
  },
  {
   "cell_type": "code",
   "execution_count": null,
   "id": "539b2e81",
   "metadata": {},
   "outputs": [],
   "source": [
    "# df[~df['Chi Phi'].apply(is_float)].head(5)"
   ]
  },
  {
   "cell_type": "code",
   "execution_count": null,
   "id": "eb9cc2b0",
   "metadata": {
    "scrolled": false
   },
   "outputs": [],
   "source": [
    "# df[~df['Loi Nhuan'].apply(is_float)].head(5)"
   ]
  },
  {
   "cell_type": "code",
   "execution_count": null,
   "id": "c3a5a6fb",
   "metadata": {
    "scrolled": true
   },
   "outputs": [],
   "source": [
    "df2=df.copy()\n",
    "df2[~df2['Chi Phi'].apply(is_float)].head(5)"
   ]
  },
  {
   "cell_type": "code",
   "execution_count": null,
   "id": "6c096fb3",
   "metadata": {
    "scrolled": true
   },
   "outputs": [],
   "source": [
    "df2[~df2['Loi Nhuan'].apply(is_float)].head(5)"
   ]
  },
  {
   "cell_type": "code",
   "execution_count": null,
   "id": "a654d935",
   "metadata": {},
   "outputs": [],
   "source": [
    "df2[~df2['Doanh Thu'].apply(is_float)].head()"
   ]
  },
  {
   "cell_type": "code",
   "execution_count": null,
   "id": "9a94bfab",
   "metadata": {},
   "outputs": [],
   "source": [
    "def convert_to_num(x):\n",
    "    tokens = str(x).split('-')\n",
    "    if len(tokens) == 2:\n",
    "            return (float(tokens[0])+float(tokens[1]))/2\n",
    "    try:\n",
    "        return float(x)\n",
    "    except:\n",
    "        return None"
   ]
  },
  {
   "cell_type": "code",
   "execution_count": null,
   "id": "a9498e0c",
   "metadata": {
    "scrolled": true
   },
   "outputs": [],
   "source": [
    "df3=df2.copy()\n",
    "df3['Doanh Thu']=df3['Doanh Thu'].apply(convert_to_num)\n",
    "df3=df3[df3['Doanh Thu'].notnull()]\n",
    "# df3.head(20)"
   ]
  },
  {
   "cell_type": "code",
   "execution_count": null,
   "id": "7a265dce",
   "metadata": {
    "scrolled": true
   },
   "outputs": [],
   "source": [
    "df3['Chi Phi']=df3['Chi Phi'].apply(convert_to_num)\n",
    "df3=df3[df3['Chi Phi'].notnull()]\n",
    "# df3.head()"
   ]
  },
  {
   "cell_type": "code",
   "execution_count": null,
   "id": "17d3ef55",
   "metadata": {},
   "outputs": [],
   "source": [
    "# df3=df3[df3['Loi Nhuan'].notnull()]\n",
    "df3['Loi Nhuan']=df3['Loi Nhuan'].apply(convert_to_num)\n",
    "df3.head()"
   ]
  },
  {
   "cell_type": "code",
   "execution_count": null,
   "id": "1da0269a",
   "metadata": {
    "scrolled": true
   },
   "outputs": [],
   "source": [
    "df3['Doanh Thu'] = df3['Doanh Thu'].fillna(df3.mean()['Doanh Thu'])"
   ]
  },
  {
   "cell_type": "code",
   "execution_count": null,
   "id": "d58e0059",
   "metadata": {},
   "outputs": [],
   "source": [
    "df3['Chi Phi'] = df3['Chi Phi'].fillna(df3.mean()['Chi Phi'])"
   ]
  },
  {
   "cell_type": "code",
   "execution_count": null,
   "id": "295b7a30",
   "metadata": {},
   "outputs": [],
   "source": [
    "df3['Loi Nhuan']=df3['Loi Nhuan'].fillna(df3.mean()['Loi Nhuan'])"
   ]
  },
  {
   "cell_type": "code",
   "execution_count": null,
   "id": "9efcc836",
   "metadata": {},
   "outputs": [],
   "source": [
    "df3.head()"
   ]
  },
  {
   "cell_type": "code",
   "execution_count": null,
   "id": "0dd33867",
   "metadata": {},
   "outputs": [],
   "source": [
    "df3.describe()"
   ]
  },
  {
   "cell_type": "code",
   "execution_count": null,
   "id": "d4749bdb",
   "metadata": {},
   "outputs": [],
   "source": [
    "df4=df3.copy()"
   ]
  },
  {
   "cell_type": "code",
   "execution_count": null,
   "id": "81d58f21",
   "metadata": {},
   "outputs": [],
   "source": [
    "df4['Ma Cua Hang']=df1['Ma Cua Hang'].apply(lambda x : x.strip())\n",
    "MaCuaHang=df4['Ma Cua Hang'].value_counts(ascending= False )\n",
    "MaCuaHang"
   ]
  },
  {
   "cell_type": "code",
   "execution_count": null,
   "id": "d391842b",
   "metadata": {},
   "outputs": [],
   "source": [
    "MaCuaHang.values.sum()"
   ]
  },
  {
   "cell_type": "code",
   "execution_count": null,
   "id": "412d902d",
   "metadata": {
    "scrolled": true
   },
   "outputs": [],
   "source": [
    "len(MaCuaHang[MaCuaHang<=1])"
   ]
  },
  {
   "cell_type": "code",
   "execution_count": null,
   "id": "7893c152",
   "metadata": {},
   "outputs": [],
   "source": [
    "len(MaCuaHang[MaCuaHang>1])"
   ]
  },
  {
   "cell_type": "code",
   "execution_count": null,
   "id": "657b5532",
   "metadata": {},
   "outputs": [],
   "source": [
    "MaCuaHang_less_than_1=MaCuaHang[MaCuaHang<=2]\n",
    "MaCuaHang_less_than_1"
   ]
  },
  {
   "cell_type": "code",
   "execution_count": null,
   "id": "801b423c",
   "metadata": {},
   "outputs": [],
   "source": [
    "len(df4['Ma Cua Hang'].unique())"
   ]
  },
  {
   "cell_type": "code",
   "execution_count": null,
   "id": "8b6fd5f9",
   "metadata": {},
   "outputs": [],
   "source": [
    "df4['Ma Cua Hang']=df4['Ma Cua Hang'].apply(lambda x: 'other' if x in MaCuaHang_less_than_1 else x)\n",
    "len(df4['Ma Cua Hang'].unique())"
   ]
  },
  {
   "cell_type": "code",
   "execution_count": null,
   "id": "6dcec271",
   "metadata": {},
   "outputs": [],
   "source": [
    "df4.head(10)"
   ]
  },
  {
   "cell_type": "code",
   "execution_count": null,
   "id": "451f1a92",
   "metadata": {},
   "outputs": [],
   "source": [
    "df4.to_csv('Doanh Thu 30-11-2022.csv')"
   ]
  }
 ],
 "metadata": {
  "kernelspec": {
   "display_name": "Python 3 (ipykernel)",
   "language": "python",
   "name": "python3"
  },
  "language_info": {
   "codemirror_mode": {
    "name": "ipython",
    "version": 3
   },
   "file_extension": ".py",
   "mimetype": "text/x-python",
   "name": "python",
   "nbconvert_exporter": "python",
   "pygments_lexer": "ipython3",
   "version": "3.9.12"
  }
 },
 "nbformat": 4,
 "nbformat_minor": 5
}
