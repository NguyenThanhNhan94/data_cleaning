{
 "cells": [
  {
   "cell_type": "code",
   "execution_count": 1,
   "id": "d1311368",
   "metadata": {},
   "outputs": [
    {
     "data": {
      "text/plain": [
       "False"
      ]
     },
     "execution_count": 1,
     "metadata": {},
     "output_type": "execute_result"
    }
   ],
   "source": [
    "import pandas as pd\n",
    "import numpy as np\n",
    "from matplotlib import pyplot as plt \n",
    "%matplotlib inline\n",
    "import matplotlib\n",
    "matplotlib.rcParams[\"figure.figsize\"] == (20,10)"
   ]
  },
  {
   "cell_type": "code",
   "execution_count": 13,
   "id": "51ec0e0c",
   "metadata": {},
   "outputs": [],
   "source": [
    "df=pd.read_excel(r\"C:\\Users\\Nhan\\Documents\\Data Cleaning\\source file\\DoanhThuDemo.xlsx\")\n"
   ]
  },
  {
   "cell_type": "code",
   "execution_count": 14,
   "id": "1e9616d6",
   "metadata": {},
   "outputs": [
    {
     "data": {
      "text/plain": [
       "Unnamed: 0     0\n",
       "               0\n",
       "Ma Cua Hang    0\n",
       "Doanh Thu      3\n",
       "Chi Phi        1\n",
       "Loi Nhuan      1\n",
       "dtype: int64"
      ]
     },
     "execution_count": 14,
     "metadata": {},
     "output_type": "execute_result"
    }
   ],
   "source": [
    "df.isnull().sum()"
   ]
  },
  {
   "cell_type": "code",
   "execution_count": 15,
   "id": "cabba137",
   "metadata": {},
   "outputs": [
    {
     "name": "stdout",
     "output_type": "stream",
     "text": [
      "<class 'pandas.core.frame.DataFrame'>\n",
      "RangeIndex: 99129 entries, 0 to 99128\n",
      "Data columns (total 6 columns):\n",
      " #   Column       Non-Null Count  Dtype         \n",
      "---  ------       --------------  -----         \n",
      " 0   Unnamed: 0   99129 non-null  int64         \n",
      " 1                99129 non-null  datetime64[ns]\n",
      " 2   Ma Cua Hang  99129 non-null  object        \n",
      " 3   Doanh Thu    99126 non-null  object        \n",
      " 4   Chi Phi      99128 non-null  object        \n",
      " 5   Loi Nhuan    99128 non-null  object        \n",
      "dtypes: datetime64[ns](1), int64(1), object(4)\n",
      "memory usage: 4.5+ MB\n"
     ]
    }
   ],
   "source": [
    "df.info()"
   ]
  },
  {
   "cell_type": "code",
   "execution_count": 16,
   "id": "e4b8b52a",
   "metadata": {},
   "outputs": [
    {
     "data": {
      "text/plain": [
       "(99129, 6)"
      ]
     },
     "execution_count": 16,
     "metadata": {},
     "output_type": "execute_result"
    }
   ],
   "source": [
    "df.shape"
   ]
  },
  {
   "cell_type": "code",
   "execution_count": 17,
   "id": "5cd629ec",
   "metadata": {},
   "outputs": [
    {
     "data": {
      "text/plain": [
       "0               73\n",
       "23748           15\n",
       "20458           12\n",
       "22062           12\n",
       "22333           12\n",
       "                ..\n",
       "5696             1\n",
       "15420            1\n",
       "18815            1\n",
       "4243             1\n",
       "14625.5-1400     1\n",
       "Name: Doanh Thu, Length: 40234, dtype: int64"
      ]
     },
     "execution_count": 17,
     "metadata": {},
     "output_type": "execute_result"
    }
   ],
   "source": [
    "df['Doanh Thu'].value_counts()"
   ]
  },
  {
   "cell_type": "code",
   "execution_count": 18,
   "id": "2c006101",
   "metadata": {
    "scrolled": true
   },
   "outputs": [
    {
     "data": {
      "text/plain": [
       "array(['0001', '0002', '0003', ..., '5903', '5904', '5905'], dtype=object)"
      ]
     },
     "execution_count": 18,
     "metadata": {},
     "output_type": "execute_result"
    }
   ],
   "source": [
    "df['So Hieu Cua Hang']=df['Ma Cua Hang'].apply(lambda x: str(x.split(' ')[1]))\n",
    "df['So Hieu Cua Hang'].unique()"
   ]
  },
  {
   "cell_type": "code",
   "execution_count": 19,
   "id": "931d1fa9",
   "metadata": {},
   "outputs": [],
   "source": [
    "def is_float(x):\n",
    "    try:\n",
    "            float(x)\n",
    "    except:\n",
    "            return False\n",
    "    return  True"
   ]
  },
  {
   "cell_type": "code",
   "execution_count": 35,
   "id": "c3a5a6fb",
   "metadata": {
    "scrolled": true
   },
   "outputs": [
    {
     "data": {
      "text/html": [
       "<div>\n",
       "<style scoped>\n",
       "    .dataframe tbody tr th:only-of-type {\n",
       "        vertical-align: middle;\n",
       "    }\n",
       "\n",
       "    .dataframe tbody tr th {\n",
       "        vertical-align: top;\n",
       "    }\n",
       "\n",
       "    .dataframe thead th {\n",
       "        text-align: right;\n",
       "    }\n",
       "</style>\n",
       "<table border=\"1\" class=\"dataframe\">\n",
       "  <thead>\n",
       "    <tr style=\"text-align: right;\">\n",
       "      <th></th>\n",
       "      <th>Unnamed: 0</th>\n",
       "      <th></th>\n",
       "      <th>Ma Cua Hang</th>\n",
       "      <th>Doanh Thu</th>\n",
       "      <th>Chi Phi</th>\n",
       "      <th>Loi Nhuan</th>\n",
       "      <th>So Hieu Cua Hang</th>\n",
       "    </tr>\n",
       "  </thead>\n",
       "  <tbody>\n",
       "    <tr>\n",
       "      <th>1</th>\n",
       "      <td>1</td>\n",
       "      <td>2021-01-01</td>\n",
       "      <td>CH 0002</td>\n",
       "      <td>22354.036362</td>\n",
       "      <td>19557.4493926921-19550</td>\n",
       "      <td>1243</td>\n",
       "      <td>0002</td>\n",
       "    </tr>\n",
       "  </tbody>\n",
       "</table>\n",
       "</div>"
      ],
      "text/plain": [
       "   Unnamed: 0            Ma Cua Hang     Doanh Thu                 Chi Phi  \\\n",
       "1           1 2021-01-01     CH 0002  22354.036362  19557.4493926921-19550   \n",
       "\n",
       "  Loi Nhuan So Hieu Cua Hang  \n",
       "1      1243             0002  "
      ]
     },
     "execution_count": 35,
     "metadata": {},
     "output_type": "execute_result"
    }
   ],
   "source": [
    "df1=df.copy()\n",
    "df1[~df1['Chi Phi'].apply(is_float)].head(5)"
   ]
  },
  {
   "cell_type": "code",
   "execution_count": 36,
   "id": "6c096fb3",
   "metadata": {
    "scrolled": true
   },
   "outputs": [
    {
     "data": {
      "text/html": [
       "<div>\n",
       "<style scoped>\n",
       "    .dataframe tbody tr th:only-of-type {\n",
       "        vertical-align: middle;\n",
       "    }\n",
       "\n",
       "    .dataframe tbody tr th {\n",
       "        vertical-align: top;\n",
       "    }\n",
       "\n",
       "    .dataframe thead th {\n",
       "        text-align: right;\n",
       "    }\n",
       "</style>\n",
       "<table border=\"1\" class=\"dataframe\">\n",
       "  <thead>\n",
       "    <tr style=\"text-align: right;\">\n",
       "      <th></th>\n",
       "      <th>Unnamed: 0</th>\n",
       "      <th></th>\n",
       "      <th>Ma Cua Hang</th>\n",
       "      <th>Doanh Thu</th>\n",
       "      <th>Chi Phi</th>\n",
       "      <th>Loi Nhuan</th>\n",
       "      <th>So Hieu Cua Hang</th>\n",
       "    </tr>\n",
       "  </thead>\n",
       "  <tbody>\n",
       "    <tr>\n",
       "      <th>2</th>\n",
       "      <td>2</td>\n",
       "      <td>2021-01-01</td>\n",
       "      <td>CH 0003</td>\n",
       "      <td>NaN</td>\n",
       "      <td>7017</td>\n",
       "      <td>1709-1700</td>\n",
       "      <td>0003</td>\n",
       "    </tr>\n",
       "  </tbody>\n",
       "</table>\n",
       "</div>"
      ],
      "text/plain": [
       "   Unnamed: 0            Ma Cua Hang Doanh Thu Chi Phi  Loi Nhuan  \\\n",
       "2           2 2021-01-01     CH 0003       NaN    7017  1709-1700   \n",
       "\n",
       "  So Hieu Cua Hang  \n",
       "2             0003  "
      ]
     },
     "execution_count": 36,
     "metadata": {},
     "output_type": "execute_result"
    }
   ],
   "source": [
    "df1[~df1['Loi Nhuan'].apply(is_float)].head(5)"
   ]
  },
  {
   "cell_type": "code",
   "execution_count": 37,
   "id": "a654d935",
   "metadata": {},
   "outputs": [
    {
     "data": {
      "text/html": [
       "<div>\n",
       "<style scoped>\n",
       "    .dataframe tbody tr th:only-of-type {\n",
       "        vertical-align: middle;\n",
       "    }\n",
       "\n",
       "    .dataframe tbody tr th {\n",
       "        vertical-align: top;\n",
       "    }\n",
       "\n",
       "    .dataframe thead th {\n",
       "        text-align: right;\n",
       "    }\n",
       "</style>\n",
       "<table border=\"1\" class=\"dataframe\">\n",
       "  <thead>\n",
       "    <tr style=\"text-align: right;\">\n",
       "      <th></th>\n",
       "      <th>Unnamed: 0</th>\n",
       "      <th></th>\n",
       "      <th>Ma Cua Hang</th>\n",
       "      <th>Doanh Thu</th>\n",
       "      <th>Chi Phi</th>\n",
       "      <th>Loi Nhuan</th>\n",
       "      <th>So Hieu Cua Hang</th>\n",
       "    </tr>\n",
       "  </thead>\n",
       "  <tbody>\n",
       "    <tr>\n",
       "      <th>0</th>\n",
       "      <td>0</td>\n",
       "      <td>2021-01-01</td>\n",
       "      <td>CH 0001</td>\n",
       "      <td>14625.5-1400</td>\n",
       "      <td>12685</td>\n",
       "      <td>1966</td>\n",
       "      <td>0001</td>\n",
       "    </tr>\n",
       "  </tbody>\n",
       "</table>\n",
       "</div>"
      ],
      "text/plain": [
       "   Unnamed: 0            Ma Cua Hang     Doanh Thu Chi Phi Loi Nhuan  \\\n",
       "0           0 2021-01-01     CH 0001  14625.5-1400   12685      1966   \n",
       "\n",
       "  So Hieu Cua Hang  \n",
       "0             0001  "
      ]
     },
     "execution_count": 37,
     "metadata": {},
     "output_type": "execute_result"
    }
   ],
   "source": [
    "df1[~df1['Doanh Thu'].apply(is_float)].head()"
   ]
  },
  {
   "cell_type": "code",
   "execution_count": 38,
   "id": "9a94bfab",
   "metadata": {},
   "outputs": [],
   "source": [
    "def convert_to_num(x):\n",
    "    tokens = str(x).split('-')\n",
    "    if len(tokens) == 2:\n",
    "            return (float(tokens[0])+float(tokens[1]))/2\n",
    "    try:\n",
    "        return float(x)\n",
    "    except:\n",
    "        return None"
   ]
  },
  {
   "cell_type": "code",
   "execution_count": 75,
   "id": "a9498e0c",
   "metadata": {
    "scrolled": true
   },
   "outputs": [],
   "source": [
    "df1['Doanh Thu']=df1['Doanh Thu'].apply(convert_to_num)"
   ]
  },
  {
   "cell_type": "code",
   "execution_count": 76,
   "id": "399b6eeb",
   "metadata": {},
   "outputs": [
    {
     "data": {
      "text/html": [
       "<div>\n",
       "<style scoped>\n",
       "    .dataframe tbody tr th:only-of-type {\n",
       "        vertical-align: middle;\n",
       "    }\n",
       "\n",
       "    .dataframe tbody tr th {\n",
       "        vertical-align: top;\n",
       "    }\n",
       "\n",
       "    .dataframe thead th {\n",
       "        text-align: right;\n",
       "    }\n",
       "</style>\n",
       "<table border=\"1\" class=\"dataframe\">\n",
       "  <thead>\n",
       "    <tr style=\"text-align: right;\">\n",
       "      <th></th>\n",
       "      <th>Unnamed: 0</th>\n",
       "      <th></th>\n",
       "      <th>Ma Cua Hang</th>\n",
       "      <th>Doanh Thu</th>\n",
       "      <th>Chi Phi</th>\n",
       "      <th>Loi Nhuan</th>\n",
       "      <th>So Hieu Cua Hang</th>\n",
       "    </tr>\n",
       "  </thead>\n",
       "  <tbody>\n",
       "    <tr>\n",
       "      <th>0</th>\n",
       "      <td>0</td>\n",
       "      <td>2021-01-01</td>\n",
       "      <td>CH 0001</td>\n",
       "      <td>8012.750000</td>\n",
       "      <td>12685.000000</td>\n",
       "      <td>1966.0</td>\n",
       "      <td>0001</td>\n",
       "    </tr>\n",
       "    <tr>\n",
       "      <th>1</th>\n",
       "      <td>1</td>\n",
       "      <td>2021-01-01</td>\n",
       "      <td>CH 0002</td>\n",
       "      <td>22354.036362</td>\n",
       "      <td>19553.724696</td>\n",
       "      <td>1243.0</td>\n",
       "      <td>0002</td>\n",
       "    </tr>\n",
       "    <tr>\n",
       "      <th>2</th>\n",
       "      <td>2</td>\n",
       "      <td>2021-01-01</td>\n",
       "      <td>CH 0003</td>\n",
       "      <td>22354.264611</td>\n",
       "      <td>7017.000000</td>\n",
       "      <td>1704.5</td>\n",
       "      <td>0003</td>\n",
       "    </tr>\n",
       "    <tr>\n",
       "      <th>3</th>\n",
       "      <td>3</td>\n",
       "      <td>2021-01-01</td>\n",
       "      <td>CH 0004</td>\n",
       "      <td>27120.000000</td>\n",
       "      <td>19557.528798</td>\n",
       "      <td>3332.0</td>\n",
       "      <td>0004</td>\n",
       "    </tr>\n",
       "    <tr>\n",
       "      <th>5</th>\n",
       "      <td>5</td>\n",
       "      <td>2021-01-01</td>\n",
       "      <td>CH 0006</td>\n",
       "      <td>22354.264611</td>\n",
       "      <td>18300.500000</td>\n",
       "      <td>1302.0</td>\n",
       "      <td>0006</td>\n",
       "    </tr>\n",
       "    <tr>\n",
       "      <th>6</th>\n",
       "      <td>6</td>\n",
       "      <td>2021-01-01</td>\n",
       "      <td>CH 0007</td>\n",
       "      <td>63208.000000</td>\n",
       "      <td>55556.000000</td>\n",
       "      <td>7652.0</td>\n",
       "      <td>0007</td>\n",
       "    </tr>\n",
       "    <tr>\n",
       "      <th>7</th>\n",
       "      <td>7</td>\n",
       "      <td>2021-01-01</td>\n",
       "      <td>CH 0008</td>\n",
       "      <td>27605.000000</td>\n",
       "      <td>25083.000000</td>\n",
       "      <td>2522.0</td>\n",
       "      <td>0008</td>\n",
       "    </tr>\n",
       "    <tr>\n",
       "      <th>8</th>\n",
       "      <td>8</td>\n",
       "      <td>2021-01-01</td>\n",
       "      <td>CH 0009</td>\n",
       "      <td>15909.000000</td>\n",
       "      <td>13716.000000</td>\n",
       "      <td>2202.0</td>\n",
       "      <td>0009</td>\n",
       "    </tr>\n",
       "    <tr>\n",
       "      <th>9</th>\n",
       "      <td>9</td>\n",
       "      <td>2021-01-01</td>\n",
       "      <td>CH 0010</td>\n",
       "      <td>13108.000000</td>\n",
       "      <td>11183.000000</td>\n",
       "      <td>1925.0</td>\n",
       "      <td>0010</td>\n",
       "    </tr>\n",
       "    <tr>\n",
       "      <th>10</th>\n",
       "      <td>10</td>\n",
       "      <td>2021-01-01</td>\n",
       "      <td>CH 0011</td>\n",
       "      <td>20837.000000</td>\n",
       "      <td>16938.000000</td>\n",
       "      <td>3899.0</td>\n",
       "      <td>0011</td>\n",
       "    </tr>\n",
       "  </tbody>\n",
       "</table>\n",
       "</div>"
      ],
      "text/plain": [
       "    Unnamed: 0            Ma Cua Hang     Doanh Thu       Chi Phi  Loi Nhuan  \\\n",
       "0            0 2021-01-01     CH 0001   8012.750000  12685.000000     1966.0   \n",
       "1            1 2021-01-01     CH 0002  22354.036362  19553.724696     1243.0   \n",
       "2            2 2021-01-01     CH 0003  22354.264611   7017.000000     1704.5   \n",
       "3            3 2021-01-01     CH 0004  27120.000000  19557.528798     3332.0   \n",
       "5            5 2021-01-01     CH 0006  22354.264611  18300.500000     1302.0   \n",
       "6            6 2021-01-01     CH 0007  63208.000000  55556.000000     7652.0   \n",
       "7            7 2021-01-01     CH 0008  27605.000000  25083.000000     2522.0   \n",
       "8            8 2021-01-01     CH 0009  15909.000000  13716.000000     2202.0   \n",
       "9            9 2021-01-01     CH 0010  13108.000000  11183.000000     1925.0   \n",
       "10          10 2021-01-01     CH 0011  20837.000000  16938.000000     3899.0   \n",
       "\n",
       "   So Hieu Cua Hang  \n",
       "0              0001  \n",
       "1              0002  \n",
       "2              0003  \n",
       "3              0004  \n",
       "5              0006  \n",
       "6              0007  \n",
       "7              0008  \n",
       "8              0009  \n",
       "9              0010  \n",
       "10             0011  "
      ]
     },
     "execution_count": 76,
     "metadata": {},
     "output_type": "execute_result"
    }
   ],
   "source": [
    "df1.head(10)"
   ]
  },
  {
   "cell_type": "code",
   "execution_count": 43,
   "id": "7a265dce",
   "metadata": {
    "scrolled": false
   },
   "outputs": [],
   "source": [
    "df1['Chi Phi']=df1['Chi Phi'].apply(convert_to_num)"
   ]
  },
  {
   "cell_type": "code",
   "execution_count": 71,
   "id": "fc1ae2f7",
   "metadata": {},
   "outputs": [
    {
     "data": {
      "text/html": [
       "<div>\n",
       "<style scoped>\n",
       "    .dataframe tbody tr th:only-of-type {\n",
       "        vertical-align: middle;\n",
       "    }\n",
       "\n",
       "    .dataframe tbody tr th {\n",
       "        vertical-align: top;\n",
       "    }\n",
       "\n",
       "    .dataframe thead th {\n",
       "        text-align: right;\n",
       "    }\n",
       "</style>\n",
       "<table border=\"1\" class=\"dataframe\">\n",
       "  <thead>\n",
       "    <tr style=\"text-align: right;\">\n",
       "      <th></th>\n",
       "      <th>Unnamed: 0</th>\n",
       "      <th></th>\n",
       "      <th>Ma Cua Hang</th>\n",
       "      <th>Doanh Thu</th>\n",
       "      <th>Chi Phi</th>\n",
       "      <th>Loi Nhuan</th>\n",
       "      <th>So Hieu Cua Hang</th>\n",
       "    </tr>\n",
       "  </thead>\n",
       "  <tbody>\n",
       "    <tr>\n",
       "      <th>0</th>\n",
       "      <td>0</td>\n",
       "      <td>2021-01-01</td>\n",
       "      <td>CH 0001</td>\n",
       "      <td>8012.750000</td>\n",
       "      <td>12685.000000</td>\n",
       "      <td>1966.0</td>\n",
       "      <td>0001</td>\n",
       "    </tr>\n",
       "    <tr>\n",
       "      <th>1</th>\n",
       "      <td>1</td>\n",
       "      <td>2021-01-01</td>\n",
       "      <td>CH 0002</td>\n",
       "      <td>22354.036362</td>\n",
       "      <td>19553.724696</td>\n",
       "      <td>1243.0</td>\n",
       "      <td>0002</td>\n",
       "    </tr>\n",
       "    <tr>\n",
       "      <th>2</th>\n",
       "      <td>2</td>\n",
       "      <td>2021-01-01</td>\n",
       "      <td>CH 0003</td>\n",
       "      <td>22354.264611</td>\n",
       "      <td>7017.000000</td>\n",
       "      <td>1704.5</td>\n",
       "      <td>0003</td>\n",
       "    </tr>\n",
       "    <tr>\n",
       "      <th>3</th>\n",
       "      <td>3</td>\n",
       "      <td>2021-01-01</td>\n",
       "      <td>CH 0004</td>\n",
       "      <td>27120.000000</td>\n",
       "      <td>19557.528798</td>\n",
       "      <td>3332.0</td>\n",
       "      <td>0004</td>\n",
       "    </tr>\n",
       "    <tr>\n",
       "      <th>5</th>\n",
       "      <td>5</td>\n",
       "      <td>2021-01-01</td>\n",
       "      <td>CH 0006</td>\n",
       "      <td>22354.264611</td>\n",
       "      <td>18300.500000</td>\n",
       "      <td>1302.0</td>\n",
       "      <td>0006</td>\n",
       "    </tr>\n",
       "    <tr>\n",
       "      <th>6</th>\n",
       "      <td>6</td>\n",
       "      <td>2021-01-01</td>\n",
       "      <td>CH 0007</td>\n",
       "      <td>63208.000000</td>\n",
       "      <td>55556.000000</td>\n",
       "      <td>7652.0</td>\n",
       "      <td>0007</td>\n",
       "    </tr>\n",
       "    <tr>\n",
       "      <th>7</th>\n",
       "      <td>7</td>\n",
       "      <td>2021-01-01</td>\n",
       "      <td>CH 0008</td>\n",
       "      <td>27605.000000</td>\n",
       "      <td>25083.000000</td>\n",
       "      <td>2522.0</td>\n",
       "      <td>0008</td>\n",
       "    </tr>\n",
       "    <tr>\n",
       "      <th>8</th>\n",
       "      <td>8</td>\n",
       "      <td>2021-01-01</td>\n",
       "      <td>CH 0009</td>\n",
       "      <td>15909.000000</td>\n",
       "      <td>13716.000000</td>\n",
       "      <td>2202.0</td>\n",
       "      <td>0009</td>\n",
       "    </tr>\n",
       "    <tr>\n",
       "      <th>9</th>\n",
       "      <td>9</td>\n",
       "      <td>2021-01-01</td>\n",
       "      <td>CH 0010</td>\n",
       "      <td>13108.000000</td>\n",
       "      <td>11183.000000</td>\n",
       "      <td>1925.0</td>\n",
       "      <td>0010</td>\n",
       "    </tr>\n",
       "    <tr>\n",
       "      <th>10</th>\n",
       "      <td>10</td>\n",
       "      <td>2021-01-01</td>\n",
       "      <td>CH 0011</td>\n",
       "      <td>20837.000000</td>\n",
       "      <td>16938.000000</td>\n",
       "      <td>3899.0</td>\n",
       "      <td>0011</td>\n",
       "    </tr>\n",
       "  </tbody>\n",
       "</table>\n",
       "</div>"
      ],
      "text/plain": [
       "    Unnamed: 0            Ma Cua Hang     Doanh Thu       Chi Phi  Loi Nhuan  \\\n",
       "0            0 2021-01-01     CH 0001   8012.750000  12685.000000     1966.0   \n",
       "1            1 2021-01-01     CH 0002  22354.036362  19553.724696     1243.0   \n",
       "2            2 2021-01-01     CH 0003  22354.264611   7017.000000     1704.5   \n",
       "3            3 2021-01-01     CH 0004  27120.000000  19557.528798     3332.0   \n",
       "5            5 2021-01-01     CH 0006  22354.264611  18300.500000     1302.0   \n",
       "6            6 2021-01-01     CH 0007  63208.000000  55556.000000     7652.0   \n",
       "7            7 2021-01-01     CH 0008  27605.000000  25083.000000     2522.0   \n",
       "8            8 2021-01-01     CH 0009  15909.000000  13716.000000     2202.0   \n",
       "9            9 2021-01-01     CH 0010  13108.000000  11183.000000     1925.0   \n",
       "10          10 2021-01-01     CH 0011  20837.000000  16938.000000     3899.0   \n",
       "\n",
       "   So Hieu Cua Hang  \n",
       "0              0001  \n",
       "1              0002  \n",
       "2              0003  \n",
       "3              0004  \n",
       "5              0006  \n",
       "6              0007  \n",
       "7              0008  \n",
       "8              0009  \n",
       "9              0010  \n",
       "10             0011  "
      ]
     },
     "execution_count": 71,
     "metadata": {},
     "output_type": "execute_result"
    }
   ],
   "source": [
    "df1.head(10)"
   ]
  },
  {
   "cell_type": "code",
   "execution_count": 52,
   "id": "17d3ef55",
   "metadata": {},
   "outputs": [],
   "source": [
    "df1['Loi Nhuan']=df1['Loi Nhuan'].apply(convert_to_num)"
   ]
  },
  {
   "cell_type": "code",
   "execution_count": 53,
   "id": "9bf5e4b6",
   "metadata": {},
   "outputs": [
    {
     "data": {
      "text/html": [
       "<div>\n",
       "<style scoped>\n",
       "    .dataframe tbody tr th:only-of-type {\n",
       "        vertical-align: middle;\n",
       "    }\n",
       "\n",
       "    .dataframe tbody tr th {\n",
       "        vertical-align: top;\n",
       "    }\n",
       "\n",
       "    .dataframe thead th {\n",
       "        text-align: right;\n",
       "    }\n",
       "</style>\n",
       "<table border=\"1\" class=\"dataframe\">\n",
       "  <thead>\n",
       "    <tr style=\"text-align: right;\">\n",
       "      <th></th>\n",
       "      <th>Unnamed: 0</th>\n",
       "      <th></th>\n",
       "      <th>Ma Cua Hang</th>\n",
       "      <th>Doanh Thu</th>\n",
       "      <th>Chi Phi</th>\n",
       "      <th>Loi Nhuan</th>\n",
       "      <th>So Hieu Cua Hang</th>\n",
       "    </tr>\n",
       "  </thead>\n",
       "  <tbody>\n",
       "    <tr>\n",
       "      <th>0</th>\n",
       "      <td>0</td>\n",
       "      <td>2021-01-01</td>\n",
       "      <td>CH 0001</td>\n",
       "      <td>8012.750000</td>\n",
       "      <td>12685.000000</td>\n",
       "      <td>1966.0</td>\n",
       "      <td>0001</td>\n",
       "    </tr>\n",
       "    <tr>\n",
       "      <th>1</th>\n",
       "      <td>1</td>\n",
       "      <td>2021-01-01</td>\n",
       "      <td>CH 0002</td>\n",
       "      <td>22354.036362</td>\n",
       "      <td>19553.724696</td>\n",
       "      <td>1243.0</td>\n",
       "      <td>0002</td>\n",
       "    </tr>\n",
       "    <tr>\n",
       "      <th>2</th>\n",
       "      <td>2</td>\n",
       "      <td>2021-01-01</td>\n",
       "      <td>CH 0003</td>\n",
       "      <td>NaN</td>\n",
       "      <td>7017.000000</td>\n",
       "      <td>1704.5</td>\n",
       "      <td>0003</td>\n",
       "    </tr>\n",
       "    <tr>\n",
       "      <th>3</th>\n",
       "      <td>3</td>\n",
       "      <td>2021-01-01</td>\n",
       "      <td>CH 0004</td>\n",
       "      <td>27120.000000</td>\n",
       "      <td>NaN</td>\n",
       "      <td>3332.0</td>\n",
       "      <td>0004</td>\n",
       "    </tr>\n",
       "    <tr>\n",
       "      <th>5</th>\n",
       "      <td>5</td>\n",
       "      <td>2021-01-01</td>\n",
       "      <td>CH 0006</td>\n",
       "      <td>NaN</td>\n",
       "      <td>18300.500000</td>\n",
       "      <td>1302.0</td>\n",
       "      <td>0006</td>\n",
       "    </tr>\n",
       "    <tr>\n",
       "      <th>6</th>\n",
       "      <td>6</td>\n",
       "      <td>2021-01-01</td>\n",
       "      <td>CH 0007</td>\n",
       "      <td>63208.000000</td>\n",
       "      <td>55556.000000</td>\n",
       "      <td>7652.0</td>\n",
       "      <td>0007</td>\n",
       "    </tr>\n",
       "    <tr>\n",
       "      <th>7</th>\n",
       "      <td>7</td>\n",
       "      <td>2021-01-01</td>\n",
       "      <td>CH 0008</td>\n",
       "      <td>27605.000000</td>\n",
       "      <td>25083.000000</td>\n",
       "      <td>2522.0</td>\n",
       "      <td>0008</td>\n",
       "    </tr>\n",
       "    <tr>\n",
       "      <th>8</th>\n",
       "      <td>8</td>\n",
       "      <td>2021-01-01</td>\n",
       "      <td>CH 0009</td>\n",
       "      <td>15909.000000</td>\n",
       "      <td>13716.000000</td>\n",
       "      <td>2202.0</td>\n",
       "      <td>0009</td>\n",
       "    </tr>\n",
       "    <tr>\n",
       "      <th>9</th>\n",
       "      <td>9</td>\n",
       "      <td>2021-01-01</td>\n",
       "      <td>CH 0010</td>\n",
       "      <td>13108.000000</td>\n",
       "      <td>11183.000000</td>\n",
       "      <td>1925.0</td>\n",
       "      <td>0010</td>\n",
       "    </tr>\n",
       "    <tr>\n",
       "      <th>10</th>\n",
       "      <td>10</td>\n",
       "      <td>2021-01-01</td>\n",
       "      <td>CH 0011</td>\n",
       "      <td>20837.000000</td>\n",
       "      <td>16938.000000</td>\n",
       "      <td>3899.0</td>\n",
       "      <td>0011</td>\n",
       "    </tr>\n",
       "  </tbody>\n",
       "</table>\n",
       "</div>"
      ],
      "text/plain": [
       "    Unnamed: 0            Ma Cua Hang     Doanh Thu       Chi Phi  Loi Nhuan  \\\n",
       "0            0 2021-01-01     CH 0001   8012.750000  12685.000000     1966.0   \n",
       "1            1 2021-01-01     CH 0002  22354.036362  19553.724696     1243.0   \n",
       "2            2 2021-01-01     CH 0003           NaN   7017.000000     1704.5   \n",
       "3            3 2021-01-01     CH 0004  27120.000000           NaN     3332.0   \n",
       "5            5 2021-01-01     CH 0006           NaN  18300.500000     1302.0   \n",
       "6            6 2021-01-01     CH 0007  63208.000000  55556.000000     7652.0   \n",
       "7            7 2021-01-01     CH 0008  27605.000000  25083.000000     2522.0   \n",
       "8            8 2021-01-01     CH 0009  15909.000000  13716.000000     2202.0   \n",
       "9            9 2021-01-01     CH 0010  13108.000000  11183.000000     1925.0   \n",
       "10          10 2021-01-01     CH 0011  20837.000000  16938.000000     3899.0   \n",
       "\n",
       "   So Hieu Cua Hang  \n",
       "0              0001  \n",
       "1              0002  \n",
       "2              0003  \n",
       "3              0004  \n",
       "5              0006  \n",
       "6              0007  \n",
       "7              0008  \n",
       "8              0009  \n",
       "9              0010  \n",
       "10             0011  "
      ]
     },
     "execution_count": 53,
     "metadata": {},
     "output_type": "execute_result"
    }
   ],
   "source": [
    "df1.head(10)"
   ]
  },
  {
   "cell_type": "code",
   "execution_count": 54,
   "id": "1da0269a",
   "metadata": {
    "scrolled": true
   },
   "outputs": [
    {
     "name": "stderr",
     "output_type": "stream",
     "text": [
      "C:\\Users\\Nhan\\AppData\\Local\\Temp\\ipykernel_9092\\2038745650.py:1: FutureWarning: DataFrame.mean and DataFrame.median with numeric_only=None will include datetime64 and datetime64tz columns in a future version.\n",
      "  df1['Doanh Thu'] = df1['Doanh Thu'].fillna(df1.mean()['Doanh Thu'])\n",
      "C:\\Users\\Nhan\\AppData\\Local\\Temp\\ipykernel_9092\\2038745650.py:1: FutureWarning: Dropping of nuisance columns in DataFrame reductions (with 'numeric_only=None') is deprecated; in a future version this will raise TypeError.  Select only valid columns before calling the reduction.\n",
      "  df1['Doanh Thu'] = df1['Doanh Thu'].fillna(df1.mean()['Doanh Thu'])\n"
     ]
    }
   ],
   "source": [
    "df1['Doanh Thu'] = df1['Doanh Thu'].fillna(df1.mean()['Doanh Thu'])"
   ]
  },
  {
   "cell_type": "code",
   "execution_count": 55,
   "id": "d58e0059",
   "metadata": {},
   "outputs": [
    {
     "name": "stderr",
     "output_type": "stream",
     "text": [
      "C:\\Users\\Nhan\\AppData\\Local\\Temp\\ipykernel_9092\\288727167.py:1: FutureWarning: DataFrame.mean and DataFrame.median with numeric_only=None will include datetime64 and datetime64tz columns in a future version.\n",
      "  df1['Chi Phi'] = df1['Chi Phi'].fillna(df1.mean()['Chi Phi'])\n",
      "C:\\Users\\Nhan\\AppData\\Local\\Temp\\ipykernel_9092\\288727167.py:1: FutureWarning: Dropping of nuisance columns in DataFrame reductions (with 'numeric_only=None') is deprecated; in a future version this will raise TypeError.  Select only valid columns before calling the reduction.\n",
      "  df1['Chi Phi'] = df1['Chi Phi'].fillna(df1.mean()['Chi Phi'])\n"
     ]
    }
   ],
   "source": [
    "df1['Chi Phi'] = df1['Chi Phi'].fillna(df1.mean()['Chi Phi'])"
   ]
  },
  {
   "cell_type": "code",
   "execution_count": 56,
   "id": "295b7a30",
   "metadata": {},
   "outputs": [
    {
     "name": "stderr",
     "output_type": "stream",
     "text": [
      "C:\\Users\\Nhan\\AppData\\Local\\Temp\\ipykernel_9092\\2353268808.py:1: FutureWarning: DataFrame.mean and DataFrame.median with numeric_only=None will include datetime64 and datetime64tz columns in a future version.\n",
      "  df1['Loi Nhuan']=df1['Loi Nhuan'].fillna(df1.mean()['Loi Nhuan'])\n",
      "C:\\Users\\Nhan\\AppData\\Local\\Temp\\ipykernel_9092\\2353268808.py:1: FutureWarning: Dropping of nuisance columns in DataFrame reductions (with 'numeric_only=None') is deprecated; in a future version this will raise TypeError.  Select only valid columns before calling the reduction.\n",
      "  df1['Loi Nhuan']=df1['Loi Nhuan'].fillna(df1.mean()['Loi Nhuan'])\n"
     ]
    }
   ],
   "source": [
    "df1['Loi Nhuan']=df1['Loi Nhuan'].fillna(df1.mean()['Loi Nhuan'])"
   ]
  },
  {
   "cell_type": "code",
   "execution_count": 57,
   "id": "9efcc836",
   "metadata": {},
   "outputs": [
    {
     "data": {
      "text/html": [
       "<div>\n",
       "<style scoped>\n",
       "    .dataframe tbody tr th:only-of-type {\n",
       "        vertical-align: middle;\n",
       "    }\n",
       "\n",
       "    .dataframe tbody tr th {\n",
       "        vertical-align: top;\n",
       "    }\n",
       "\n",
       "    .dataframe thead th {\n",
       "        text-align: right;\n",
       "    }\n",
       "</style>\n",
       "<table border=\"1\" class=\"dataframe\">\n",
       "  <thead>\n",
       "    <tr style=\"text-align: right;\">\n",
       "      <th></th>\n",
       "      <th>Unnamed: 0</th>\n",
       "      <th></th>\n",
       "      <th>Ma Cua Hang</th>\n",
       "      <th>Doanh Thu</th>\n",
       "      <th>Chi Phi</th>\n",
       "      <th>Loi Nhuan</th>\n",
       "      <th>So Hieu Cua Hang</th>\n",
       "    </tr>\n",
       "  </thead>\n",
       "  <tbody>\n",
       "    <tr>\n",
       "      <th>0</th>\n",
       "      <td>0</td>\n",
       "      <td>2021-01-01</td>\n",
       "      <td>CH 0001</td>\n",
       "      <td>8012.750000</td>\n",
       "      <td>12685.000000</td>\n",
       "      <td>1966.0</td>\n",
       "      <td>0001</td>\n",
       "    </tr>\n",
       "    <tr>\n",
       "      <th>1</th>\n",
       "      <td>1</td>\n",
       "      <td>2021-01-01</td>\n",
       "      <td>CH 0002</td>\n",
       "      <td>22354.036362</td>\n",
       "      <td>19553.724696</td>\n",
       "      <td>1243.0</td>\n",
       "      <td>0002</td>\n",
       "    </tr>\n",
       "    <tr>\n",
       "      <th>2</th>\n",
       "      <td>2</td>\n",
       "      <td>2021-01-01</td>\n",
       "      <td>CH 0003</td>\n",
       "      <td>22354.264611</td>\n",
       "      <td>7017.000000</td>\n",
       "      <td>1704.5</td>\n",
       "      <td>0003</td>\n",
       "    </tr>\n",
       "    <tr>\n",
       "      <th>3</th>\n",
       "      <td>3</td>\n",
       "      <td>2021-01-01</td>\n",
       "      <td>CH 0004</td>\n",
       "      <td>27120.000000</td>\n",
       "      <td>19557.528798</td>\n",
       "      <td>3332.0</td>\n",
       "      <td>0004</td>\n",
       "    </tr>\n",
       "    <tr>\n",
       "      <th>5</th>\n",
       "      <td>5</td>\n",
       "      <td>2021-01-01</td>\n",
       "      <td>CH 0006</td>\n",
       "      <td>22354.264611</td>\n",
       "      <td>18300.500000</td>\n",
       "      <td>1302.0</td>\n",
       "      <td>0006</td>\n",
       "    </tr>\n",
       "  </tbody>\n",
       "</table>\n",
       "</div>"
      ],
      "text/plain": [
       "   Unnamed: 0            Ma Cua Hang     Doanh Thu       Chi Phi  Loi Nhuan  \\\n",
       "0           0 2021-01-01     CH 0001   8012.750000  12685.000000     1966.0   \n",
       "1           1 2021-01-01     CH 0002  22354.036362  19553.724696     1243.0   \n",
       "2           2 2021-01-01     CH 0003  22354.264611   7017.000000     1704.5   \n",
       "3           3 2021-01-01     CH 0004  27120.000000  19557.528798     3332.0   \n",
       "5           5 2021-01-01     CH 0006  22354.264611  18300.500000     1302.0   \n",
       "\n",
       "  So Hieu Cua Hang  \n",
       "0             0001  \n",
       "1             0002  \n",
       "2             0003  \n",
       "3             0004  \n",
       "5             0006  "
      ]
     },
     "execution_count": 57,
     "metadata": {},
     "output_type": "execute_result"
    }
   ],
   "source": [
    "df1.head()"
   ]
  },
  {
   "cell_type": "code",
   "execution_count": 58,
   "id": "0dd33867",
   "metadata": {
    "scrolled": true
   },
   "outputs": [
    {
     "data": {
      "text/html": [
       "<div>\n",
       "<style scoped>\n",
       "    .dataframe tbody tr th:only-of-type {\n",
       "        vertical-align: middle;\n",
       "    }\n",
       "\n",
       "    .dataframe tbody tr th {\n",
       "        vertical-align: top;\n",
       "    }\n",
       "\n",
       "    .dataframe thead th {\n",
       "        text-align: right;\n",
       "    }\n",
       "</style>\n",
       "<table border=\"1\" class=\"dataframe\">\n",
       "  <thead>\n",
       "    <tr style=\"text-align: right;\">\n",
       "      <th></th>\n",
       "      <th>Unnamed: 0</th>\n",
       "      <th>Doanh Thu</th>\n",
       "      <th>Chi Phi</th>\n",
       "      <th>Loi Nhuan</th>\n",
       "    </tr>\n",
       "  </thead>\n",
       "  <tbody>\n",
       "    <tr>\n",
       "      <th>count</th>\n",
       "      <td>99128.000000</td>\n",
       "      <td>99128.000000</td>\n",
       "      <td>99128.000000</td>\n",
       "      <td>99128.000000</td>\n",
       "    </tr>\n",
       "    <tr>\n",
       "      <th>mean</th>\n",
       "      <td>49564.499960</td>\n",
       "      <td>22354.264611</td>\n",
       "      <td>19557.528798</td>\n",
       "      <td>2796.564952</td>\n",
       "    </tr>\n",
       "    <tr>\n",
       "      <th>std</th>\n",
       "      <td>28615.933149</td>\n",
       "      <td>12044.632508</td>\n",
       "      <td>10595.387342</td>\n",
       "      <td>1866.471719</td>\n",
       "    </tr>\n",
       "    <tr>\n",
       "      <th>min</th>\n",
       "      <td>0.000000</td>\n",
       "      <td>0.000000</td>\n",
       "      <td>0.000000</td>\n",
       "      <td>0.000000</td>\n",
       "    </tr>\n",
       "    <tr>\n",
       "      <th>25%</th>\n",
       "      <td>24782.750000</td>\n",
       "      <td>13214.000000</td>\n",
       "      <td>11516.750000</td>\n",
       "      <td>1378.000000</td>\n",
       "    </tr>\n",
       "    <tr>\n",
       "      <th>50%</th>\n",
       "      <td>49564.500000</td>\n",
       "      <td>21750.500000</td>\n",
       "      <td>19009.000000</td>\n",
       "      <td>2439.000000</td>\n",
       "    </tr>\n",
       "    <tr>\n",
       "      <th>75%</th>\n",
       "      <td>74346.250000</td>\n",
       "      <td>30556.000000</td>\n",
       "      <td>26701.250000</td>\n",
       "      <td>3867.000000</td>\n",
       "    </tr>\n",
       "    <tr>\n",
       "      <th>max</th>\n",
       "      <td>99128.000000</td>\n",
       "      <td>69571.000000</td>\n",
       "      <td>63893.000000</td>\n",
       "      <td>12812.000000</td>\n",
       "    </tr>\n",
       "  </tbody>\n",
       "</table>\n",
       "</div>"
      ],
      "text/plain": [
       "         Unnamed: 0     Doanh Thu       Chi Phi     Loi Nhuan\n",
       "count  99128.000000  99128.000000  99128.000000  99128.000000\n",
       "mean   49564.499960  22354.264611  19557.528798   2796.564952\n",
       "std    28615.933149  12044.632508  10595.387342   1866.471719\n",
       "min        0.000000      0.000000      0.000000      0.000000\n",
       "25%    24782.750000  13214.000000  11516.750000   1378.000000\n",
       "50%    49564.500000  21750.500000  19009.000000   2439.000000\n",
       "75%    74346.250000  30556.000000  26701.250000   3867.000000\n",
       "max    99128.000000  69571.000000  63893.000000  12812.000000"
      ]
     },
     "execution_count": 58,
     "metadata": {},
     "output_type": "execute_result"
    }
   ],
   "source": [
    "df1.describe()"
   ]
  },
  {
   "cell_type": "code",
   "execution_count": 70,
   "id": "aaaa5116",
   "metadata": {},
   "outputs": [],
   "source": [
    "df1.to_csv(r\"C:\\Users\\Nhan\\Documents\\Data Cleaning\\source file\\data mining revenue 25-12-202.csv\")"
   ]
  },
  {
   "cell_type": "code",
   "execution_count": 59,
   "id": "d4749bdb",
   "metadata": {},
   "outputs": [],
   "source": [
    "df4=df1.copy()"
   ]
  },
  {
   "cell_type": "code",
   "execution_count": 60,
   "id": "81d58f21",
   "metadata": {},
   "outputs": [
    {
     "data": {
      "text/plain": [
       "CH 0001    17\n",
       "CH 3879    17\n",
       "CH 3877    17\n",
       "CH 3876    17\n",
       "CH 3875    17\n",
       "           ..\n",
       "CH 5851     1\n",
       "CH 5849     1\n",
       "CH 5848     1\n",
       "CH 5847     1\n",
       "CH 5865     1\n",
       "Name: Ma Cua Hang, Length: 5905, dtype: int64"
      ]
     },
     "execution_count": 60,
     "metadata": {},
     "output_type": "execute_result"
    }
   ],
   "source": [
    "df4['Ma Cua Hang']=df1['Ma Cua Hang'].apply(lambda x : x.strip())\n",
    "MaCuaHang=df4['Ma Cua Hang'].value_counts(ascending= False )\n",
    "MaCuaHang"
   ]
  },
  {
   "cell_type": "code",
   "execution_count": 61,
   "id": "d391842b",
   "metadata": {},
   "outputs": [
    {
     "data": {
      "text/plain": [
       "99128"
      ]
     },
     "execution_count": 61,
     "metadata": {},
     "output_type": "execute_result"
    }
   ],
   "source": [
    "MaCuaHang.values.sum()"
   ]
  },
  {
   "cell_type": "code",
   "execution_count": 62,
   "id": "412d902d",
   "metadata": {
    "scrolled": true
   },
   "outputs": [
    {
     "data": {
      "text/plain": [
       "60"
      ]
     },
     "execution_count": 62,
     "metadata": {},
     "output_type": "execute_result"
    }
   ],
   "source": [
    "len(MaCuaHang[MaCuaHang<=1])"
   ]
  },
  {
   "cell_type": "code",
   "execution_count": 63,
   "id": "7893c152",
   "metadata": {},
   "outputs": [
    {
     "data": {
      "text/plain": [
       "5845"
      ]
     },
     "execution_count": 63,
     "metadata": {},
     "output_type": "execute_result"
    }
   ],
   "source": [
    "len(MaCuaHang[MaCuaHang>1])"
   ]
  },
  {
   "cell_type": "code",
   "execution_count": 64,
   "id": "657b5532",
   "metadata": {},
   "outputs": [
    {
     "data": {
      "text/plain": [
       "CH 5882    2\n",
       "CH 5905    2\n",
       "CH 5904    2\n",
       "CH 5885    1\n",
       "CH 5875    1\n",
       "          ..\n",
       "CH 5851    1\n",
       "CH 5849    1\n",
       "CH 5848    1\n",
       "CH 5847    1\n",
       "CH 5865    1\n",
       "Name: Ma Cua Hang, Length: 63, dtype: int64"
      ]
     },
     "execution_count": 64,
     "metadata": {},
     "output_type": "execute_result"
    }
   ],
   "source": [
    "MaCuaHang_less_than_1=MaCuaHang[MaCuaHang<=2]\n",
    "MaCuaHang_less_than_1"
   ]
  },
  {
   "cell_type": "code",
   "execution_count": 65,
   "id": "801b423c",
   "metadata": {},
   "outputs": [
    {
     "data": {
      "text/plain": [
       "5905"
      ]
     },
     "execution_count": 65,
     "metadata": {},
     "output_type": "execute_result"
    }
   ],
   "source": [
    "len(df4['Ma Cua Hang'].unique())"
   ]
  },
  {
   "cell_type": "code",
   "execution_count": 66,
   "id": "8b6fd5f9",
   "metadata": {},
   "outputs": [
    {
     "data": {
      "text/plain": [
       "5843"
      ]
     },
     "execution_count": 66,
     "metadata": {},
     "output_type": "execute_result"
    }
   ],
   "source": [
    "df4['Ma Cua Hang']=df4['Ma Cua Hang'].apply(lambda x: 'other' if x in MaCuaHang_less_than_1 else x)\n",
    "len(df4['Ma Cua Hang'].unique())"
   ]
  },
  {
   "cell_type": "code",
   "execution_count": 67,
   "id": "6dcec271",
   "metadata": {},
   "outputs": [
    {
     "data": {
      "text/html": [
       "<div>\n",
       "<style scoped>\n",
       "    .dataframe tbody tr th:only-of-type {\n",
       "        vertical-align: middle;\n",
       "    }\n",
       "\n",
       "    .dataframe tbody tr th {\n",
       "        vertical-align: top;\n",
       "    }\n",
       "\n",
       "    .dataframe thead th {\n",
       "        text-align: right;\n",
       "    }\n",
       "</style>\n",
       "<table border=\"1\" class=\"dataframe\">\n",
       "  <thead>\n",
       "    <tr style=\"text-align: right;\">\n",
       "      <th></th>\n",
       "      <th>Unnamed: 0</th>\n",
       "      <th></th>\n",
       "      <th>Ma Cua Hang</th>\n",
       "      <th>Doanh Thu</th>\n",
       "      <th>Chi Phi</th>\n",
       "      <th>Loi Nhuan</th>\n",
       "      <th>So Hieu Cua Hang</th>\n",
       "    </tr>\n",
       "  </thead>\n",
       "  <tbody>\n",
       "    <tr>\n",
       "      <th>0</th>\n",
       "      <td>0</td>\n",
       "      <td>2021-01-01</td>\n",
       "      <td>CH 0001</td>\n",
       "      <td>8012.750000</td>\n",
       "      <td>12685.000000</td>\n",
       "      <td>1966.0</td>\n",
       "      <td>0001</td>\n",
       "    </tr>\n",
       "    <tr>\n",
       "      <th>1</th>\n",
       "      <td>1</td>\n",
       "      <td>2021-01-01</td>\n",
       "      <td>CH 0002</td>\n",
       "      <td>22354.036362</td>\n",
       "      <td>19553.724696</td>\n",
       "      <td>1243.0</td>\n",
       "      <td>0002</td>\n",
       "    </tr>\n",
       "    <tr>\n",
       "      <th>2</th>\n",
       "      <td>2</td>\n",
       "      <td>2021-01-01</td>\n",
       "      <td>CH 0003</td>\n",
       "      <td>22354.264611</td>\n",
       "      <td>7017.000000</td>\n",
       "      <td>1704.5</td>\n",
       "      <td>0003</td>\n",
       "    </tr>\n",
       "    <tr>\n",
       "      <th>3</th>\n",
       "      <td>3</td>\n",
       "      <td>2021-01-01</td>\n",
       "      <td>CH 0004</td>\n",
       "      <td>27120.000000</td>\n",
       "      <td>19557.528798</td>\n",
       "      <td>3332.0</td>\n",
       "      <td>0004</td>\n",
       "    </tr>\n",
       "    <tr>\n",
       "      <th>5</th>\n",
       "      <td>5</td>\n",
       "      <td>2021-01-01</td>\n",
       "      <td>CH 0006</td>\n",
       "      <td>22354.264611</td>\n",
       "      <td>18300.500000</td>\n",
       "      <td>1302.0</td>\n",
       "      <td>0006</td>\n",
       "    </tr>\n",
       "    <tr>\n",
       "      <th>6</th>\n",
       "      <td>6</td>\n",
       "      <td>2021-01-01</td>\n",
       "      <td>CH 0007</td>\n",
       "      <td>63208.000000</td>\n",
       "      <td>55556.000000</td>\n",
       "      <td>7652.0</td>\n",
       "      <td>0007</td>\n",
       "    </tr>\n",
       "    <tr>\n",
       "      <th>7</th>\n",
       "      <td>7</td>\n",
       "      <td>2021-01-01</td>\n",
       "      <td>CH 0008</td>\n",
       "      <td>27605.000000</td>\n",
       "      <td>25083.000000</td>\n",
       "      <td>2522.0</td>\n",
       "      <td>0008</td>\n",
       "    </tr>\n",
       "    <tr>\n",
       "      <th>8</th>\n",
       "      <td>8</td>\n",
       "      <td>2021-01-01</td>\n",
       "      <td>CH 0009</td>\n",
       "      <td>15909.000000</td>\n",
       "      <td>13716.000000</td>\n",
       "      <td>2202.0</td>\n",
       "      <td>0009</td>\n",
       "    </tr>\n",
       "    <tr>\n",
       "      <th>9</th>\n",
       "      <td>9</td>\n",
       "      <td>2021-01-01</td>\n",
       "      <td>CH 0010</td>\n",
       "      <td>13108.000000</td>\n",
       "      <td>11183.000000</td>\n",
       "      <td>1925.0</td>\n",
       "      <td>0010</td>\n",
       "    </tr>\n",
       "    <tr>\n",
       "      <th>10</th>\n",
       "      <td>10</td>\n",
       "      <td>2021-01-01</td>\n",
       "      <td>CH 0011</td>\n",
       "      <td>20837.000000</td>\n",
       "      <td>16938.000000</td>\n",
       "      <td>3899.0</td>\n",
       "      <td>0011</td>\n",
       "    </tr>\n",
       "  </tbody>\n",
       "</table>\n",
       "</div>"
      ],
      "text/plain": [
       "    Unnamed: 0            Ma Cua Hang     Doanh Thu       Chi Phi  Loi Nhuan  \\\n",
       "0            0 2021-01-01     CH 0001   8012.750000  12685.000000     1966.0   \n",
       "1            1 2021-01-01     CH 0002  22354.036362  19553.724696     1243.0   \n",
       "2            2 2021-01-01     CH 0003  22354.264611   7017.000000     1704.5   \n",
       "3            3 2021-01-01     CH 0004  27120.000000  19557.528798     3332.0   \n",
       "5            5 2021-01-01     CH 0006  22354.264611  18300.500000     1302.0   \n",
       "6            6 2021-01-01     CH 0007  63208.000000  55556.000000     7652.0   \n",
       "7            7 2021-01-01     CH 0008  27605.000000  25083.000000     2522.0   \n",
       "8            8 2021-01-01     CH 0009  15909.000000  13716.000000     2202.0   \n",
       "9            9 2021-01-01     CH 0010  13108.000000  11183.000000     1925.0   \n",
       "10          10 2021-01-01     CH 0011  20837.000000  16938.000000     3899.0   \n",
       "\n",
       "   So Hieu Cua Hang  \n",
       "0              0001  \n",
       "1              0002  \n",
       "2              0003  \n",
       "3              0004  \n",
       "5              0006  \n",
       "6              0007  \n",
       "7              0008  \n",
       "8              0009  \n",
       "9              0010  \n",
       "10             0011  "
      ]
     },
     "execution_count": 67,
     "metadata": {},
     "output_type": "execute_result"
    }
   ],
   "source": [
    "df4.head(10)"
   ]
  },
  {
   "cell_type": "code",
   "execution_count": null,
   "id": "451f1a92",
   "metadata": {},
   "outputs": [],
   "source": [
    "#df4.to_csv('Doanh Thu 30-11-2022.csv')"
   ]
  }
 ],
 "metadata": {
  "kernelspec": {
   "display_name": "Python 3 (ipykernel)",
   "language": "python",
   "name": "python3"
  },
  "language_info": {
   "codemirror_mode": {
    "name": "ipython",
    "version": 3
   },
   "file_extension": ".py",
   "mimetype": "text/x-python",
   "name": "python",
   "nbconvert_exporter": "python",
   "pygments_lexer": "ipython3",
   "version": "3.9.12"
  }
 },
 "nbformat": 4,
 "nbformat_minor": 5
}
