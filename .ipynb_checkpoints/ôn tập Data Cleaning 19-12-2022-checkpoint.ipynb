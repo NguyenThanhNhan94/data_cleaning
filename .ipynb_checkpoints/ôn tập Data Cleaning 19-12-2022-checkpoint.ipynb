{
 "cells": [
  {
   "cell_type": "code",
   "execution_count": 1,
   "id": "d54df922",
   "metadata": {},
   "outputs": [
    {
     "data": {
      "text/plain": [
       "False"
      ]
     },
     "execution_count": 1,
     "metadata": {},
     "output_type": "execute_result"
    }
   ],
   "source": [
    "import pandas as pd\n",
    "import numpy as np\n",
    "from matplotlib import pyplot as plt \n",
    "%matplotlib inline\n",
    "import matplotlib\n",
    "matplotlib.rcParams[\"figure.figsize\"] == (20,10)"
   ]
  },
  {
   "cell_type": "code",
   "execution_count": 3,
   "id": "33bddfd0",
   "metadata": {},
   "outputs": [],
   "source": [
    "df=pd.read_csv('DoanhThuDemo.csv')"
   ]
  },
  {
   "cell_type": "code",
   "execution_count": 4,
   "id": "55588418",
   "metadata": {},
   "outputs": [
    {
     "name": "stdout",
     "output_type": "stream",
     "text": [
      "<class 'pandas.core.frame.DataFrame'>\n",
      "RangeIndex: 99129 entries, 0 to 99128\n",
      "Data columns (total 5 columns):\n",
      " #   Column       Non-Null Count  Dtype \n",
      "---  ------       --------------  ----- \n",
      " 0                99129 non-null  object\n",
      " 1   Ma Cua Hang  99129 non-null  object\n",
      " 2   Doanh Thu    99126 non-null  object\n",
      " 3   Chi Phi      99125 non-null  object\n",
      " 4   Loi Nhuan    99128 non-null  object\n",
      "dtypes: object(5)\n",
      "memory usage: 3.8+ MB\n"
     ]
    }
   ],
   "source": [
    "df.info()"
   ]
  },
  {
   "cell_type": "code",
   "execution_count": 27,
   "id": "bd81683e",
   "metadata": {},
   "outputs": [
    {
     "data": {
      "text/html": [
       "<div>\n",
       "<style scoped>\n",
       "    .dataframe tbody tr th:only-of-type {\n",
       "        vertical-align: middle;\n",
       "    }\n",
       "\n",
       "    .dataframe tbody tr th {\n",
       "        vertical-align: top;\n",
       "    }\n",
       "\n",
       "    .dataframe thead th {\n",
       "        text-align: right;\n",
       "    }\n",
       "</style>\n",
       "<table border=\"1\" class=\"dataframe\">\n",
       "  <thead>\n",
       "    <tr style=\"text-align: right;\">\n",
       "      <th></th>\n",
       "      <th></th>\n",
       "      <th>Ma Cua Hang</th>\n",
       "      <th>Doanh Thu</th>\n",
       "      <th>Chi Phi</th>\n",
       "      <th>Loi Nhuan</th>\n",
       "    </tr>\n",
       "  </thead>\n",
       "  <tbody>\n",
       "    <tr>\n",
       "      <th>0</th>\n",
       "      <td>1/1/2021</td>\n",
       "      <td>CH 0001</td>\n",
       "      <td>14651-14600</td>\n",
       "      <td>12685</td>\n",
       "      <td>1966</td>\n",
       "    </tr>\n",
       "    <tr>\n",
       "      <th>1</th>\n",
       "      <td>1/1/2021</td>\n",
       "      <td>CH 0002</td>\n",
       "      <td>NaN</td>\n",
       "      <td>NaN</td>\n",
       "      <td>1243-1200</td>\n",
       "    </tr>\n",
       "    <tr>\n",
       "      <th>2</th>\n",
       "      <td>1/1/2021</td>\n",
       "      <td>CH 0003</td>\n",
       "      <td>NaN</td>\n",
       "      <td>7017</td>\n",
       "      <td>1709</td>\n",
       "    </tr>\n",
       "    <tr>\n",
       "      <th>3</th>\n",
       "      <td>1/1/2021</td>\n",
       "      <td>CH 0004</td>\n",
       "      <td>27120</td>\n",
       "      <td>23788</td>\n",
       "      <td>3332</td>\n",
       "    </tr>\n",
       "    <tr>\n",
       "      <th>4</th>\n",
       "      <td>1/1/2021</td>\n",
       "      <td>CH 0005</td>\n",
       "      <td>9195</td>\n",
       "      <td>7452-7000</td>\n",
       "      <td>1743</td>\n",
       "    </tr>\n",
       "    <tr>\n",
       "      <th>5</th>\n",
       "      <td>1/1/2021</td>\n",
       "      <td>CH 0006</td>\n",
       "      <td>19903</td>\n",
       "      <td>18601</td>\n",
       "      <td>1302</td>\n",
       "    </tr>\n",
       "    <tr>\n",
       "      <th>6</th>\n",
       "      <td>1/1/2021</td>\n",
       "      <td>CH 0007</td>\n",
       "      <td>63208</td>\n",
       "      <td>55556</td>\n",
       "      <td>7652</td>\n",
       "    </tr>\n",
       "    <tr>\n",
       "      <th>7</th>\n",
       "      <td>1/1/2021</td>\n",
       "      <td>CH 0008</td>\n",
       "      <td>27605</td>\n",
       "      <td>25083</td>\n",
       "      <td>2522</td>\n",
       "    </tr>\n",
       "    <tr>\n",
       "      <th>8</th>\n",
       "      <td>1/1/2021</td>\n",
       "      <td>CH 0009</td>\n",
       "      <td>15918-15900</td>\n",
       "      <td>13716</td>\n",
       "      <td>2202</td>\n",
       "    </tr>\n",
       "    <tr>\n",
       "      <th>9</th>\n",
       "      <td>1/1/2021</td>\n",
       "      <td>CH 0010</td>\n",
       "      <td>13108</td>\n",
       "      <td>NaN</td>\n",
       "      <td>1925</td>\n",
       "    </tr>\n",
       "  </tbody>\n",
       "</table>\n",
       "</div>"
      ],
      "text/plain": [
       "            Ma Cua Hang    Doanh Thu    Chi Phi  Loi Nhuan\n",
       "0  1/1/2021     CH 0001  14651-14600      12685       1966\n",
       "1  1/1/2021     CH 0002          NaN        NaN  1243-1200\n",
       "2  1/1/2021     CH 0003          NaN       7017       1709\n",
       "3  1/1/2021     CH 0004        27120      23788       3332\n",
       "4  1/1/2021     CH 0005         9195  7452-7000       1743\n",
       "5  1/1/2021     CH 0006        19903      18601       1302\n",
       "6  1/1/2021     CH 0007        63208      55556       7652\n",
       "7  1/1/2021     CH 0008        27605      25083       2522\n",
       "8  1/1/2021     CH 0009  15918-15900      13716       2202\n",
       "9  1/1/2021     CH 0010        13108        NaN       1925"
      ]
     },
     "execution_count": 27,
     "metadata": {},
     "output_type": "execute_result"
    }
   ],
   "source": [
    "df.head(10)"
   ]
  },
  {
   "cell_type": "code",
   "execution_count": 7,
   "id": "861fe9c3",
   "metadata": {},
   "outputs": [
    {
     "data": {
      "text/plain": [
       "Index([' ', 'Ma Cua Hang', 'Doanh Thu', 'Chi Phi', 'Loi Nhuan'], dtype='object')"
      ]
     },
     "execution_count": 7,
     "metadata": {},
     "output_type": "execute_result"
    }
   ],
   "source": [
    "df.columns"
   ]
  },
  {
   "cell_type": "code",
   "execution_count": 11,
   "id": "26b9ff2a",
   "metadata": {},
   "outputs": [
    {
     "data": {
      "text/plain": [
       "count     99126\n",
       "unique    40235\n",
       "top           0\n",
       "freq         73\n",
       "Name: Doanh Thu, dtype: object"
      ]
     },
     "execution_count": 11,
     "metadata": {},
     "output_type": "execute_result"
    }
   ],
   "source": [
    "df['Doanh Thu'].describe()"
   ]
  },
  {
   "cell_type": "code",
   "execution_count": 12,
   "id": "a6dc9cf6",
   "metadata": {
    "scrolled": true
   },
   "outputs": [
    {
     "data": {
      "text/plain": [
       "               object\n",
       "Ma Cua Hang    object\n",
       "Doanh Thu      object\n",
       "Chi Phi        object\n",
       "Loi Nhuan      object\n",
       "dtype: object"
      ]
     },
     "execution_count": 12,
     "metadata": {},
     "output_type": "execute_result"
    }
   ],
   "source": [
    "df.dtypes"
   ]
  },
  {
   "cell_type": "code",
   "execution_count": 37,
   "id": "69784a8d",
   "metadata": {},
   "outputs": [
    {
     "data": {
      "text/plain": [
       "0              73\n",
       "23748          15\n",
       "22062          12\n",
       "20458          12\n",
       "22333          12\n",
       "               ..\n",
       "5696            1\n",
       "15420           1\n",
       "18815           1\n",
       "4243            1\n",
       "14651-14600     1\n",
       "Name: Doanh Thu, Length: 40235, dtype: int64"
      ]
     },
     "execution_count": 37,
     "metadata": {},
     "output_type": "execute_result"
    }
   ],
   "source": [
    "df['Doanh Thu'].value_counts()"
   ]
  },
  {
   "cell_type": "code",
   "execution_count": 14,
   "id": "41015809",
   "metadata": {},
   "outputs": [
    {
     "data": {
      "text/plain": [
       "               0\n",
       "Ma Cua Hang    0\n",
       "Doanh Thu      3\n",
       "Chi Phi        4\n",
       "Loi Nhuan      1\n",
       "dtype: int64"
      ]
     },
     "execution_count": 14,
     "metadata": {},
     "output_type": "execute_result"
    }
   ],
   "source": [
    "df.isnull().sum()"
   ]
  },
  {
   "cell_type": "code",
   "execution_count": 45,
   "id": "dc2ff7c0",
   "metadata": {},
   "outputs": [],
   "source": [
    "def is_float(x):\n",
    "    try:\n",
    "            float(x)\n",
    "    except:\n",
    "            return False\n",
    "    return  True"
   ]
  },
  {
   "cell_type": "code",
   "execution_count": 46,
   "id": "5f56f257",
   "metadata": {},
   "outputs": [
    {
     "data": {
      "text/html": [
       "<div>\n",
       "<style scoped>\n",
       "    .dataframe tbody tr th:only-of-type {\n",
       "        vertical-align: middle;\n",
       "    }\n",
       "\n",
       "    .dataframe tbody tr th {\n",
       "        vertical-align: top;\n",
       "    }\n",
       "\n",
       "    .dataframe thead th {\n",
       "        text-align: right;\n",
       "    }\n",
       "</style>\n",
       "<table border=\"1\" class=\"dataframe\">\n",
       "  <thead>\n",
       "    <tr style=\"text-align: right;\">\n",
       "      <th></th>\n",
       "      <th></th>\n",
       "      <th>Ma Cua Hang</th>\n",
       "      <th>Doanh Thu</th>\n",
       "      <th>Chi Phi</th>\n",
       "      <th>Loi Nhuan</th>\n",
       "    </tr>\n",
       "  </thead>\n",
       "  <tbody>\n",
       "    <tr>\n",
       "      <th>0</th>\n",
       "      <td>1/1/2021</td>\n",
       "      <td>CH 0001</td>\n",
       "      <td>14651-14600</td>\n",
       "      <td>12685</td>\n",
       "      <td>1966</td>\n",
       "    </tr>\n",
       "    <tr>\n",
       "      <th>8</th>\n",
       "      <td>1/1/2021</td>\n",
       "      <td>CH 0009</td>\n",
       "      <td>15918-15900</td>\n",
       "      <td>13716</td>\n",
       "      <td>2202</td>\n",
       "    </tr>\n",
       "    <tr>\n",
       "      <th>15</th>\n",
       "      <td>1/1/2021</td>\n",
       "      <td>CH 0016</td>\n",
       "      <td>32638-32000</td>\n",
       "      <td>26933</td>\n",
       "      <td>5705</td>\n",
       "    </tr>\n",
       "  </tbody>\n",
       "</table>\n",
       "</div>"
      ],
      "text/plain": [
       "             Ma Cua Hang    Doanh Thu Chi Phi Loi Nhuan\n",
       "0   1/1/2021     CH 0001  14651-14600   12685      1966\n",
       "8   1/1/2021     CH 0009  15918-15900   13716      2202\n",
       "15  1/1/2021     CH 0016  32638-32000   26933      5705"
      ]
     },
     "execution_count": 46,
     "metadata": {},
     "output_type": "execute_result"
    }
   ],
   "source": [
    "df[~df['Doanh Thu'].apply(is_float)].head()"
   ]
  },
  {
   "cell_type": "code",
   "execution_count": 47,
   "id": "0ec52cd8",
   "metadata": {},
   "outputs": [
    {
     "data": {
      "text/html": [
       "<div>\n",
       "<style scoped>\n",
       "    .dataframe tbody tr th:only-of-type {\n",
       "        vertical-align: middle;\n",
       "    }\n",
       "\n",
       "    .dataframe tbody tr th {\n",
       "        vertical-align: top;\n",
       "    }\n",
       "\n",
       "    .dataframe thead th {\n",
       "        text-align: right;\n",
       "    }\n",
       "</style>\n",
       "<table border=\"1\" class=\"dataframe\">\n",
       "  <thead>\n",
       "    <tr style=\"text-align: right;\">\n",
       "      <th></th>\n",
       "      <th></th>\n",
       "      <th>Ma Cua Hang</th>\n",
       "      <th>Doanh Thu</th>\n",
       "      <th>Chi Phi</th>\n",
       "      <th>Loi Nhuan</th>\n",
       "    </tr>\n",
       "  </thead>\n",
       "  <tbody>\n",
       "    <tr>\n",
       "      <th>4</th>\n",
       "      <td>1/1/2021</td>\n",
       "      <td>CH 0005</td>\n",
       "      <td>9195</td>\n",
       "      <td>7452-7000</td>\n",
       "      <td>1743</td>\n",
       "    </tr>\n",
       "    <tr>\n",
       "      <th>73955</th>\n",
       "      <td>1/13/2021</td>\n",
       "      <td>CH 3994</td>\n",
       "      <td>1882</td>\n",
       "      <td>1604-1604</td>\n",
       "      <td>278</td>\n",
       "    </tr>\n",
       "  </tbody>\n",
       "</table>\n",
       "</div>"
      ],
      "text/plain": [
       "                 Ma Cua Hang Doanh Thu    Chi Phi Loi Nhuan\n",
       "4       1/1/2021     CH 0005      9195  7452-7000      1743\n",
       "73955  1/13/2021     CH 3994      1882  1604-1604       278"
      ]
     },
     "execution_count": 47,
     "metadata": {},
     "output_type": "execute_result"
    }
   ],
   "source": [
    "df[~df['Chi Phi'].apply(is_float)].head(5)"
   ]
  },
  {
   "cell_type": "code",
   "execution_count": 48,
   "id": "b1ac3e77",
   "metadata": {},
   "outputs": [
    {
     "data": {
      "text/html": [
       "<div>\n",
       "<style scoped>\n",
       "    .dataframe tbody tr th:only-of-type {\n",
       "        vertical-align: middle;\n",
       "    }\n",
       "\n",
       "    .dataframe tbody tr th {\n",
       "        vertical-align: top;\n",
       "    }\n",
       "\n",
       "    .dataframe thead th {\n",
       "        text-align: right;\n",
       "    }\n",
       "</style>\n",
       "<table border=\"1\" class=\"dataframe\">\n",
       "  <thead>\n",
       "    <tr style=\"text-align: right;\">\n",
       "      <th></th>\n",
       "      <th></th>\n",
       "      <th>Ma Cua Hang</th>\n",
       "      <th>Doanh Thu</th>\n",
       "      <th>Chi Phi</th>\n",
       "      <th>Loi Nhuan</th>\n",
       "    </tr>\n",
       "  </thead>\n",
       "  <tbody>\n",
       "    <tr>\n",
       "      <th>1</th>\n",
       "      <td>1/1/2021</td>\n",
       "      <td>CH 0002</td>\n",
       "      <td>NaN</td>\n",
       "      <td>NaN</td>\n",
       "      <td>1243-1200</td>\n",
       "    </tr>\n",
       "    <tr>\n",
       "      <th>74059</th>\n",
       "      <td>1/13/2021</td>\n",
       "      <td>CH 4098</td>\n",
       "      <td>8088</td>\n",
       "      <td>7391</td>\n",
       "      <td>697-600</td>\n",
       "    </tr>\n",
       "  </tbody>\n",
       "</table>\n",
       "</div>"
      ],
      "text/plain": [
       "                 Ma Cua Hang Doanh Thu Chi Phi  Loi Nhuan\n",
       "1       1/1/2021     CH 0002       NaN     NaN  1243-1200\n",
       "74059  1/13/2021     CH 4098      8088    7391    697-600"
      ]
     },
     "execution_count": 48,
     "metadata": {},
     "output_type": "execute_result"
    }
   ],
   "source": [
    "df[~df['Loi Nhuan'].apply(is_float)].head()"
   ]
  },
  {
   "cell_type": "code",
   "execution_count": 57,
   "id": "80072fa7",
   "metadata": {},
   "outputs": [],
   "source": [
    "def covert_to_num(x):\n",
    "    tokens= str(x).split('-')\n",
    "    if len(tokens)== 2:\n",
    "        return (float(tokens[0])+float(tokens[1]))/2\n",
    "    try: \n",
    "        return float(x)\n",
    "    except :\n",
    "        return None\n",
    "    "
   ]
  },
  {
   "cell_type": "code",
   "execution_count": 62,
   "id": "28fb8bdf",
   "metadata": {},
   "outputs": [
    {
     "data": {
      "text/html": [
       "<div>\n",
       "<style scoped>\n",
       "    .dataframe tbody tr th:only-of-type {\n",
       "        vertical-align: middle;\n",
       "    }\n",
       "\n",
       "    .dataframe tbody tr th {\n",
       "        vertical-align: top;\n",
       "    }\n",
       "\n",
       "    .dataframe thead th {\n",
       "        text-align: right;\n",
       "    }\n",
       "</style>\n",
       "<table border=\"1\" class=\"dataframe\">\n",
       "  <thead>\n",
       "    <tr style=\"text-align: right;\">\n",
       "      <th></th>\n",
       "      <th></th>\n",
       "      <th>Ma Cua Hang</th>\n",
       "      <th>Doanh Thu</th>\n",
       "      <th>Chi Phi</th>\n",
       "      <th>Loi Nhuan</th>\n",
       "    </tr>\n",
       "  </thead>\n",
       "  <tbody>\n",
       "    <tr>\n",
       "      <th>0</th>\n",
       "      <td>1/1/2021</td>\n",
       "      <td>CH 0001</td>\n",
       "      <td>14625.5</td>\n",
       "      <td>12685</td>\n",
       "      <td>1966</td>\n",
       "    </tr>\n",
       "    <tr>\n",
       "      <th>3</th>\n",
       "      <td>1/1/2021</td>\n",
       "      <td>CH 0004</td>\n",
       "      <td>27120.0</td>\n",
       "      <td>23788</td>\n",
       "      <td>3332</td>\n",
       "    </tr>\n",
       "    <tr>\n",
       "      <th>4</th>\n",
       "      <td>1/1/2021</td>\n",
       "      <td>CH 0005</td>\n",
       "      <td>9195.0</td>\n",
       "      <td>7452-7000</td>\n",
       "      <td>1743</td>\n",
       "    </tr>\n",
       "    <tr>\n",
       "      <th>5</th>\n",
       "      <td>1/1/2021</td>\n",
       "      <td>CH 0006</td>\n",
       "      <td>19903.0</td>\n",
       "      <td>18601</td>\n",
       "      <td>1302</td>\n",
       "    </tr>\n",
       "    <tr>\n",
       "      <th>6</th>\n",
       "      <td>1/1/2021</td>\n",
       "      <td>CH 0007</td>\n",
       "      <td>63208.0</td>\n",
       "      <td>55556</td>\n",
       "      <td>7652</td>\n",
       "    </tr>\n",
       "  </tbody>\n",
       "</table>\n",
       "</div>"
      ],
      "text/plain": [
       "            Ma Cua Hang  Doanh Thu    Chi Phi Loi Nhuan\n",
       "0  1/1/2021     CH 0001    14625.5      12685      1966\n",
       "3  1/1/2021     CH 0004    27120.0      23788      3332\n",
       "4  1/1/2021     CH 0005     9195.0  7452-7000      1743\n",
       "5  1/1/2021     CH 0006    19903.0      18601      1302\n",
       "6  1/1/2021     CH 0007    63208.0      55556      7652"
      ]
     },
     "execution_count": 62,
     "metadata": {},
     "output_type": "execute_result"
    }
   ],
   "source": [
    "# df=df[df['Doanh Thu'].notnull()]\n",
    "df['Doanh Thu']=df['Doanh Thu'].apply(covert_to_num)\n",
    "df.head()"
   ]
  },
  {
   "cell_type": "code",
   "execution_count": null,
   "id": "10d6381f",
   "metadata": {},
   "outputs": [],
   "source": []
  }
 ],
 "metadata": {
  "kernelspec": {
   "display_name": "Python 3 (ipykernel)",
   "language": "python",
   "name": "python3"
  },
  "language_info": {
   "codemirror_mode": {
    "name": "ipython",
    "version": 3
   },
   "file_extension": ".py",
   "mimetype": "text/x-python",
   "name": "python",
   "nbconvert_exporter": "python",
   "pygments_lexer": "ipython3",
   "version": "3.9.12"
  }
 },
 "nbformat": 4,
 "nbformat_minor": 5
}
