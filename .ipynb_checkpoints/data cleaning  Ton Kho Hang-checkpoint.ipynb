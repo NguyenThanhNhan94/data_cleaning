{
 "cells": [
  {
   "cell_type": "code",
   "execution_count": 1,
   "id": "cc0a6c64",
   "metadata": {},
   "outputs": [
    {
     "data": {
      "text/plain": [
       "False"
      ]
     },
     "execution_count": 1,
     "metadata": {},
     "output_type": "execute_result"
    }
   ],
   "source": [
    "import pandas as pd\n",
    "import numpy as np\n",
    "from matplotlib import pyplot as plt \n",
    "%matplotlib inline\n",
    "import matplotlib\n",
    "matplotlib.rcParams[\"figure.figsize\"] == (20,10)"
   ]
  },
  {
   "cell_type": "code",
   "execution_count": 3,
   "id": "bd209712",
   "metadata": {},
   "outputs": [
    {
     "data": {
      "text/html": [
       "<div>\n",
       "<style scoped>\n",
       "    .dataframe tbody tr th:only-of-type {\n",
       "        vertical-align: middle;\n",
       "    }\n",
       "\n",
       "    .dataframe tbody tr th {\n",
       "        vertical-align: top;\n",
       "    }\n",
       "\n",
       "    .dataframe thead th {\n",
       "        text-align: right;\n",
       "    }\n",
       "</style>\n",
       "<table border=\"1\" class=\"dataframe\">\n",
       "  <thead>\n",
       "    <tr style=\"text-align: right;\">\n",
       "      <th></th>\n",
       "      <th>MaKho</th>\n",
       "      <th>TenKho</th>\n",
       "      <th>MaVatTu</th>\n",
       "      <th>TenVatTu</th>\n",
       "      <th>DVT</th>\n",
       "      <th>SoLo</th>\n",
       "      <th>DauKy</th>\n",
       "      <th>HanSuDung</th>\n",
       "      <th>SoChungTu</th>\n",
       "      <th>Ngay</th>\n",
       "      <th>...</th>\n",
       "      <th>NgaySX</th>\n",
       "      <th>SoLoID</th>\n",
       "      <th>MaLocator</th>\n",
       "      <th>TyLe621</th>\n",
       "      <th>TyLe622</th>\n",
       "      <th>TyLe627</th>\n",
       "      <th>MaNhomTB</th>\n",
       "      <th>TenNhomTB</th>\n",
       "      <th>MaTB</th>\n",
       "      <th>TenTB</th>\n",
       "    </tr>\n",
       "  </thead>\n",
       "  <tbody>\n",
       "    <tr>\n",
       "      <th>0</th>\n",
       "      <td>17</td>\n",
       "      <td>Kho Thành ph?m Cu?n (Cty)</td>\n",
       "      <td>2.006236</td>\n",
       "      <td>272/07 BESTFOOD org #Màng OPP seal kh? 215mm (...</td>\n",
       "      <td>M2</td>\n",
       "      <td>LSX1.2208.1084</td>\n",
       "      <td>6880-6000</td>\n",
       "      <td>NaN</td>\n",
       "      <td>NaN</td>\n",
       "      <td>NaN</td>\n",
       "      <td>...</td>\n",
       "      <td>31/08/2022</td>\n",
       "      <td>PN172208.1321#LSX1.2208.1084#02.006236#1</td>\n",
       "      <td>0</td>\n",
       "      <td>92.6397</td>\n",
       "      <td>3.5345</td>\n",
       "      <td>3.8258</td>\n",
       "      <td>NaN</td>\n",
       "      <td>NaN</td>\n",
       "      <td>NaN</td>\n",
       "      <td>NaN</td>\n",
       "    </tr>\n",
       "    <tr>\n",
       "      <th>1</th>\n",
       "      <td>17</td>\n",
       "      <td>Kho Thành ph?m Cu?n (Cty)</td>\n",
       "      <td>2.006236</td>\n",
       "      <td>272/07 BESTFOOD org #Màng OPP seal kh? 215mm (...</td>\n",
       "      <td>M2</td>\n",
       "      <td>LSX1.2208.1084</td>\n",
       "      <td>0</td>\n",
       "      <td>NaN</td>\n",
       "      <td>BH012209.0268-XB2209.0353</td>\n",
       "      <td>14/09/2022</td>\n",
       "      <td>...</td>\n",
       "      <td>31/08/2022</td>\n",
       "      <td>PN172208.1321#LSX1.2208.1084#02.006236#1</td>\n",
       "      <td>0</td>\n",
       "      <td>92.6397</td>\n",
       "      <td>3.5345</td>\n",
       "      <td>3.8258</td>\n",
       "      <td>NaN</td>\n",
       "      <td>NaN</td>\n",
       "      <td>NaN</td>\n",
       "      <td>NaN</td>\n",
       "    </tr>\n",
       "    <tr>\n",
       "      <th>2</th>\n",
       "      <td>17</td>\n",
       "      <td>Kho Thành ph?m Cu?n (Cty)</td>\n",
       "      <td>2.014751</td>\n",
       "      <td>1824/11 LEVER (20275415) # Màng Viso 350gr cha...</td>\n",
       "      <td>M2</td>\n",
       "      <td>LSX1.2208.585</td>\n",
       "      <td>0</td>\n",
       "      <td>NaN</td>\n",
       "      <td>PN172209.0027</td>\n",
       "      <td>1/9/2022</td>\n",
       "      <td>...</td>\n",
       "      <td>1/9/2022</td>\n",
       "      <td>PN172209.0027#LSX1.2208.585#02.014751#1</td>\n",
       "      <td>0</td>\n",
       "      <td>83.5613</td>\n",
       "      <td>4.5801</td>\n",
       "      <td>11.8586</td>\n",
       "      <td>NaN</td>\n",
       "      <td>NaN</td>\n",
       "      <td>NaN</td>\n",
       "      <td>NaN</td>\n",
       "    </tr>\n",
       "    <tr>\n",
       "      <th>3</th>\n",
       "      <td>17</td>\n",
       "      <td>Kho Thành ph?m Cu?n (Cty)</td>\n",
       "      <td>2.016713</td>\n",
       "      <td>301/13 (64026898)LEVER # Màng in m?t th?n s? d...</td>\n",
       "      <td>M2</td>\n",
       "      <td>LSX1.2208.232</td>\n",
       "      <td>2280-2000</td>\n",
       "      <td>NaN</td>\n",
       "      <td>NaN</td>\n",
       "      <td>NaN</td>\n",
       "      <td>...</td>\n",
       "      <td>20/08/2022</td>\n",
       "      <td>PN172208.0867#LSX1.2208.232#02.016713#1</td>\n",
       "      <td>0</td>\n",
       "      <td>80.7979</td>\n",
       "      <td>5.6829</td>\n",
       "      <td>13.5192</td>\n",
       "      <td>NaN</td>\n",
       "      <td>NaN</td>\n",
       "      <td>NaN</td>\n",
       "      <td>NaN</td>\n",
       "    </tr>\n",
       "    <tr>\n",
       "      <th>4</th>\n",
       "      <td>17</td>\n",
       "      <td>Kho Thành ph?m Cu?n (Cty)</td>\n",
       "      <td>2.016713</td>\n",
       "      <td>301/13 (64026898)LEVER # Màng in m?t th?n s? d...</td>\n",
       "      <td>M2</td>\n",
       "      <td>LSX1.2208.232</td>\n",
       "      <td>0</td>\n",
       "      <td>NaN</td>\n",
       "      <td>BH012209.0020-XB2209.0020</td>\n",
       "      <td>1/9/2022</td>\n",
       "      <td>...</td>\n",
       "      <td>20/08/2022</td>\n",
       "      <td>PN172208.0867#LSX1.2208.232#02.016713#1</td>\n",
       "      <td>0</td>\n",
       "      <td>80.7979</td>\n",
       "      <td>5.6829</td>\n",
       "      <td>13.5192</td>\n",
       "      <td>NaN</td>\n",
       "      <td>NaN</td>\n",
       "      <td>NaN</td>\n",
       "      <td>NaN</td>\n",
       "    </tr>\n",
       "    <tr>\n",
       "      <th>5</th>\n",
       "      <td>17</td>\n",
       "      <td>Kho Thành ph?m Cu?n (Cty)</td>\n",
       "      <td>2.016713</td>\n",
       "      <td>301/13 (64026898)LEVER # Màng in m?t th?n s? d...</td>\n",
       "      <td>M2</td>\n",
       "      <td>LSX1.2208.232</td>\n",
       "      <td>285-200</td>\n",
       "      <td>NaN</td>\n",
       "      <td>NaN</td>\n",
       "      <td>NaN</td>\n",
       "      <td>...</td>\n",
       "      <td>22/08/2022</td>\n",
       "      <td>PN172208.0902#LSX1.2208.232#02.016713#1</td>\n",
       "      <td>0</td>\n",
       "      <td>80.7979</td>\n",
       "      <td>5.6829</td>\n",
       "      <td>13.5192</td>\n",
       "      <td>NaN</td>\n",
       "      <td>NaN</td>\n",
       "      <td>NaN</td>\n",
       "      <td>NaN</td>\n",
       "    </tr>\n",
       "    <tr>\n",
       "      <th>6</th>\n",
       "      <td>17</td>\n",
       "      <td>Kho Thành ph?m Cu?n (Cty)</td>\n",
       "      <td>2.016713</td>\n",
       "      <td>301/13 (64026898)LEVER # Màng in m?t th?n s? d...</td>\n",
       "      <td>M2</td>\n",
       "      <td>LSX1.2208.232</td>\n",
       "      <td>0</td>\n",
       "      <td>NaN</td>\n",
       "      <td>BH012209.0020 - XB2209.0020</td>\n",
       "      <td>1/9/2022</td>\n",
       "      <td>...</td>\n",
       "      <td>22/08/2022</td>\n",
       "      <td>PN172208.0902#LSX1.2208.232#02.016713#1</td>\n",
       "      <td>0</td>\n",
       "      <td>80.7979</td>\n",
       "      <td>5.6829</td>\n",
       "      <td>13.5192</td>\n",
       "      <td>NaN</td>\n",
       "      <td>NaN</td>\n",
       "      <td>NaN</td>\n",
       "      <td>NaN</td>\n",
       "    </tr>\n",
       "    <tr>\n",
       "      <th>7</th>\n",
       "      <td>17</td>\n",
       "      <td>Kho Thành ph?m Cu?n (Cty)</td>\n",
       "      <td>2.018121</td>\n",
       "      <td>122/14 (308342) Perfetti # Màng Mentos fresh t...</td>\n",
       "      <td>M2</td>\n",
       "      <td>DK201407.0433</td>\n",
       "      <td>0</td>\n",
       "      <td>1/1/2014</td>\n",
       "      <td>NaN</td>\n",
       "      <td>NaN</td>\n",
       "      <td>...</td>\n",
       "      <td>NaN</td>\n",
       "      <td>DK201407.0433.02.018121</td>\n",
       "      <td>0</td>\n",
       "      <td>NaN</td>\n",
       "      <td>NaN</td>\n",
       "      <td>NaN</td>\n",
       "      <td>NaN</td>\n",
       "      <td>NaN</td>\n",
       "      <td>NaN</td>\n",
       "      <td>NaN</td>\n",
       "    </tr>\n",
       "    <tr>\n",
       "      <th>8</th>\n",
       "      <td>17</td>\n",
       "      <td>Kho Thành ph?m Cu?n (Cty)</td>\n",
       "      <td>2.018523</td>\n",
       "      <td>(575/14)(P1043081)Màng Palmolive d?u g?i du?ng...</td>\n",
       "      <td>M2</td>\n",
       "      <td>LSX1.1505.234</td>\n",
       "      <td>0</td>\n",
       "      <td>9/6/2015</td>\n",
       "      <td>NaN</td>\n",
       "      <td>NaN</td>\n",
       "      <td>...</td>\n",
       "      <td>NaN</td>\n",
       "      <td>PN171506.0460#LSX1.1505.234#02.018523</td>\n",
       "      <td>0</td>\n",
       "      <td>79.4934</td>\n",
       "      <td>3.3852</td>\n",
       "      <td>17.1214</td>\n",
       "      <td>NaN</td>\n",
       "      <td>NaN</td>\n",
       "      <td>NaN</td>\n",
       "      <td>NaN</td>\n",
       "    </tr>\n",
       "    <tr>\n",
       "      <th>9</th>\n",
       "      <td>17</td>\n",
       "      <td>Kho Thành ph?m Cu?n (Cty)</td>\n",
       "      <td>2.018705</td>\n",
       "      <td>(P1043082) - Màng Palmolive d?u g?i du?ng ?m b...</td>\n",
       "      <td>M2</td>\n",
       "      <td>LSX1.1505.235</td>\n",
       "      <td>0</td>\n",
       "      <td>NaN</td>\n",
       "      <td>NaN</td>\n",
       "      <td>NaN</td>\n",
       "      <td>...</td>\n",
       "      <td>NaN</td>\n",
       "      <td>PN171506.0344#LSX1.1505.235#02.018705</td>\n",
       "      <td>0</td>\n",
       "      <td>78.9426</td>\n",
       "      <td>3.2091</td>\n",
       "      <td>17.8483</td>\n",
       "      <td>NaN</td>\n",
       "      <td>NaN</td>\n",
       "      <td>NaN</td>\n",
       "      <td>NaN</td>\n",
       "    </tr>\n",
       "  </tbody>\n",
       "</table>\n",
       "<p>10 rows × 25 columns</p>\n",
       "</div>"
      ],
      "text/plain": [
       "   MaKho                     TenKho   MaVatTu  \\\n",
       "0     17  Kho Thành ph?m Cu?n (Cty)  2.006236   \n",
       "1     17  Kho Thành ph?m Cu?n (Cty)  2.006236   \n",
       "2     17  Kho Thành ph?m Cu?n (Cty)  2.014751   \n",
       "3     17  Kho Thành ph?m Cu?n (Cty)  2.016713   \n",
       "4     17  Kho Thành ph?m Cu?n (Cty)  2.016713   \n",
       "5     17  Kho Thành ph?m Cu?n (Cty)  2.016713   \n",
       "6     17  Kho Thành ph?m Cu?n (Cty)  2.016713   \n",
       "7     17  Kho Thành ph?m Cu?n (Cty)  2.018121   \n",
       "8     17  Kho Thành ph?m Cu?n (Cty)  2.018523   \n",
       "9     17  Kho Thành ph?m Cu?n (Cty)  2.018705   \n",
       "\n",
       "                                            TenVatTu DVT            SoLo  \\\n",
       "0  272/07 BESTFOOD org #Màng OPP seal kh? 215mm (...  M2  LSX1.2208.1084   \n",
       "1  272/07 BESTFOOD org #Màng OPP seal kh? 215mm (...  M2  LSX1.2208.1084   \n",
       "2  1824/11 LEVER (20275415) # Màng Viso 350gr cha...  M2   LSX1.2208.585   \n",
       "3  301/13 (64026898)LEVER # Màng in m?t th?n s? d...  M2   LSX1.2208.232   \n",
       "4  301/13 (64026898)LEVER # Màng in m?t th?n s? d...  M2   LSX1.2208.232   \n",
       "5  301/13 (64026898)LEVER # Màng in m?t th?n s? d...  M2   LSX1.2208.232   \n",
       "6  301/13 (64026898)LEVER # Màng in m?t th?n s? d...  M2   LSX1.2208.232   \n",
       "7  122/14 (308342) Perfetti # Màng Mentos fresh t...  M2   DK201407.0433   \n",
       "8  (575/14)(P1043081)Màng Palmolive d?u g?i du?ng...  M2   LSX1.1505.234   \n",
       "9  (P1043082) - Màng Palmolive d?u g?i du?ng ?m b...  M2   LSX1.1505.235   \n",
       "\n",
       "       DauKy HanSuDung                    SoChungTu        Ngay  ...  \\\n",
       "0  6880-6000       NaN                          NaN         NaN  ...   \n",
       "1          0       NaN    BH012209.0268-XB2209.0353  14/09/2022  ...   \n",
       "2          0       NaN                PN172209.0027    1/9/2022  ...   \n",
       "3  2280-2000       NaN                          NaN         NaN  ...   \n",
       "4          0       NaN    BH012209.0020-XB2209.0020    1/9/2022  ...   \n",
       "5    285-200       NaN                          NaN         NaN  ...   \n",
       "6          0       NaN  BH012209.0020 - XB2209.0020    1/9/2022  ...   \n",
       "7          0  1/1/2014                          NaN         NaN  ...   \n",
       "8          0  9/6/2015                          NaN         NaN  ...   \n",
       "9          0       NaN                          NaN         NaN  ...   \n",
       "\n",
       "       NgaySX                                    SoLoID  MaLocator  TyLe621  \\\n",
       "0  31/08/2022  PN172208.1321#LSX1.2208.1084#02.006236#1          0  92.6397   \n",
       "1  31/08/2022  PN172208.1321#LSX1.2208.1084#02.006236#1          0  92.6397   \n",
       "2    1/9/2022   PN172209.0027#LSX1.2208.585#02.014751#1          0  83.5613   \n",
       "3  20/08/2022   PN172208.0867#LSX1.2208.232#02.016713#1          0  80.7979   \n",
       "4  20/08/2022   PN172208.0867#LSX1.2208.232#02.016713#1          0  80.7979   \n",
       "5  22/08/2022   PN172208.0902#LSX1.2208.232#02.016713#1          0  80.7979   \n",
       "6  22/08/2022   PN172208.0902#LSX1.2208.232#02.016713#1          0  80.7979   \n",
       "7         NaN                   DK201407.0433.02.018121          0      NaN   \n",
       "8         NaN     PN171506.0460#LSX1.1505.234#02.018523          0  79.4934   \n",
       "9         NaN     PN171506.0344#LSX1.1505.235#02.018705          0  78.9426   \n",
       "\n",
       "  TyLe622  TyLe627 MaNhomTB  TenNhomTB  MaTB  TenTB  \n",
       "0  3.5345   3.8258      NaN        NaN   NaN    NaN  \n",
       "1  3.5345   3.8258      NaN        NaN   NaN    NaN  \n",
       "2  4.5801  11.8586      NaN        NaN   NaN    NaN  \n",
       "3  5.6829  13.5192      NaN        NaN   NaN    NaN  \n",
       "4  5.6829  13.5192      NaN        NaN   NaN    NaN  \n",
       "5  5.6829  13.5192      NaN        NaN   NaN    NaN  \n",
       "6  5.6829  13.5192      NaN        NaN   NaN    NaN  \n",
       "7     NaN      NaN      NaN        NaN   NaN    NaN  \n",
       "8  3.3852  17.1214      NaN        NaN   NaN    NaN  \n",
       "9  3.2091  17.8483      NaN        NaN   NaN    NaN  \n",
       "\n",
       "[10 rows x 25 columns]"
      ]
     },
     "execution_count": 3,
     "metadata": {},
     "output_type": "execute_result"
    }
   ],
   "source": [
    "df=pd.read_csv(r\"C:\\Users\\Nhan\\Documents\\Data Cleaning\\source file\\tonkho 22-11.csv\",encoding='ISO-8859-1')\n",
    "df.head(10)"
   ]
  },
  {
   "cell_type": "code",
   "execution_count": 4,
   "id": "647dc978",
   "metadata": {
    "scrolled": true
   },
   "outputs": [
    {
     "data": {
      "text/plain": [
       "(2928, 25)"
      ]
     },
     "execution_count": 4,
     "metadata": {},
     "output_type": "execute_result"
    }
   ],
   "source": [
    "df.shape"
   ]
  },
  {
   "cell_type": "code",
   "execution_count": 5,
   "id": "53527baf",
   "metadata": {},
   "outputs": [
    {
     "data": {
      "text/plain": [
       "Index(['MaKho', 'TenKho', 'MaVatTu', 'TenVatTu', 'DVT', 'SoLo', 'DauKy',\n",
       "       'HanSuDung', 'SoChungTu', 'Ngay', 'DienGiai', 'Nhap', 'Xuat', 'CuoiKy',\n",
       "       'LSX', 'NgaySX', 'SoLoID', 'MaLocator', 'TyLe621', 'TyLe622', 'TyLe627',\n",
       "       'MaNhomTB', 'TenNhomTB', 'MaTB', 'TenTB'],\n",
       "      dtype='object')"
      ]
     },
     "execution_count": 5,
     "metadata": {},
     "output_type": "execute_result"
    }
   ],
   "source": [
    "df.columns"
   ]
  },
  {
   "cell_type": "code",
   "execution_count": 6,
   "id": "67ff8bd6",
   "metadata": {
    "scrolled": true
   },
   "outputs": [
    {
     "data": {
      "text/plain": [
       "array(['6880-6000', '0', '2280-2000', '285-200', '9310-9300', '7680',\n",
       "       '11520', '2880', '95', '34440', '7560', '600', '11160', '840',\n",
       "       '360', '19800', '9900', '7200', '180', '2660', '4095', '1170',\n",
       "       '3768.75', '2512.5', '6030', '251.25', '4760', '560', '15680',\n",
       "       '280', '640', '24080', '22680', '6160', '1400', '4080', '13872',\n",
       "       '6120', '714', '28662', '12240', '35496', '2448', '5655', '1560',\n",
       "       '12900', '1500', '4875', '11310', '390', '9750', '20085', '2145',\n",
       "       '3230', '13965', '6464', '15840', '23040', '16800', '10500',\n",
       "       '25200', '1080', '31560', '17673.6', '18936', '25248', '12624',\n",
       "       '10704', '5232', '15696', '26160', '13917.12', '9100', '10791',\n",
       "       '29430', '4905', '1962', '13430', '31600', '3950', '340', '6000',\n",
       "       '2250', '41280', '960', '12480', '1344', '1008', '2016', '10080',\n",
       "       '336', '4100', '328', '31104', '17280', '576', '10368', '480',\n",
       "       '5760', '4608', '7840', '8400', '6720', '9864', '39456', '35839.2',\n",
       "       '8768', '37264', '6466.4', '22577.6', '19728', '712.4', '2192',\n",
       "       '17536', '1096', '52762.5', '70245', '35280', '34335', '7875',\n",
       "       '2835', '1575', '6615', '9216', '1056', '528', '16704', '7400',\n",
       "       '1480', '10360', '8880', '22200', '5920', '4440', '18500', '20720',\n",
       "       '6660', '740', '8235', '4646', '12928', '21816', '4848', '13736',\n",
       "       '1535.2', '808', '4420', '17510', '1020', '1530', '32190', '680',\n",
       "       '5568', '9744', '24592', '12528', '8352', '3700', '14060', '9180',\n",
       "       '25755', '20655', '15300', '24150', '350', '9000', '2000', '3456',\n",
       "       '1152', '32256', '5537', '1243', '10787', '28140', '7035', '469',\n",
       "       '22512', '11256', '20167', '2960', '12580', '19980', '26560',\n",
       "       '2490', '4980', '4150', '1660', '29880', '20750', '14110', '20580',\n",
       "       '3714.8', '7530', '10542', '20331', '13554', '8082.2', '8283',\n",
       "       '401.6', '612', '7038', '12450', '7470', '26904', '18644', '1652',\n",
       "       '354', '25488', '27258', '19470', '1062', '208950', '13944',\n",
       "       '20916', '26892', '36852', '3984', '35856', '9462', '996', '30876',\n",
       "       '39342', '12948', '22908', '498', '61752', '47808', '29592',\n",
       "       '11172', '3528', '33840', '10152', '376', '692', '11418', '1730',\n",
       "       '3114', '1038', '15416', '21432', '1880', '16262', '4888', '23312',\n",
       "       '1128', '1800', '300', '10960', '12056', '21920', '9342', '1384',\n",
       "       '7350', '12960', '15848', '6792', '566', '1132', '6960', '4176',\n",
       "       '11136', '18096', '25056', '696', '19488', '17458', '23664',\n",
       "       '2784', '15312', '13282', '41760', '1392', '37584', '38976', '780',\n",
       "       '20670', '1214.4', '1545.6', '16560', '1104', '4968', '1932',\n",
       "       '20520', '1140', '3465', '630', '2205', '28496', '4384', '22632.4',\n",
       "       '55440', '44352', '22176', '33264', '19140', '1276', '11700',\n",
       "       '4416', '1656', '1150', '230', '2370', '395', '9570', '2506.25',\n",
       "       '2260', '13499.25', '8886.2', '6226', '4200', '1416', '502.5',\n",
       "       '9798.75', '12060', '306', '5400', '1350', '13942.5', '877.5',\n",
       "       '34800', '11616', '27840', '33408', '23316', '2146', '6380',\n",
       "       '2610', '25500', '18000', '16150', '13572', '9936', '414',\n",
       "       '1702.4', '21067.2', '638.4', '1836', '22950', '2754', '20196',\n",
       "       '918', '29000', '4060', '10440', '870', '14500', '23616', '11808',\n",
       "       '3936', '31488', '29520', '1968', '20736', '12672', '48384',\n",
       "       '41472', '27648', '13824', '5688', '22752', '3792', '1896',\n",
       "       '34128', '28440', '7584', '9942.8', '562.8', '375.2', '750.4',\n",
       "       '900', '2400', '1200', '16440', '1072.5', '23425.2', '39042',\n",
       "       '31233.6', '33836.4', '24882', '9280', '18560', '580', '5094',\n",
       "       '837.68', '16272.5', '25132', '2884', '824', '26780', '9270',\n",
       "       '206', '9682', '10300', '10044', '22599', '25110', '6277.5', '279',\n",
       "       '10350', '862.5', '517.5', '18457.5', '14490', '1035', '34500',\n",
       "       '1552.5', '14145', '29890', '28975', '346', '26988', '29328',\n",
       "       '752', '5190', '9024', '14664', '3728', '12285', '15750', '19950',\n",
       "       '4725', '2625', '9450', '8295', '8829', '826', '7691.6', '10318',\n",
       "       '1688.4', '1313', '16066', '4810', '12210', '9400', '30456',\n",
       "       '42864', '1504', '4512', '34968', '2256', '23688', '5264', '37976',\n",
       "       '60160', '13536', '20304', '31208', '1728', '864', '25944',\n",
       "       '38352', '12801', '15600', '16280', '10800', '5184', '1296',\n",
       "       '66816', '72384', '39960', '18870', '450', '43120', '16500',\n",
       "       '12000', '375', '36168', '8384.4', '15344', '13974', '10631.2',\n",
       "       '24769.6', '11407.5', '9240', '40320', '42840', '5880', '29400',\n",
       "       '12675', '1600', '10400', '17604', '20880', '1185', '1327.5',\n",
       "       '2950'], dtype=object)"
      ]
     },
     "execution_count": 6,
     "metadata": {},
     "output_type": "execute_result"
    }
   ],
   "source": [
    "df['DauKy'].unique()"
   ]
  },
  {
   "cell_type": "code",
   "execution_count": 7,
   "id": "e0720113",
   "metadata": {},
   "outputs": [
    {
     "data": {
      "text/plain": [
       "2.033714    53\n",
       "2.033361    31\n",
       "2.034830    31\n",
       "2.034370    28\n",
       "2.034185    27\n",
       "            ..\n",
       "2.031791     1\n",
       "2.031795     1\n",
       "2.032589     1\n",
       "2.032534     1\n",
       "2.034029     1\n",
       "Name: MaVatTu, Length: 469, dtype: int64"
      ]
     },
     "execution_count": 7,
     "metadata": {},
     "output_type": "execute_result"
    }
   ],
   "source": [
    "df['MaVatTu'].value_counts()"
   ]
  },
  {
   "cell_type": "code",
   "execution_count": 8,
   "id": "7dcbf9fe",
   "metadata": {},
   "outputs": [
    {
     "data": {
      "text/plain": [
       "(2928, 16)"
      ]
     },
     "execution_count": 8,
     "metadata": {},
     "output_type": "execute_result"
    }
   ],
   "source": [
    "df1=df.drop(['SoLoID','MaLocator','TyLe621','TyLe622','TyLe627','MaNhomTB','TenNhomTB','MaTB','TenTB'],axis='columns')\n",
    "df1.shape"
   ]
  },
  {
   "cell_type": "code",
   "execution_count": 9,
   "id": "e36a26e4",
   "metadata": {},
   "outputs": [
    {
     "data": {
      "text/plain": [
       "MaKho           0\n",
       "TenKho          0\n",
       "MaVatTu         0\n",
       "TenVatTu        0\n",
       "DVT             0\n",
       "SoLo            0\n",
       "DauKy           0\n",
       "HanSuDung    2926\n",
       "SoChungTu     686\n",
       "Ngay          686\n",
       "DienGiai      688\n",
       "Nhap            0\n",
       "Xuat            0\n",
       "CuoiKy          0\n",
       "LSX          1966\n",
       "NgaySX          7\n",
       "dtype: int64"
      ]
     },
     "execution_count": 9,
     "metadata": {},
     "output_type": "execute_result"
    }
   ],
   "source": [
    "df1.isnull().sum()"
   ]
  },
  {
   "cell_type": "code",
   "execution_count": 10,
   "id": "c163bd1e",
   "metadata": {},
   "outputs": [
    {
     "data": {
      "text/plain": [
       "Index(['MaKho', 'TenKho', 'MaVatTu', 'TenVatTu', 'DVT', 'SoLo', 'DauKy',\n",
       "       'HanSuDung', 'SoChungTu', 'Ngay', 'DienGiai', 'Nhap', 'Xuat', 'CuoiKy',\n",
       "       'LSX', 'NgaySX'],\n",
       "      dtype='object')"
      ]
     },
     "execution_count": 10,
     "metadata": {},
     "output_type": "execute_result"
    }
   ],
   "source": [
    "df1.columns"
   ]
  },
  {
   "cell_type": "code",
   "execution_count": 11,
   "id": "a52dcafd",
   "metadata": {
    "scrolled": false
   },
   "outputs": [
    {
     "data": {
      "text/plain": [
       "BH012209.0036 - XB2209.0040    13\n",
       "BH012209.0451 - XB2209.0585    13\n",
       "BH012209.0064 - XB2209.0072    12\n",
       "BH022209.0002 - XB2209.0150    12\n",
       "BH012209.0249 - XB2209.0331    11\n",
       "                               ..\n",
       "PN172209.0112                   1\n",
       "PN172209.0187                   1\n",
       "PN172209.0230                   1\n",
       "PN172209.0695                   1\n",
       "PN172209.0720                   1\n",
       "Name: SoChungTu, Length: 1297, dtype: int64"
      ]
     },
     "execution_count": 11,
     "metadata": {},
     "output_type": "execute_result"
    }
   ],
   "source": [
    "df1['SoChungTu'].value_counts()"
   ]
  },
  {
   "cell_type": "markdown",
   "id": "21e12eb4",
   "metadata": {},
   "source": [
    "# Tách chuỗi ký tự ngăn cách bởi dấu '-' "
   ]
  },
  {
   "cell_type": "code",
   "execution_count": null,
   "id": "efe9a379",
   "metadata": {},
   "outputs": [],
   "source": [
    "# def conveter(x):\n",
    "#       try:\n",
    "#             df1['SoChungTu'].apply(lambda x: str(x.split(' - ')[0]))\n",
    "#         except:\n",
    "#             return False\n",
    "#         return True \n",
    "        \n",
    "           "
   ]
  },
  {
   "cell_type": "code",
   "execution_count": null,
   "id": "a28f0ce5",
   "metadata": {
    "scrolled": true
   },
   "outputs": [],
   "source": []
  },
  {
   "cell_type": "code",
   "execution_count": null,
   "id": "24382d13",
   "metadata": {
    "scrolled": true
   },
   "outputs": [],
   "source": [
    "df1.to_csv('TonKhofiltered1.csv')"
   ]
  },
  {
   "cell_type": "code",
   "execution_count": null,
   "id": "cd30fb1f",
   "metadata": {},
   "outputs": [],
   "source": [
    "def is_float(x):\n",
    "        try: float(x)\n",
    "        except:\n",
    "            return False\n",
    "        return True"
   ]
  },
  {
   "cell_type": "code",
   "execution_count": null,
   "id": "2dae01f6",
   "metadata": {
    "scrolled": true
   },
   "outputs": [],
   "source": [
    "df1[~df1['DauKy'].apply(is_float)]"
   ]
  },
  {
   "cell_type": "code",
   "execution_count": null,
   "id": "2761c5b8",
   "metadata": {},
   "outputs": [],
   "source": []
  }
 ],
 "metadata": {
  "kernelspec": {
   "display_name": "Python 3 (ipykernel)",
   "language": "python",
   "name": "python3"
  },
  "language_info": {
   "codemirror_mode": {
    "name": "ipython",
    "version": 3
   },
   "file_extension": ".py",
   "mimetype": "text/x-python",
   "name": "python",
   "nbconvert_exporter": "python",
   "pygments_lexer": "ipython3",
   "version": "3.9.12"
  }
 },
 "nbformat": 4,
 "nbformat_minor": 5
}
