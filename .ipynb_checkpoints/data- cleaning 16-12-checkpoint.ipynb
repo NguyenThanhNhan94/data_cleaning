{
 "cells": [
  {
   "cell_type": "code",
   "execution_count": 7,
   "id": "d1311368",
   "metadata": {},
   "outputs": [],
   "source": [
    "import pandas as pd\n",
    "import numpy as np\n",
    "from matplotlib import pyplot as plt \n",
    "%matplotlib inline\n",
    "import matplotlib\n",
    "matplotlib.rcParams[\"figure.figsize\"] == (20,10)\n",
    "# !pip.install impyute\n",
    "from sklearn import datasets\n",
    "from  sklearn.preprocessing import LabelEncoder,StandardScaler\n",
    "from sklearn.experimental import enable_iterative_imputer\n",
    "from sklearn.impute import IterativeImputer\n",
    "from scipy import stats\n",
    "# import impyute as impy\n",
    "# from fancyimpute import IterativeSVD, SoftImpute, NuclearNormMinimization\n",
    "import time "
   ]
  },
  {
   "cell_type": "code",
   "execution_count": 8,
   "id": "51ec0e0c",
   "metadata": {},
   "outputs": [],
   "source": [
    "df=pd.read_csv(r\"C:\\Users\\Nhan\\Documents\\Data Cleaning\\source file\\DoanhThuDemo.csv\")"
   ]
  },
  {
   "cell_type": "code",
   "execution_count": 9,
   "id": "1e9616d6",
   "metadata": {},
   "outputs": [
    {
     "data": {
      "text/plain": [
       "               0\n",
       "Ma Cua Hang    0\n",
       "Doanh Thu      3\n",
       "Chi Phi        4\n",
       "Loi Nhuan      1\n",
       "dtype: int64"
      ]
     },
     "execution_count": 9,
     "metadata": {},
     "output_type": "execute_result"
    }
   ],
   "source": [
    "df.isnull().sum()"
   ]
  },
  {
   "cell_type": "code",
   "execution_count": 10,
   "id": "cabba137",
   "metadata": {},
   "outputs": [
    {
     "name": "stdout",
     "output_type": "stream",
     "text": [
      "<class 'pandas.core.frame.DataFrame'>\n",
      "RangeIndex: 99129 entries, 0 to 99128\n",
      "Data columns (total 5 columns):\n",
      " #   Column       Non-Null Count  Dtype \n",
      "---  ------       --------------  ----- \n",
      " 0                99129 non-null  object\n",
      " 1   Ma Cua Hang  99129 non-null  object\n",
      " 2   Doanh Thu    99126 non-null  object\n",
      " 3   Chi Phi      99125 non-null  object\n",
      " 4   Loi Nhuan    99128 non-null  object\n",
      "dtypes: object(5)\n",
      "memory usage: 3.8+ MB\n"
     ]
    }
   ],
   "source": [
    "df.info()"
   ]
  },
  {
   "cell_type": "code",
   "execution_count": 11,
   "id": "e4b8b52a",
   "metadata": {},
   "outputs": [
    {
     "data": {
      "text/plain": [
       "(99129, 5)"
      ]
     },
     "execution_count": 11,
     "metadata": {},
     "output_type": "execute_result"
    }
   ],
   "source": [
    "df.shape"
   ]
  },
  {
   "cell_type": "code",
   "execution_count": 12,
   "id": "5cd629ec",
   "metadata": {},
   "outputs": [
    {
     "data": {
      "text/plain": [
       "0              73\n",
       "23748          15\n",
       "22062          12\n",
       "20458          12\n",
       "22333          12\n",
       "               ..\n",
       "5696            1\n",
       "15420           1\n",
       "18815           1\n",
       "4243            1\n",
       "14651-14600     1\n",
       "Name: Doanh Thu, Length: 40235, dtype: int64"
      ]
     },
     "execution_count": 12,
     "metadata": {},
     "output_type": "execute_result"
    }
   ],
   "source": [
    "df['Doanh Thu'].value_counts()"
   ]
  },
  {
   "cell_type": "markdown",
   "id": "d3dcbb65",
   "metadata": {},
   "source": [
    "# tách chuỗi "
   ]
  },
  {
   "cell_type": "code",
   "execution_count": 13,
   "id": "2c006101",
   "metadata": {
    "scrolled": true
   },
   "outputs": [
    {
     "data": {
      "text/plain": [
       "array(['0001', '0002', '0003', ..., '5903', '5904', '5905'], dtype=object)"
      ]
     },
     "execution_count": 13,
     "metadata": {},
     "output_type": "execute_result"
    }
   ],
   "source": [
    "df['So Hieu Cua Hang']=df['Ma Cua Hang'].apply(lambda x: str(x.split(' ')[1]))\n",
    "df['So Hieu Cua Hang'].unique()\n"
   ]
  },
  {
   "cell_type": "code",
   "execution_count": 14,
   "id": "931d1fa9",
   "metadata": {},
   "outputs": [],
   "source": [
    "def is_float(x):\n",
    "    try:\n",
    "            float(x)\n",
    "    except:\n",
    "            return False\n",
    "    return  True"
   ]
  },
  {
   "cell_type": "code",
   "execution_count": 15,
   "id": "e9b63707",
   "metadata": {},
   "outputs": [
    {
     "data": {
      "text/html": [
       "<div>\n",
       "<style scoped>\n",
       "    .dataframe tbody tr th:only-of-type {\n",
       "        vertical-align: middle;\n",
       "    }\n",
       "\n",
       "    .dataframe tbody tr th {\n",
       "        vertical-align: top;\n",
       "    }\n",
       "\n",
       "    .dataframe thead th {\n",
       "        text-align: right;\n",
       "    }\n",
       "</style>\n",
       "<table border=\"1\" class=\"dataframe\">\n",
       "  <thead>\n",
       "    <tr style=\"text-align: right;\">\n",
       "      <th></th>\n",
       "      <th></th>\n",
       "      <th>Ma Cua Hang</th>\n",
       "      <th>Doanh Thu</th>\n",
       "      <th>Chi Phi</th>\n",
       "      <th>Loi Nhuan</th>\n",
       "      <th>So Hieu Cua Hang</th>\n",
       "    </tr>\n",
       "  </thead>\n",
       "  <tbody>\n",
       "    <tr>\n",
       "      <th>4</th>\n",
       "      <td>1/1/2021</td>\n",
       "      <td>CH 0005</td>\n",
       "      <td>9195</td>\n",
       "      <td>7452-7000</td>\n",
       "      <td>1743</td>\n",
       "      <td>0005</td>\n",
       "    </tr>\n",
       "    <tr>\n",
       "      <th>73955</th>\n",
       "      <td>1/13/2021</td>\n",
       "      <td>CH 3994</td>\n",
       "      <td>1882</td>\n",
       "      <td>1604-1604</td>\n",
       "      <td>278</td>\n",
       "      <td>3994</td>\n",
       "    </tr>\n",
       "  </tbody>\n",
       "</table>\n",
       "</div>"
      ],
      "text/plain": [
       "                 Ma Cua Hang Doanh Thu    Chi Phi Loi Nhuan So Hieu Cua Hang\n",
       "4       1/1/2021     CH 0005      9195  7452-7000      1743             0005\n",
       "73955  1/13/2021     CH 3994      1882  1604-1604       278             3994"
      ]
     },
     "execution_count": 15,
     "metadata": {},
     "output_type": "execute_result"
    }
   ],
   "source": [
    "df[~df['Chi Phi'].apply(is_float)].head(5)"
   ]
  },
  {
   "cell_type": "code",
   "execution_count": 16,
   "id": "2021ff89",
   "metadata": {
    "scrolled": true
   },
   "outputs": [
    {
     "data": {
      "text/html": [
       "<div>\n",
       "<style scoped>\n",
       "    .dataframe tbody tr th:only-of-type {\n",
       "        vertical-align: middle;\n",
       "    }\n",
       "\n",
       "    .dataframe tbody tr th {\n",
       "        vertical-align: top;\n",
       "    }\n",
       "\n",
       "    .dataframe thead th {\n",
       "        text-align: right;\n",
       "    }\n",
       "</style>\n",
       "<table border=\"1\" class=\"dataframe\">\n",
       "  <thead>\n",
       "    <tr style=\"text-align: right;\">\n",
       "      <th></th>\n",
       "      <th></th>\n",
       "      <th>Ma Cua Hang</th>\n",
       "      <th>Doanh Thu</th>\n",
       "      <th>Chi Phi</th>\n",
       "      <th>Loi Nhuan</th>\n",
       "      <th>So Hieu Cua Hang</th>\n",
       "    </tr>\n",
       "  </thead>\n",
       "  <tbody>\n",
       "    <tr>\n",
       "      <th>1</th>\n",
       "      <td>1/1/2021</td>\n",
       "      <td>CH 0002</td>\n",
       "      <td>NaN</td>\n",
       "      <td>NaN</td>\n",
       "      <td>1243-1200</td>\n",
       "      <td>0002</td>\n",
       "    </tr>\n",
       "    <tr>\n",
       "      <th>74059</th>\n",
       "      <td>1/13/2021</td>\n",
       "      <td>CH 4098</td>\n",
       "      <td>8088</td>\n",
       "      <td>7391</td>\n",
       "      <td>697-600</td>\n",
       "      <td>4098</td>\n",
       "    </tr>\n",
       "  </tbody>\n",
       "</table>\n",
       "</div>"
      ],
      "text/plain": [
       "                 Ma Cua Hang Doanh Thu Chi Phi  Loi Nhuan So Hieu Cua Hang\n",
       "1       1/1/2021     CH 0002       NaN     NaN  1243-1200             0002\n",
       "74059  1/13/2021     CH 4098      8088    7391    697-600             4098"
      ]
     },
     "execution_count": 16,
     "metadata": {},
     "output_type": "execute_result"
    }
   ],
   "source": [
    "df[~df['Loi Nhuan'].apply(is_float)].head(5)"
   ]
  },
  {
   "cell_type": "code",
   "execution_count": 17,
   "id": "4a4dc179",
   "metadata": {},
   "outputs": [
    {
     "data": {
      "text/html": [
       "<div>\n",
       "<style scoped>\n",
       "    .dataframe tbody tr th:only-of-type {\n",
       "        vertical-align: middle;\n",
       "    }\n",
       "\n",
       "    .dataframe tbody tr th {\n",
       "        vertical-align: top;\n",
       "    }\n",
       "\n",
       "    .dataframe thead th {\n",
       "        text-align: right;\n",
       "    }\n",
       "</style>\n",
       "<table border=\"1\" class=\"dataframe\">\n",
       "  <thead>\n",
       "    <tr style=\"text-align: right;\">\n",
       "      <th></th>\n",
       "      <th></th>\n",
       "      <th>Ma Cua Hang</th>\n",
       "      <th>Doanh Thu</th>\n",
       "      <th>Chi Phi</th>\n",
       "      <th>Loi Nhuan</th>\n",
       "      <th>So Hieu Cua Hang</th>\n",
       "    </tr>\n",
       "  </thead>\n",
       "  <tbody>\n",
       "    <tr>\n",
       "      <th>0</th>\n",
       "      <td>1/1/2021</td>\n",
       "      <td>CH 0001</td>\n",
       "      <td>14651-14600</td>\n",
       "      <td>12685</td>\n",
       "      <td>1966</td>\n",
       "      <td>0001</td>\n",
       "    </tr>\n",
       "    <tr>\n",
       "      <th>8</th>\n",
       "      <td>1/1/2021</td>\n",
       "      <td>CH 0009</td>\n",
       "      <td>15918-15900</td>\n",
       "      <td>13716</td>\n",
       "      <td>2202</td>\n",
       "      <td>0009</td>\n",
       "    </tr>\n",
       "    <tr>\n",
       "      <th>15</th>\n",
       "      <td>1/1/2021</td>\n",
       "      <td>CH 0016</td>\n",
       "      <td>32638-32000</td>\n",
       "      <td>26933</td>\n",
       "      <td>5705</td>\n",
       "      <td>0016</td>\n",
       "    </tr>\n",
       "  </tbody>\n",
       "</table>\n",
       "</div>"
      ],
      "text/plain": [
       "             Ma Cua Hang    Doanh Thu Chi Phi Loi Nhuan So Hieu Cua Hang\n",
       "0   1/1/2021     CH 0001  14651-14600   12685      1966             0001\n",
       "8   1/1/2021     CH 0009  15918-15900   13716      2202             0009\n",
       "15  1/1/2021     CH 0016  32638-32000   26933      5705             0016"
      ]
     },
     "execution_count": 17,
     "metadata": {},
     "output_type": "execute_result"
    }
   ],
   "source": [
    "df[~df['Doanh Thu'].apply(is_float)].head()"
   ]
  },
  {
   "cell_type": "code",
   "execution_count": 18,
   "id": "b9c1daf4",
   "metadata": {},
   "outputs": [],
   "source": [
    "def convert_to_num(x):\n",
    "    tokens = str(x).split('-')\n",
    "    if len(tokens) == 2:\n",
    "            return (float(tokens[0])+float(tokens[1]))/2\n",
    "    try:\n",
    "        return float(x)\n",
    "    except:\n",
    "        return None"
   ]
  },
  {
   "cell_type": "code",
   "execution_count": 19,
   "id": "a9498e0c",
   "metadata": {
    "scrolled": true
   },
   "outputs": [
    {
     "data": {
      "text/html": [
       "<div>\n",
       "<style scoped>\n",
       "    .dataframe tbody tr th:only-of-type {\n",
       "        vertical-align: middle;\n",
       "    }\n",
       "\n",
       "    .dataframe tbody tr th {\n",
       "        vertical-align: top;\n",
       "    }\n",
       "\n",
       "    .dataframe thead th {\n",
       "        text-align: right;\n",
       "    }\n",
       "</style>\n",
       "<table border=\"1\" class=\"dataframe\">\n",
       "  <thead>\n",
       "    <tr style=\"text-align: right;\">\n",
       "      <th></th>\n",
       "      <th></th>\n",
       "      <th>Ma Cua Hang</th>\n",
       "      <th>Doanh Thu</th>\n",
       "      <th>Chi Phi</th>\n",
       "      <th>Loi Nhuan</th>\n",
       "      <th>So Hieu Cua Hang</th>\n",
       "    </tr>\n",
       "  </thead>\n",
       "  <tbody>\n",
       "    <tr>\n",
       "      <th>0</th>\n",
       "      <td>1/1/2021</td>\n",
       "      <td>CH 0001</td>\n",
       "      <td>14625.5</td>\n",
       "      <td>12685</td>\n",
       "      <td>1966</td>\n",
       "      <td>0001</td>\n",
       "    </tr>\n",
       "    <tr>\n",
       "      <th>1</th>\n",
       "      <td>1/1/2021</td>\n",
       "      <td>CH 0002</td>\n",
       "      <td>NaN</td>\n",
       "      <td>NaN</td>\n",
       "      <td>1243-1200</td>\n",
       "      <td>0002</td>\n",
       "    </tr>\n",
       "    <tr>\n",
       "      <th>2</th>\n",
       "      <td>1/1/2021</td>\n",
       "      <td>CH 0003</td>\n",
       "      <td>NaN</td>\n",
       "      <td>7017</td>\n",
       "      <td>1709</td>\n",
       "      <td>0003</td>\n",
       "    </tr>\n",
       "    <tr>\n",
       "      <th>3</th>\n",
       "      <td>1/1/2021</td>\n",
       "      <td>CH 0004</td>\n",
       "      <td>27120.0</td>\n",
       "      <td>23788</td>\n",
       "      <td>3332</td>\n",
       "      <td>0004</td>\n",
       "    </tr>\n",
       "    <tr>\n",
       "      <th>4</th>\n",
       "      <td>1/1/2021</td>\n",
       "      <td>CH 0005</td>\n",
       "      <td>9195.0</td>\n",
       "      <td>7452-7000</td>\n",
       "      <td>1743</td>\n",
       "      <td>0005</td>\n",
       "    </tr>\n",
       "    <tr>\n",
       "      <th>5</th>\n",
       "      <td>1/1/2021</td>\n",
       "      <td>CH 0006</td>\n",
       "      <td>19903.0</td>\n",
       "      <td>18601</td>\n",
       "      <td>1302</td>\n",
       "      <td>0006</td>\n",
       "    </tr>\n",
       "    <tr>\n",
       "      <th>6</th>\n",
       "      <td>1/1/2021</td>\n",
       "      <td>CH 0007</td>\n",
       "      <td>63208.0</td>\n",
       "      <td>55556</td>\n",
       "      <td>7652</td>\n",
       "      <td>0007</td>\n",
       "    </tr>\n",
       "    <tr>\n",
       "      <th>7</th>\n",
       "      <td>1/1/2021</td>\n",
       "      <td>CH 0008</td>\n",
       "      <td>27605.0</td>\n",
       "      <td>25083</td>\n",
       "      <td>2522</td>\n",
       "      <td>0008</td>\n",
       "    </tr>\n",
       "    <tr>\n",
       "      <th>8</th>\n",
       "      <td>1/1/2021</td>\n",
       "      <td>CH 0009</td>\n",
       "      <td>15909.0</td>\n",
       "      <td>13716</td>\n",
       "      <td>2202</td>\n",
       "      <td>0009</td>\n",
       "    </tr>\n",
       "    <tr>\n",
       "      <th>9</th>\n",
       "      <td>1/1/2021</td>\n",
       "      <td>CH 0010</td>\n",
       "      <td>13108.0</td>\n",
       "      <td>NaN</td>\n",
       "      <td>1925</td>\n",
       "      <td>0010</td>\n",
       "    </tr>\n",
       "    <tr>\n",
       "      <th>10</th>\n",
       "      <td>1/1/2021</td>\n",
       "      <td>CH 0011</td>\n",
       "      <td>20837.0</td>\n",
       "      <td>16938</td>\n",
       "      <td>3899</td>\n",
       "      <td>0011</td>\n",
       "    </tr>\n",
       "    <tr>\n",
       "      <th>11</th>\n",
       "      <td>1/1/2021</td>\n",
       "      <td>CH 0012</td>\n",
       "      <td>22326.0</td>\n",
       "      <td>20779</td>\n",
       "      <td>1547</td>\n",
       "      <td>0012</td>\n",
       "    </tr>\n",
       "    <tr>\n",
       "      <th>12</th>\n",
       "      <td>1/1/2021</td>\n",
       "      <td>CH 0013</td>\n",
       "      <td>13433.0</td>\n",
       "      <td>11317</td>\n",
       "      <td>2116</td>\n",
       "      <td>0013</td>\n",
       "    </tr>\n",
       "    <tr>\n",
       "      <th>13</th>\n",
       "      <td>1/1/2021</td>\n",
       "      <td>CH 0014</td>\n",
       "      <td>26029.0</td>\n",
       "      <td>21548</td>\n",
       "      <td>4481</td>\n",
       "      <td>0014</td>\n",
       "    </tr>\n",
       "    <tr>\n",
       "      <th>14</th>\n",
       "      <td>1/1/2021</td>\n",
       "      <td>CH 0015</td>\n",
       "      <td>18693.0</td>\n",
       "      <td>15516</td>\n",
       "      <td>3177</td>\n",
       "      <td>0015</td>\n",
       "    </tr>\n",
       "    <tr>\n",
       "      <th>15</th>\n",
       "      <td>1/1/2021</td>\n",
       "      <td>CH 0016</td>\n",
       "      <td>32319.0</td>\n",
       "      <td>26933</td>\n",
       "      <td>5705</td>\n",
       "      <td>0016</td>\n",
       "    </tr>\n",
       "    <tr>\n",
       "      <th>16</th>\n",
       "      <td>1/1/2021</td>\n",
       "      <td>CH 0017</td>\n",
       "      <td>38504.0</td>\n",
       "      <td>31465</td>\n",
       "      <td>7039</td>\n",
       "      <td>0017</td>\n",
       "    </tr>\n",
       "    <tr>\n",
       "      <th>17</th>\n",
       "      <td>1/1/2021</td>\n",
       "      <td>CH 0018</td>\n",
       "      <td>18086.0</td>\n",
       "      <td>16435</td>\n",
       "      <td>NaN</td>\n",
       "      <td>0018</td>\n",
       "    </tr>\n",
       "    <tr>\n",
       "      <th>18</th>\n",
       "      <td>1/1/2021</td>\n",
       "      <td>CH 0019</td>\n",
       "      <td>7985.0</td>\n",
       "      <td>6855</td>\n",
       "      <td>1130</td>\n",
       "      <td>0019</td>\n",
       "    </tr>\n",
       "    <tr>\n",
       "      <th>19</th>\n",
       "      <td>1/1/2021</td>\n",
       "      <td>CH 0020</td>\n",
       "      <td>23761.0</td>\n",
       "      <td>21161</td>\n",
       "      <td>2600</td>\n",
       "      <td>0020</td>\n",
       "    </tr>\n",
       "  </tbody>\n",
       "</table>\n",
       "</div>"
      ],
      "text/plain": [
       "             Ma Cua Hang  Doanh Thu    Chi Phi  Loi Nhuan So Hieu Cua Hang\n",
       "0   1/1/2021     CH 0001    14625.5      12685       1966             0001\n",
       "1   1/1/2021     CH 0002        NaN        NaN  1243-1200             0002\n",
       "2   1/1/2021     CH 0003        NaN       7017       1709             0003\n",
       "3   1/1/2021     CH 0004    27120.0      23788       3332             0004\n",
       "4   1/1/2021     CH 0005     9195.0  7452-7000       1743             0005\n",
       "5   1/1/2021     CH 0006    19903.0      18601       1302             0006\n",
       "6   1/1/2021     CH 0007    63208.0      55556       7652             0007\n",
       "7   1/1/2021     CH 0008    27605.0      25083       2522             0008\n",
       "8   1/1/2021     CH 0009    15909.0      13716       2202             0009\n",
       "9   1/1/2021     CH 0010    13108.0        NaN       1925             0010\n",
       "10  1/1/2021     CH 0011    20837.0      16938       3899             0011\n",
       "11  1/1/2021     CH 0012    22326.0      20779       1547             0012\n",
       "12  1/1/2021     CH 0013    13433.0      11317       2116             0013\n",
       "13  1/1/2021     CH 0014    26029.0      21548       4481             0014\n",
       "14  1/1/2021     CH 0015    18693.0      15516       3177             0015\n",
       "15  1/1/2021     CH 0016    32319.0      26933       5705             0016\n",
       "16  1/1/2021     CH 0017    38504.0      31465       7039             0017\n",
       "17  1/1/2021     CH 0018    18086.0      16435        NaN             0018\n",
       "18  1/1/2021     CH 0019     7985.0       6855       1130             0019\n",
       "19  1/1/2021     CH 0020    23761.0      21161       2600             0020"
      ]
     },
     "execution_count": 19,
     "metadata": {},
     "output_type": "execute_result"
    }
   ],
   "source": [
    "df3=df.copy()\n",
    "df3['Doanh Thu']=df3['Doanh Thu'].apply(convert_to_num)\n",
    "df3.head(20)"
   ]
  },
  {
   "cell_type": "code",
   "execution_count": 20,
   "id": "7a265dce",
   "metadata": {
    "scrolled": true
   },
   "outputs": [
    {
     "data": {
      "text/html": [
       "<div>\n",
       "<style scoped>\n",
       "    .dataframe tbody tr th:only-of-type {\n",
       "        vertical-align: middle;\n",
       "    }\n",
       "\n",
       "    .dataframe tbody tr th {\n",
       "        vertical-align: top;\n",
       "    }\n",
       "\n",
       "    .dataframe thead th {\n",
       "        text-align: right;\n",
       "    }\n",
       "</style>\n",
       "<table border=\"1\" class=\"dataframe\">\n",
       "  <thead>\n",
       "    <tr style=\"text-align: right;\">\n",
       "      <th></th>\n",
       "      <th></th>\n",
       "      <th>Ma Cua Hang</th>\n",
       "      <th>Doanh Thu</th>\n",
       "      <th>Chi Phi</th>\n",
       "      <th>Loi Nhuan</th>\n",
       "      <th>So Hieu Cua Hang</th>\n",
       "    </tr>\n",
       "  </thead>\n",
       "  <tbody>\n",
       "    <tr>\n",
       "      <th>0</th>\n",
       "      <td>1/1/2021</td>\n",
       "      <td>CH 0001</td>\n",
       "      <td>14625.5</td>\n",
       "      <td>12685.0</td>\n",
       "      <td>1966</td>\n",
       "      <td>0001</td>\n",
       "    </tr>\n",
       "    <tr>\n",
       "      <th>1</th>\n",
       "      <td>1/1/2021</td>\n",
       "      <td>CH 0002</td>\n",
       "      <td>NaN</td>\n",
       "      <td>NaN</td>\n",
       "      <td>1243-1200</td>\n",
       "      <td>0002</td>\n",
       "    </tr>\n",
       "    <tr>\n",
       "      <th>2</th>\n",
       "      <td>1/1/2021</td>\n",
       "      <td>CH 0003</td>\n",
       "      <td>NaN</td>\n",
       "      <td>7017.0</td>\n",
       "      <td>1709</td>\n",
       "      <td>0003</td>\n",
       "    </tr>\n",
       "    <tr>\n",
       "      <th>3</th>\n",
       "      <td>1/1/2021</td>\n",
       "      <td>CH 0004</td>\n",
       "      <td>27120.0</td>\n",
       "      <td>23788.0</td>\n",
       "      <td>3332</td>\n",
       "      <td>0004</td>\n",
       "    </tr>\n",
       "    <tr>\n",
       "      <th>4</th>\n",
       "      <td>1/1/2021</td>\n",
       "      <td>CH 0005</td>\n",
       "      <td>9195.0</td>\n",
       "      <td>7226.0</td>\n",
       "      <td>1743</td>\n",
       "      <td>0005</td>\n",
       "    </tr>\n",
       "    <tr>\n",
       "      <th>5</th>\n",
       "      <td>1/1/2021</td>\n",
       "      <td>CH 0006</td>\n",
       "      <td>19903.0</td>\n",
       "      <td>18601.0</td>\n",
       "      <td>1302</td>\n",
       "      <td>0006</td>\n",
       "    </tr>\n",
       "  </tbody>\n",
       "</table>\n",
       "</div>"
      ],
      "text/plain": [
       "            Ma Cua Hang  Doanh Thu  Chi Phi  Loi Nhuan So Hieu Cua Hang\n",
       "0  1/1/2021     CH 0001    14625.5  12685.0       1966             0001\n",
       "1  1/1/2021     CH 0002        NaN      NaN  1243-1200             0002\n",
       "2  1/1/2021     CH 0003        NaN   7017.0       1709             0003\n",
       "3  1/1/2021     CH 0004    27120.0  23788.0       3332             0004\n",
       "4  1/1/2021     CH 0005     9195.0   7226.0       1743             0005\n",
       "5  1/1/2021     CH 0006    19903.0  18601.0       1302             0006"
      ]
     },
     "execution_count": 20,
     "metadata": {},
     "output_type": "execute_result"
    }
   ],
   "source": [
    "df3['Chi Phi']=df3['Chi Phi'].apply(convert_to_num)\n",
    "df3.head(6)"
   ]
  },
  {
   "cell_type": "code",
   "execution_count": 21,
   "id": "5f2ea0cf",
   "metadata": {},
   "outputs": [
    {
     "data": {
      "text/html": [
       "<div>\n",
       "<style scoped>\n",
       "    .dataframe tbody tr th:only-of-type {\n",
       "        vertical-align: middle;\n",
       "    }\n",
       "\n",
       "    .dataframe tbody tr th {\n",
       "        vertical-align: top;\n",
       "    }\n",
       "\n",
       "    .dataframe thead th {\n",
       "        text-align: right;\n",
       "    }\n",
       "</style>\n",
       "<table border=\"1\" class=\"dataframe\">\n",
       "  <thead>\n",
       "    <tr style=\"text-align: right;\">\n",
       "      <th></th>\n",
       "      <th></th>\n",
       "      <th>Ma Cua Hang</th>\n",
       "      <th>Doanh Thu</th>\n",
       "      <th>Chi Phi</th>\n",
       "      <th>Loi Nhuan</th>\n",
       "      <th>So Hieu Cua Hang</th>\n",
       "    </tr>\n",
       "  </thead>\n",
       "  <tbody>\n",
       "  </tbody>\n",
       "</table>\n",
       "</div>"
      ],
      "text/plain": [
       "Empty DataFrame\n",
       "Columns: [ , Ma Cua Hang, Doanh Thu, Chi Phi, Loi Nhuan, So Hieu Cua Hang]\n",
       "Index: []"
      ]
     },
     "execution_count": 21,
     "metadata": {},
     "output_type": "execute_result"
    }
   ],
   "source": [
    "df3[~df3['Chi Phi'].apply(is_float)].head(5)"
   ]
  },
  {
   "cell_type": "code",
   "execution_count": 22,
   "id": "17d3ef55",
   "metadata": {},
   "outputs": [
    {
     "data": {
      "text/html": [
       "<div>\n",
       "<style scoped>\n",
       "    .dataframe tbody tr th:only-of-type {\n",
       "        vertical-align: middle;\n",
       "    }\n",
       "\n",
       "    .dataframe tbody tr th {\n",
       "        vertical-align: top;\n",
       "    }\n",
       "\n",
       "    .dataframe thead th {\n",
       "        text-align: right;\n",
       "    }\n",
       "</style>\n",
       "<table border=\"1\" class=\"dataframe\">\n",
       "  <thead>\n",
       "    <tr style=\"text-align: right;\">\n",
       "      <th></th>\n",
       "      <th></th>\n",
       "      <th>Ma Cua Hang</th>\n",
       "      <th>Doanh Thu</th>\n",
       "      <th>Chi Phi</th>\n",
       "      <th>Loi Nhuan</th>\n",
       "      <th>So Hieu Cua Hang</th>\n",
       "    </tr>\n",
       "  </thead>\n",
       "  <tbody>\n",
       "    <tr>\n",
       "      <th>0</th>\n",
       "      <td>1/1/2021</td>\n",
       "      <td>CH 0001</td>\n",
       "      <td>14625.5</td>\n",
       "      <td>12685.0</td>\n",
       "      <td>1966.0</td>\n",
       "      <td>0001</td>\n",
       "    </tr>\n",
       "    <tr>\n",
       "      <th>1</th>\n",
       "      <td>1/1/2021</td>\n",
       "      <td>CH 0002</td>\n",
       "      <td>NaN</td>\n",
       "      <td>NaN</td>\n",
       "      <td>1221.5</td>\n",
       "      <td>0002</td>\n",
       "    </tr>\n",
       "    <tr>\n",
       "      <th>2</th>\n",
       "      <td>1/1/2021</td>\n",
       "      <td>CH 0003</td>\n",
       "      <td>NaN</td>\n",
       "      <td>7017.0</td>\n",
       "      <td>1709.0</td>\n",
       "      <td>0003</td>\n",
       "    </tr>\n",
       "    <tr>\n",
       "      <th>3</th>\n",
       "      <td>1/1/2021</td>\n",
       "      <td>CH 0004</td>\n",
       "      <td>27120.0</td>\n",
       "      <td>23788.0</td>\n",
       "      <td>3332.0</td>\n",
       "      <td>0004</td>\n",
       "    </tr>\n",
       "    <tr>\n",
       "      <th>4</th>\n",
       "      <td>1/1/2021</td>\n",
       "      <td>CH 0005</td>\n",
       "      <td>9195.0</td>\n",
       "      <td>7226.0</td>\n",
       "      <td>1743.0</td>\n",
       "      <td>0005</td>\n",
       "    </tr>\n",
       "  </tbody>\n",
       "</table>\n",
       "</div>"
      ],
      "text/plain": [
       "            Ma Cua Hang  Doanh Thu  Chi Phi  Loi Nhuan So Hieu Cua Hang\n",
       "0  1/1/2021     CH 0001    14625.5  12685.0     1966.0             0001\n",
       "1  1/1/2021     CH 0002        NaN      NaN     1221.5             0002\n",
       "2  1/1/2021     CH 0003        NaN   7017.0     1709.0             0003\n",
       "3  1/1/2021     CH 0004    27120.0  23788.0     3332.0             0004\n",
       "4  1/1/2021     CH 0005     9195.0   7226.0     1743.0             0005"
      ]
     },
     "execution_count": 22,
     "metadata": {},
     "output_type": "execute_result"
    }
   ],
   "source": [
    "df3['Loi Nhuan']=df3['Loi Nhuan'].apply(convert_to_num)\n",
    "df3.head()"
   ]
  },
  {
   "cell_type": "code",
   "execution_count": 23,
   "id": "2ebd1cd2",
   "metadata": {},
   "outputs": [
    {
     "data": {
      "text/html": [
       "<div>\n",
       "<style scoped>\n",
       "    .dataframe tbody tr th:only-of-type {\n",
       "        vertical-align: middle;\n",
       "    }\n",
       "\n",
       "    .dataframe tbody tr th {\n",
       "        vertical-align: top;\n",
       "    }\n",
       "\n",
       "    .dataframe thead th {\n",
       "        text-align: right;\n",
       "    }\n",
       "</style>\n",
       "<table border=\"1\" class=\"dataframe\">\n",
       "  <thead>\n",
       "    <tr style=\"text-align: right;\">\n",
       "      <th></th>\n",
       "      <th></th>\n",
       "      <th>Ma Cua Hang</th>\n",
       "      <th>Doanh Thu</th>\n",
       "      <th>Chi Phi</th>\n",
       "      <th>Loi Nhuan</th>\n",
       "      <th>So Hieu Cua Hang</th>\n",
       "    </tr>\n",
       "  </thead>\n",
       "  <tbody>\n",
       "  </tbody>\n",
       "</table>\n",
       "</div>"
      ],
      "text/plain": [
       "Empty DataFrame\n",
       "Columns: [ , Ma Cua Hang, Doanh Thu, Chi Phi, Loi Nhuan, So Hieu Cua Hang]\n",
       "Index: []"
      ]
     },
     "execution_count": 23,
     "metadata": {},
     "output_type": "execute_result"
    }
   ],
   "source": [
    "df3[~df3['Loi Nhuan'].apply(is_float)].head(5)"
   ]
  },
  {
   "cell_type": "markdown",
   "id": "fd6363ab",
   "metadata": {},
   "source": [
    "#  thay thế bằng giá trị trung bình"
   ]
  },
  {
   "cell_type": "code",
   "execution_count": 24,
   "id": "1da0269a",
   "metadata": {
    "scrolled": false
   },
   "outputs": [
    {
     "name": "stderr",
     "output_type": "stream",
     "text": [
      "C:\\Users\\Nhan\\AppData\\Local\\Temp\\ipykernel_12264\\552684755.py:1: FutureWarning: Dropping of nuisance columns in DataFrame reductions (with 'numeric_only=None') is deprecated; in a future version this will raise TypeError.  Select only valid columns before calling the reduction.\n",
      "  df3['Doanh Thu'] = df3['Doanh Thu'].fillna(df3.mean()['Doanh Thu'])\n"
     ]
    }
   ],
   "source": [
    "df3['Doanh Thu'] = df3['Doanh Thu'].fillna(df3.mean()['Doanh Thu'])\n",
    "#from sklearn.impute import SimpleImputer\n",
    "\n",
    "#imputer= SimpleImputer(missing_values =df3['Doanh Thu'].isnull(), strategy='mean')\n",
    "#imputer.fit_transform(df3['Doanh Thu'])"
   ]
  },
  {
   "cell_type": "code",
   "execution_count": 25,
   "id": "d58e0059",
   "metadata": {},
   "outputs": [
    {
     "name": "stderr",
     "output_type": "stream",
     "text": [
      "C:\\Users\\Nhan\\AppData\\Local\\Temp\\ipykernel_12264\\4075261415.py:1: FutureWarning: Dropping of nuisance columns in DataFrame reductions (with 'numeric_only=None') is deprecated; in a future version this will raise TypeError.  Select only valid columns before calling the reduction.\n",
      "  df3['Chi Phi'] = df3['Chi Phi'].fillna(df3.mean()['Chi Phi'])\n"
     ]
    }
   ],
   "source": [
    "df3['Chi Phi'] = df3['Chi Phi'].fillna(df3.mean()['Chi Phi'])"
   ]
  },
  {
   "cell_type": "code",
   "execution_count": 26,
   "id": "295b7a30",
   "metadata": {},
   "outputs": [
    {
     "name": "stderr",
     "output_type": "stream",
     "text": [
      "C:\\Users\\Nhan\\AppData\\Local\\Temp\\ipykernel_12264\\756515982.py:1: FutureWarning: Dropping of nuisance columns in DataFrame reductions (with 'numeric_only=None') is deprecated; in a future version this will raise TypeError.  Select only valid columns before calling the reduction.\n",
      "  df3['Loi Nhuan']=df3['Loi Nhuan'].fillna(df3.mean()['Loi Nhuan'])\n"
     ]
    }
   ],
   "source": [
    "df3['Loi Nhuan']=df3['Loi Nhuan'].fillna(df3.mean()['Loi Nhuan'])"
   ]
  },
  {
   "cell_type": "code",
   "execution_count": 27,
   "id": "9efcc836",
   "metadata": {},
   "outputs": [
    {
     "data": {
      "text/html": [
       "<div>\n",
       "<style scoped>\n",
       "    .dataframe tbody tr th:only-of-type {\n",
       "        vertical-align: middle;\n",
       "    }\n",
       "\n",
       "    .dataframe tbody tr th {\n",
       "        vertical-align: top;\n",
       "    }\n",
       "\n",
       "    .dataframe thead th {\n",
       "        text-align: right;\n",
       "    }\n",
       "</style>\n",
       "<table border=\"1\" class=\"dataframe\">\n",
       "  <thead>\n",
       "    <tr style=\"text-align: right;\">\n",
       "      <th></th>\n",
       "      <th></th>\n",
       "      <th>Ma Cua Hang</th>\n",
       "      <th>Doanh Thu</th>\n",
       "      <th>Chi Phi</th>\n",
       "      <th>Loi Nhuan</th>\n",
       "      <th>So Hieu Cua Hang</th>\n",
       "    </tr>\n",
       "  </thead>\n",
       "  <tbody>\n",
       "    <tr>\n",
       "      <th>0</th>\n",
       "      <td>1/1/2021</td>\n",
       "      <td>CH 0001</td>\n",
       "      <td>14625.500000</td>\n",
       "      <td>12685.000000</td>\n",
       "      <td>1966.0</td>\n",
       "      <td>0001</td>\n",
       "    </tr>\n",
       "    <tr>\n",
       "      <th>1</th>\n",
       "      <td>1/1/2021</td>\n",
       "      <td>CH 0002</td>\n",
       "      <td>22354.173844</td>\n",
       "      <td>19557.535153</td>\n",
       "      <td>1221.5</td>\n",
       "      <td>0002</td>\n",
       "    </tr>\n",
       "    <tr>\n",
       "      <th>2</th>\n",
       "      <td>1/1/2021</td>\n",
       "      <td>CH 0003</td>\n",
       "      <td>22354.173844</td>\n",
       "      <td>7017.000000</td>\n",
       "      <td>1709.0</td>\n",
       "      <td>0003</td>\n",
       "    </tr>\n",
       "    <tr>\n",
       "      <th>3</th>\n",
       "      <td>1/1/2021</td>\n",
       "      <td>CH 0004</td>\n",
       "      <td>27120.000000</td>\n",
       "      <td>23788.000000</td>\n",
       "      <td>3332.0</td>\n",
       "      <td>0004</td>\n",
       "    </tr>\n",
       "    <tr>\n",
       "      <th>4</th>\n",
       "      <td>1/1/2021</td>\n",
       "      <td>CH 0005</td>\n",
       "      <td>9195.000000</td>\n",
       "      <td>7226.000000</td>\n",
       "      <td>1743.0</td>\n",
       "      <td>0005</td>\n",
       "    </tr>\n",
       "  </tbody>\n",
       "</table>\n",
       "</div>"
      ],
      "text/plain": [
       "            Ma Cua Hang     Doanh Thu       Chi Phi  Loi Nhuan  \\\n",
       "0  1/1/2021     CH 0001  14625.500000  12685.000000     1966.0   \n",
       "1  1/1/2021     CH 0002  22354.173844  19557.535153     1221.5   \n",
       "2  1/1/2021     CH 0003  22354.173844   7017.000000     1709.0   \n",
       "3  1/1/2021     CH 0004  27120.000000  23788.000000     3332.0   \n",
       "4  1/1/2021     CH 0005   9195.000000   7226.000000     1743.0   \n",
       "\n",
       "  So Hieu Cua Hang  \n",
       "0             0001  \n",
       "1             0002  \n",
       "2             0003  \n",
       "3             0004  \n",
       "4             0005  "
      ]
     },
     "execution_count": 27,
     "metadata": {},
     "output_type": "execute_result"
    }
   ],
   "source": [
    "df3.head()"
   ]
  },
  {
   "cell_type": "code",
   "execution_count": 28,
   "id": "0dd33867",
   "metadata": {
    "scrolled": true
   },
   "outputs": [
    {
     "data": {
      "text/html": [
       "<div>\n",
       "<style scoped>\n",
       "    .dataframe tbody tr th:only-of-type {\n",
       "        vertical-align: middle;\n",
       "    }\n",
       "\n",
       "    .dataframe tbody tr th {\n",
       "        vertical-align: top;\n",
       "    }\n",
       "\n",
       "    .dataframe thead th {\n",
       "        text-align: right;\n",
       "    }\n",
       "</style>\n",
       "<table border=\"1\" class=\"dataframe\">\n",
       "  <thead>\n",
       "    <tr style=\"text-align: right;\">\n",
       "      <th></th>\n",
       "      <th>Doanh Thu</th>\n",
       "      <th>Chi Phi</th>\n",
       "      <th>Loi Nhuan</th>\n",
       "    </tr>\n",
       "  </thead>\n",
       "  <tbody>\n",
       "    <tr>\n",
       "      <th>count</th>\n",
       "      <td>99129.000000</td>\n",
       "      <td>99129.000000</td>\n",
       "      <td>99129.000000</td>\n",
       "    </tr>\n",
       "    <tr>\n",
       "      <th>mean</th>\n",
       "      <td>22354.173844</td>\n",
       "      <td>19557.535153</td>\n",
       "      <td>2796.554152</td>\n",
       "    </tr>\n",
       "    <tr>\n",
       "      <th>std</th>\n",
       "      <td>12044.585670</td>\n",
       "      <td>10595.380217</td>\n",
       "      <td>1866.465460</td>\n",
       "    </tr>\n",
       "    <tr>\n",
       "      <th>min</th>\n",
       "      <td>0.000000</td>\n",
       "      <td>0.000000</td>\n",
       "      <td>0.000000</td>\n",
       "    </tr>\n",
       "    <tr>\n",
       "      <th>25%</th>\n",
       "      <td>13214.000000</td>\n",
       "      <td>11517.000000</td>\n",
       "      <td>1378.000000</td>\n",
       "    </tr>\n",
       "    <tr>\n",
       "      <th>50%</th>\n",
       "      <td>21750.000000</td>\n",
       "      <td>19009.000000</td>\n",
       "      <td>2439.000000</td>\n",
       "    </tr>\n",
       "    <tr>\n",
       "      <th>75%</th>\n",
       "      <td>30556.000000</td>\n",
       "      <td>26701.000000</td>\n",
       "      <td>3867.000000</td>\n",
       "    </tr>\n",
       "    <tr>\n",
       "      <th>max</th>\n",
       "      <td>69571.000000</td>\n",
       "      <td>63893.000000</td>\n",
       "      <td>12812.000000</td>\n",
       "    </tr>\n",
       "  </tbody>\n",
       "</table>\n",
       "</div>"
      ],
      "text/plain": [
       "          Doanh Thu       Chi Phi     Loi Nhuan\n",
       "count  99129.000000  99129.000000  99129.000000\n",
       "mean   22354.173844  19557.535153   2796.554152\n",
       "std    12044.585670  10595.380217   1866.465460\n",
       "min        0.000000      0.000000      0.000000\n",
       "25%    13214.000000  11517.000000   1378.000000\n",
       "50%    21750.000000  19009.000000   2439.000000\n",
       "75%    30556.000000  26701.000000   3867.000000\n",
       "max    69571.000000  63893.000000  12812.000000"
      ]
     },
     "execution_count": 28,
     "metadata": {},
     "output_type": "execute_result"
    }
   ],
   "source": [
    "df3.describe()"
   ]
  },
  {
   "cell_type": "code",
   "execution_count": 29,
   "id": "d4749bdb",
   "metadata": {},
   "outputs": [],
   "source": [
    "df4=df3.copy()"
   ]
  },
  {
   "cell_type": "code",
   "execution_count": 30,
   "id": "81d58f21",
   "metadata": {},
   "outputs": [
    {
     "data": {
      "text/plain": [
       "CH 0001    17\n",
       "CH 3879    17\n",
       "CH 3877    17\n",
       "CH 3876    17\n",
       "CH 3875    17\n",
       "           ..\n",
       "CH 5870     1\n",
       "CH 5871     1\n",
       "CH 5872     1\n",
       "CH 5873     1\n",
       "CH 5832     1\n",
       "Name: Ma Cua Hang, Length: 5905, dtype: int64"
      ]
     },
     "execution_count": 30,
     "metadata": {},
     "output_type": "execute_result"
    }
   ],
   "source": [
    "df4['Ma Cua Hang']=df4['Ma Cua Hang'].apply(lambda x : x.strip())\n",
    "MaCuaHang=df4['Ma Cua Hang'].value_counts(ascending= False )\n",
    "MaCuaHang"
   ]
  },
  {
   "cell_type": "code",
   "execution_count": 31,
   "id": "d391842b",
   "metadata": {},
   "outputs": [
    {
     "data": {
      "text/plain": [
       "99129"
      ]
     },
     "execution_count": 31,
     "metadata": {},
     "output_type": "execute_result"
    }
   ],
   "source": [
    "MaCuaHang.values.sum()"
   ]
  },
  {
   "cell_type": "code",
   "execution_count": 32,
   "id": "412d902d",
   "metadata": {
    "scrolled": true
   },
   "outputs": [
    {
     "data": {
      "text/plain": [
       "60"
      ]
     },
     "execution_count": 32,
     "metadata": {},
     "output_type": "execute_result"
    }
   ],
   "source": [
    "len(MaCuaHang[MaCuaHang<=1])"
   ]
  },
  {
   "cell_type": "code",
   "execution_count": 33,
   "id": "7893c152",
   "metadata": {},
   "outputs": [
    {
     "data": {
      "text/plain": [
       "5845"
      ]
     },
     "execution_count": 33,
     "metadata": {},
     "output_type": "execute_result"
    }
   ],
   "source": [
    "len(MaCuaHang[MaCuaHang>1])"
   ]
  },
  {
   "cell_type": "code",
   "execution_count": 34,
   "id": "657b5532",
   "metadata": {},
   "outputs": [
    {
     "data": {
      "text/plain": [
       "CH 5882    2\n",
       "CH 5904    2\n",
       "CH 5905    2\n",
       "CH 5846    1\n",
       "CH 5847    1\n",
       "          ..\n",
       "CH 5870    1\n",
       "CH 5871    1\n",
       "CH 5872    1\n",
       "CH 5873    1\n",
       "CH 5832    1\n",
       "Name: Ma Cua Hang, Length: 63, dtype: int64"
      ]
     },
     "execution_count": 34,
     "metadata": {},
     "output_type": "execute_result"
    }
   ],
   "source": [
    "MaCuaHang_less_than_1=MaCuaHang[MaCuaHang<=2]\n",
    "MaCuaHang_less_than_1"
   ]
  },
  {
   "cell_type": "code",
   "execution_count": 35,
   "id": "801b423c",
   "metadata": {},
   "outputs": [
    {
     "data": {
      "text/plain": [
       "5905"
      ]
     },
     "execution_count": 35,
     "metadata": {},
     "output_type": "execute_result"
    }
   ],
   "source": [
    "len(df4['Ma Cua Hang'].unique())"
   ]
  },
  {
   "cell_type": "code",
   "execution_count": 36,
   "id": "8b6fd5f9",
   "metadata": {},
   "outputs": [
    {
     "data": {
      "text/plain": [
       "5843"
      ]
     },
     "execution_count": 36,
     "metadata": {},
     "output_type": "execute_result"
    }
   ],
   "source": [
    "df4['Ma Cua Hang']=df4['Ma Cua Hang'].apply(lambda x: 'other' if x in MaCuaHang_less_than_1 else x)\n",
    "len(df4['Ma Cua Hang'].unique())"
   ]
  },
  {
   "cell_type": "code",
   "execution_count": 37,
   "id": "6dcec271",
   "metadata": {},
   "outputs": [
    {
     "data": {
      "text/html": [
       "<div>\n",
       "<style scoped>\n",
       "    .dataframe tbody tr th:only-of-type {\n",
       "        vertical-align: middle;\n",
       "    }\n",
       "\n",
       "    .dataframe tbody tr th {\n",
       "        vertical-align: top;\n",
       "    }\n",
       "\n",
       "    .dataframe thead th {\n",
       "        text-align: right;\n",
       "    }\n",
       "</style>\n",
       "<table border=\"1\" class=\"dataframe\">\n",
       "  <thead>\n",
       "    <tr style=\"text-align: right;\">\n",
       "      <th></th>\n",
       "      <th></th>\n",
       "      <th>Ma Cua Hang</th>\n",
       "      <th>Doanh Thu</th>\n",
       "      <th>Chi Phi</th>\n",
       "      <th>Loi Nhuan</th>\n",
       "      <th>So Hieu Cua Hang</th>\n",
       "    </tr>\n",
       "  </thead>\n",
       "  <tbody>\n",
       "    <tr>\n",
       "      <th>0</th>\n",
       "      <td>1/1/2021</td>\n",
       "      <td>CH 0001</td>\n",
       "      <td>14625.500000</td>\n",
       "      <td>12685.000000</td>\n",
       "      <td>1966.0</td>\n",
       "      <td>0001</td>\n",
       "    </tr>\n",
       "    <tr>\n",
       "      <th>1</th>\n",
       "      <td>1/1/2021</td>\n",
       "      <td>CH 0002</td>\n",
       "      <td>22354.173844</td>\n",
       "      <td>19557.535153</td>\n",
       "      <td>1221.5</td>\n",
       "      <td>0002</td>\n",
       "    </tr>\n",
       "    <tr>\n",
       "      <th>2</th>\n",
       "      <td>1/1/2021</td>\n",
       "      <td>CH 0003</td>\n",
       "      <td>22354.173844</td>\n",
       "      <td>7017.000000</td>\n",
       "      <td>1709.0</td>\n",
       "      <td>0003</td>\n",
       "    </tr>\n",
       "    <tr>\n",
       "      <th>3</th>\n",
       "      <td>1/1/2021</td>\n",
       "      <td>CH 0004</td>\n",
       "      <td>27120.000000</td>\n",
       "      <td>23788.000000</td>\n",
       "      <td>3332.0</td>\n",
       "      <td>0004</td>\n",
       "    </tr>\n",
       "    <tr>\n",
       "      <th>4</th>\n",
       "      <td>1/1/2021</td>\n",
       "      <td>CH 0005</td>\n",
       "      <td>9195.000000</td>\n",
       "      <td>7226.000000</td>\n",
       "      <td>1743.0</td>\n",
       "      <td>0005</td>\n",
       "    </tr>\n",
       "    <tr>\n",
       "      <th>5</th>\n",
       "      <td>1/1/2021</td>\n",
       "      <td>CH 0006</td>\n",
       "      <td>19903.000000</td>\n",
       "      <td>18601.000000</td>\n",
       "      <td>1302.0</td>\n",
       "      <td>0006</td>\n",
       "    </tr>\n",
       "    <tr>\n",
       "      <th>6</th>\n",
       "      <td>1/1/2021</td>\n",
       "      <td>CH 0007</td>\n",
       "      <td>63208.000000</td>\n",
       "      <td>55556.000000</td>\n",
       "      <td>7652.0</td>\n",
       "      <td>0007</td>\n",
       "    </tr>\n",
       "    <tr>\n",
       "      <th>7</th>\n",
       "      <td>1/1/2021</td>\n",
       "      <td>CH 0008</td>\n",
       "      <td>27605.000000</td>\n",
       "      <td>25083.000000</td>\n",
       "      <td>2522.0</td>\n",
       "      <td>0008</td>\n",
       "    </tr>\n",
       "    <tr>\n",
       "      <th>8</th>\n",
       "      <td>1/1/2021</td>\n",
       "      <td>CH 0009</td>\n",
       "      <td>15909.000000</td>\n",
       "      <td>13716.000000</td>\n",
       "      <td>2202.0</td>\n",
       "      <td>0009</td>\n",
       "    </tr>\n",
       "    <tr>\n",
       "      <th>9</th>\n",
       "      <td>1/1/2021</td>\n",
       "      <td>CH 0010</td>\n",
       "      <td>13108.000000</td>\n",
       "      <td>19557.535153</td>\n",
       "      <td>1925.0</td>\n",
       "      <td>0010</td>\n",
       "    </tr>\n",
       "  </tbody>\n",
       "</table>\n",
       "</div>"
      ],
      "text/plain": [
       "            Ma Cua Hang     Doanh Thu       Chi Phi  Loi Nhuan  \\\n",
       "0  1/1/2021     CH 0001  14625.500000  12685.000000     1966.0   \n",
       "1  1/1/2021     CH 0002  22354.173844  19557.535153     1221.5   \n",
       "2  1/1/2021     CH 0003  22354.173844   7017.000000     1709.0   \n",
       "3  1/1/2021     CH 0004  27120.000000  23788.000000     3332.0   \n",
       "4  1/1/2021     CH 0005   9195.000000   7226.000000     1743.0   \n",
       "5  1/1/2021     CH 0006  19903.000000  18601.000000     1302.0   \n",
       "6  1/1/2021     CH 0007  63208.000000  55556.000000     7652.0   \n",
       "7  1/1/2021     CH 0008  27605.000000  25083.000000     2522.0   \n",
       "8  1/1/2021     CH 0009  15909.000000  13716.000000     2202.0   \n",
       "9  1/1/2021     CH 0010  13108.000000  19557.535153     1925.0   \n",
       "\n",
       "  So Hieu Cua Hang  \n",
       "0             0001  \n",
       "1             0002  \n",
       "2             0003  \n",
       "3             0004  \n",
       "4             0005  \n",
       "5             0006  \n",
       "6             0007  \n",
       "7             0008  \n",
       "8             0009  \n",
       "9             0010  "
      ]
     },
     "execution_count": 37,
     "metadata": {},
     "output_type": "execute_result"
    }
   ],
   "source": [
    "df4.head(10)"
   ]
  },
  {
   "cell_type": "code",
   "execution_count": null,
   "id": "451f1a92",
   "metadata": {},
   "outputs": [],
   "source": []
  },
  {
   "cell_type": "code",
   "execution_count": null,
   "id": "e6b385af",
   "metadata": {},
   "outputs": [],
   "source": []
  }
 ],
 "metadata": {
  "kernelspec": {
   "display_name": "Python 3 (ipykernel)",
   "language": "python",
   "name": "python3"
  },
  "language_info": {
   "codemirror_mode": {
    "name": "ipython",
    "version": 3
   },
   "file_extension": ".py",
   "mimetype": "text/x-python",
   "name": "python",
   "nbconvert_exporter": "python",
   "pygments_lexer": "ipython3",
   "version": "3.9.12"
  }
 },
 "nbformat": 4,
 "nbformat_minor": 5
}
