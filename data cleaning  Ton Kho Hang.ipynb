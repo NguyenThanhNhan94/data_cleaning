{
 "cells": [
  {
   "cell_type": "code",
   "execution_count": 2,
   "id": "cc0a6c64",
   "metadata": {},
   "outputs": [
    {
     "data": {
      "text/plain": [
       "False"
      ]
     },
     "execution_count": 2,
     "metadata": {},
     "output_type": "execute_result"
    }
   ],
   "source": [
    "import pandas as pd\n",
    "import numpy as np\n",
    "from matplotlib import pyplot as plt \n",
    "%matplotlib inline\n",
    "import matplotlib\n",
    "matplotlib.rcParams[\"figure.figsize\"] == (20,10)"
   ]
  },
  {
   "cell_type": "code",
   "execution_count": 3,
   "id": "bd209712",
   "metadata": {},
   "outputs": [],
   "source": [
    "df=pd.read_csv(\"tonkho 22-11.csv\",encoding='ISO-8859-1')\n",
    "# df.head(10)"
   ]
  },
  {
   "cell_type": "code",
   "execution_count": 4,
   "id": "647dc978",
   "metadata": {
    "scrolled": true
   },
   "outputs": [],
   "source": [
    "# df.shape"
   ]
  },
  {
   "cell_type": "code",
   "execution_count": 5,
   "id": "53527baf",
   "metadata": {},
   "outputs": [],
   "source": [
    "# df.columns"
   ]
  },
  {
   "cell_type": "code",
   "execution_count": 1,
   "id": "67ff8bd6",
   "metadata": {
    "scrolled": true
   },
   "outputs": [
    {
     "ename": "NameError",
     "evalue": "name 'df' is not defined",
     "output_type": "error",
     "traceback": [
      "\u001b[1;31m---------------------------------------------------------------------------\u001b[0m",
      "\u001b[1;31mNameError\u001b[0m                                 Traceback (most recent call last)",
      "Input \u001b[1;32mIn [1]\u001b[0m, in \u001b[0;36m<cell line: 1>\u001b[1;34m()\u001b[0m\n\u001b[1;32m----> 1\u001b[0m \u001b[43mdf\u001b[49m[\u001b[38;5;124m'\u001b[39m\u001b[38;5;124mDauKy\u001b[39m\u001b[38;5;124m'\u001b[39m]\u001b[38;5;241m.\u001b[39munique()\n",
      "\u001b[1;31mNameError\u001b[0m: name 'df' is not defined"
     ]
    }
   ],
   "source": [
    "df['DauKy'].unique()"
   ]
  },
  {
   "cell_type": "code",
   "execution_count": null,
   "id": "e0720113",
   "metadata": {},
   "outputs": [],
   "source": [
    "df['MaVatTu'].value_counts()"
   ]
  },
  {
   "cell_type": "code",
   "execution_count": null,
   "id": "7dcbf9fe",
   "metadata": {},
   "outputs": [],
   "source": [
    "df1=df.drop(['SoLoID','MaLocator','TyLe621','TyLe622','TyLe627','MaNhomTB','TenNhomTB','MaTB','TenTB'],axis='columns')\n",
    "df1.shape"
   ]
  },
  {
   "cell_type": "code",
   "execution_count": null,
   "id": "e36a26e4",
   "metadata": {},
   "outputs": [],
   "source": [
    "df1.isnull().sum()"
   ]
  },
  {
   "cell_type": "code",
   "execution_count": null,
   "id": "c163bd1e",
   "metadata": {},
   "outputs": [],
   "source": [
    "# df1.columns"
   ]
  },
  {
   "cell_type": "code",
   "execution_count": null,
   "id": "a52dcafd",
   "metadata": {
    "scrolled": false
   },
   "outputs": [],
   "source": [
    "# df1['SoChungTu'].value_counts()"
   ]
  },
  {
   "cell_type": "markdown",
   "id": "21e12eb4",
   "metadata": {},
   "source": [
    "# Tách chuỗi ký tự ngăn cách bởi dấu '-' "
   ]
  },
  {
   "cell_type": "code",
   "execution_count": null,
   "id": "efe9a379",
   "metadata": {},
   "outputs": [],
   "source": [
    "# def conveter(x):\n",
    "#       try:\n",
    "#             df1['SoChungTu'].apply(lambda x: str(x.split(' - ')[0]))\n",
    "#         except:\n",
    "#             return False\n",
    "#         return True \n",
    "        \n",
    "           "
   ]
  },
  {
   "cell_type": "code",
   "execution_count": null,
   "id": "a28f0ce5",
   "metadata": {
    "scrolled": true
   },
   "outputs": [],
   "source": []
  },
  {
   "cell_type": "code",
   "execution_count": null,
   "id": "24382d13",
   "metadata": {
    "scrolled": true
   },
   "outputs": [],
   "source": [
    "df1.to_csv('TonKhofiltered1.csv')"
   ]
  },
  {
   "cell_type": "code",
   "execution_count": null,
   "id": "cd30fb1f",
   "metadata": {},
   "outputs": [],
   "source": [
    "def is_float(x):\n",
    "        try: float(x)\n",
    "        except:\n",
    "            return False\n",
    "        return True"
   ]
  },
  {
   "cell_type": "code",
   "execution_count": null,
   "id": "2dae01f6",
   "metadata": {
    "scrolled": true
   },
   "outputs": [],
   "source": [
    "df1[~df1['DauKy'].apply(is_float)]"
   ]
  },
  {
   "cell_type": "code",
   "execution_count": null,
   "id": "2761c5b8",
   "metadata": {},
   "outputs": [],
   "source": []
  }
 ],
 "metadata": {
  "kernelspec": {
   "display_name": "Python 3 (ipykernel)",
   "language": "python",
   "name": "python3"
  },
  "language_info": {
   "codemirror_mode": {
    "name": "ipython",
    "version": 3
   },
   "file_extension": ".py",
   "mimetype": "text/x-python",
   "name": "python",
   "nbconvert_exporter": "python",
   "pygments_lexer": "ipython3",
   "version": "3.9.12"
  }
 },
 "nbformat": 4,
 "nbformat_minor": 5
}
