{
 "cells": [
  {
   "cell_type": "code",
   "execution_count": 1,
   "id": "015ac351",
   "metadata": {},
   "outputs": [],
   "source": [
    "from sklearn import datasets\n",
    "from sklearn.preprocessing import LabelEncoder, StandardScaler\n",
    "from sklearn.experimental import enable_iterative_imputer\n",
    "from sklearn.impute import IterativeImputer\n",
    "from scipy import stats\n",
    "from fancyimpute import IterativeSVD, SoftImpute, NuclearNormMinimization\n",
    "import numpy as np\n",
    "import pandas as pd\n",
    "import time"
   ]
  },
  {
   "cell_type": "code",
   "execution_count": 15,
   "id": "ba0e5890",
   "metadata": {
    "scrolled": true
   },
   "outputs": [],
   "source": [
    "Xstar= np.array([[168, 30, 200],[200, 45, 300],[180, 90,np.nan ],[129, 70,np.nan]])"
   ]
  },
  {
   "cell_type": "code",
   "execution_count": 16,
   "id": "3edae782",
   "metadata": {
    "scrolled": false
   },
   "outputs": [
    {
     "data": {
      "text/plain": [
       "array([[168.,  30., 200.],\n",
       "       [200.,  45., 300.],\n",
       "       [180.,  90.,  nan],\n",
       "       [129.,  70.,  nan]])"
      ]
     },
     "execution_count": 16,
     "metadata": {},
     "output_type": "execute_result"
    }
   ],
   "source": [
    "Xstar"
   ]
  },
  {
   "cell_type": "code",
   "execution_count": 17,
   "id": "bf1acb7f",
   "metadata": {},
   "outputs": [
    {
     "name": "stdout",
     "output_type": "stream",
     "text": [
      "[[168.  30. 200.]\n",
      " [200.  45. 300.]\n",
      " [180.  90. 250.]\n",
      " [129.  70. 250.]]\n"
     ]
    }
   ],
   "source": [
    "from sklearn.impute import SimpleImputer\n",
    "imputer = SimpleImputer(missing_values =np.nan, strategy= 'mean')\n",
    "imputer.fit(Xstar)\n",
    "print(imputer.transform(Xstar))"
   ]
  },
  {
   "cell_type": "code",
   "execution_count": 19,
   "id": "0705d25c",
   "metadata": {
    "scrolled": true
   },
   "outputs": [
    {
     "data": {
      "text/plain": [
       "array([[168.,  30., 200.],\n",
       "       [200.,  45., 300.],\n",
       "       [180.,  90., 250.],\n",
       "       [129.,  70., 250.]])"
      ]
     },
     "execution_count": 19,
     "metadata": {},
     "output_type": "execute_result"
    }
   ],
   "source": [
    "imputer=SimpleImputer(missing_values= np.nan, strategy= 'mean')\n",
    "imputer.fit_transform(Xstar)"
   ]
  },
  {
   "cell_type": "code",
   "execution_count": 20,
   "id": "8276261a",
   "metadata": {},
   "outputs": [
    {
     "data": {
      "text/plain": [
       "array([[168.,  30., 200.],\n",
       "       [200.,  45., 300.],\n",
       "       [180.,  90., 250.],\n",
       "       [129.,  70., 250.]])"
      ]
     },
     "execution_count": 20,
     "metadata": {},
     "output_type": "execute_result"
    }
   ],
   "source": [
    "imputer= SimpleImputer(missing_values= np.nan, strategy='median')\n",
    "imputer.fit_transform(Xstar)"
   ]
  },
  {
   "cell_type": "code",
   "execution_count": 21,
   "id": "cd6484fe",
   "metadata": {},
   "outputs": [
    {
     "data": {
      "text/plain": [
       "array([[168.,  30., 200.],\n",
       "       [200.,  45., 300.],\n",
       "       [180.,  90., 200.],\n",
       "       [129.,  70., 200.]])"
      ]
     },
     "execution_count": 21,
     "metadata": {},
     "output_type": "execute_result"
    }
   ],
   "source": [
    "imputer=SimpleImputer(missing_values=np.nan, strategy='most_frequent')\n",
    "imputer.fit_transform(Xstar)"
   ]
  },
  {
   "cell_type": "code",
   "execution_count": 33,
   "id": "ee65ddd0",
   "metadata": {},
   "outputs": [],
   "source": [
    "from fancyimpute import KNN,NuclearNormMinimization, BiScaler, SoftImpute"
   ]
  },
  {
   "cell_type": "code",
   "execution_count": 34,
   "id": "8249ed98",
   "metadata": {},
   "outputs": [
    {
     "name": "stdout",
     "output_type": "stream",
     "text": [
      "Imputing row 1/4 with 0 missing, elapsed time: 0.002\n",
      "[[168.  30. 200.]\n",
      " [200.  45. 300.]\n",
      " [180.  90. 300.]\n",
      " [129.  70. 200.]] \n",
      "\n",
      " [[168.  30. 200.]\n",
      " [200.  45. 300.]\n",
      " [180.  90.  nan]\n",
      " [129.  70.  nan]]\n"
     ]
    }
   ],
   "source": [
    "X=KNN(k=1).fit_transform(Xstar)\n",
    "print(X,'\\n\\n',Xstar)"
   ]
  },
  {
   "cell_type": "code",
   "execution_count": 40,
   "id": "bd67a455",
   "metadata": {},
   "outputs": [
    {
     "name": "stdout",
     "output_type": "stream",
     "text": [
      "[BiScaler] Initial log residual value = 12.065274\n",
      "[BiScaler] Iter 1: log residual = -2.899786, log improvement ratio=14.965060\n",
      "[BiScaler] Iter 2: log residual = -4.226582, log improvement ratio=1.326796\n",
      "[BiScaler] Iter 3: log residual = -4.788862, log improvement ratio=0.562280\n",
      "[BiScaler] Iter 4: log residual = -4.943716, log improvement ratio=0.154854\n",
      "[BiScaler] Iter 5: log residual = -5.003397, log improvement ratio=0.059680\n",
      "[BiScaler] Iter 6: log residual = -5.019292, log improvement ratio=0.015896\n",
      "[BiScaler] Iter 7: log residual = -5.021997, log improvement ratio=0.002705\n",
      "[BiScaler] Iter 8: log residual = -5.019859, log improvement ratio=-0.002139\n",
      "[[ 1.36787129e+00 -4.21574305e-01 -9.95834370e-01]\n",
      " [ 4.09493875e-01 -1.36393813e+00  1.00414835e+00]\n",
      " [-9.89736595e-01  9.90965859e-01 -1.01891138e-03]\n",
      " [-9.90789777e-01  9.89916438e-01  9.82403355e-04]] \n",
      "\n",
      " [[ 1.36787129 -0.42157431 -0.99583437]\n",
      " [ 0.40949388 -1.36393813  1.00414835]\n",
      " [-0.98973659  0.99096586         nan]\n",
      " [-0.99078978  0.98991644         nan]]\n"
     ]
    }
   ],
   "source": [
    "x_incomplete_normalized=BiScaler().fit_transform(Xstar)\n",
    "x=SoftImpute(verbose= False).fit_transform(x_incomplete_normalized)\n",
    "print(x,'\\n\\n', x_incomplete_normalized)"
   ]
  },
  {
   "cell_type": "code",
   "execution_count": 43,
   "id": "edce4e56",
   "metadata": {},
   "outputs": [
    {
     "name": "stdout",
     "output_type": "stream",
     "text": [
      "[[168.          30.         200.        ]\n",
      " [200.          45.         300.        ]\n",
      " [180.          90.         134.17830118]\n",
      " [129.          70.          90.70721687]] \n",
      "\n",
      " [[168.  30. 200.]\n",
      " [200.  45. 300.]\n",
      " [180.  90.  nan]\n",
      " [129.  70.  nan]]\n"
     ]
    }
   ],
   "source": [
    "x=SoftImpute(verbose= False).fit_transform(Xstar)\n",
    "print(x,'\\n\\n', Xstar)"
   ]
  },
  {
   "cell_type": "code",
   "execution_count": null,
   "id": "b9a773dc",
   "metadata": {},
   "outputs": [],
   "source": []
  }
 ],
 "metadata": {
  "kernelspec": {
   "display_name": "Python 3 (ipykernel)",
   "language": "python",
   "name": "python3"
  },
  "language_info": {
   "codemirror_mode": {
    "name": "ipython",
    "version": 3
   },
   "file_extension": ".py",
   "mimetype": "text/x-python",
   "name": "python",
   "nbconvert_exporter": "python",
   "pygments_lexer": "ipython3",
   "version": "3.9.12"
  }
 },
 "nbformat": 4,
 "nbformat_minor": 5
}
